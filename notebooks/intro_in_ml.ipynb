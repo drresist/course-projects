{
 "cells": [
  {
   "cell_type": "markdown",
   "metadata": {},
   "source": [
    "# Рекомендация тарифов"
   ]
  },
  {
   "cell_type": "markdown",
   "metadata": {},
   "source": [
    "В вашем распоряжении данные о поведении клиентов, которые уже перешли на эти тарифы. \n",
    "\n",
    "Постройте модель с максимально большим значением *accuracy*. Чтобы сдать проект успешно, нужно довести долю правильных ответов по крайней мере до 0.75. Проверьте *accuracy* на тестовой выборке самостоятельно."
   ]
  },
  {
   "cell_type": "markdown",
   "metadata": {},
   "source": [
    "## 1. Откройте и изучите файл\n",
    "\n",
    "Наши данные хранятся в файле \"/datasets/users_behavior.csv\". Прочитаем данный файл и посмотрим на наши данные."
   ]
  },
  {
   "cell_type": "code",
   "execution_count": 1,
   "metadata": {},
   "outputs": [
    {
     "data": {
      "text/html": [
       "<div>\n",
       "<style scoped>\n",
       "    .dataframe tbody tr th:only-of-type {\n",
       "        vertical-align: middle;\n",
       "    }\n",
       "\n",
       "    .dataframe tbody tr th {\n",
       "        vertical-align: top;\n",
       "    }\n",
       "\n",
       "    .dataframe thead th {\n",
       "        text-align: right;\n",
       "    }\n",
       "</style>\n",
       "<table border=\"1\" class=\"dataframe\">\n",
       "  <thead>\n",
       "    <tr style=\"text-align: right;\">\n",
       "      <th></th>\n",
       "      <th>calls</th>\n",
       "      <th>minutes</th>\n",
       "      <th>messages</th>\n",
       "      <th>mb_used</th>\n",
       "      <th>is_ultra</th>\n",
       "    </tr>\n",
       "  </thead>\n",
       "  <tbody>\n",
       "    <tr>\n",
       "      <th>0</th>\n",
       "      <td>40.0</td>\n",
       "      <td>311.90</td>\n",
       "      <td>83.0</td>\n",
       "      <td>19915.42</td>\n",
       "      <td>0</td>\n",
       "    </tr>\n",
       "    <tr>\n",
       "      <th>1</th>\n",
       "      <td>85.0</td>\n",
       "      <td>516.75</td>\n",
       "      <td>56.0</td>\n",
       "      <td>22696.96</td>\n",
       "      <td>0</td>\n",
       "    </tr>\n",
       "    <tr>\n",
       "      <th>2</th>\n",
       "      <td>77.0</td>\n",
       "      <td>467.66</td>\n",
       "      <td>86.0</td>\n",
       "      <td>21060.45</td>\n",
       "      <td>0</td>\n",
       "    </tr>\n",
       "    <tr>\n",
       "      <th>3</th>\n",
       "      <td>106.0</td>\n",
       "      <td>745.53</td>\n",
       "      <td>81.0</td>\n",
       "      <td>8437.39</td>\n",
       "      <td>1</td>\n",
       "    </tr>\n",
       "    <tr>\n",
       "      <th>4</th>\n",
       "      <td>66.0</td>\n",
       "      <td>418.74</td>\n",
       "      <td>1.0</td>\n",
       "      <td>14502.75</td>\n",
       "      <td>0</td>\n",
       "    </tr>\n",
       "    <tr>\n",
       "      <th>5</th>\n",
       "      <td>58.0</td>\n",
       "      <td>344.56</td>\n",
       "      <td>21.0</td>\n",
       "      <td>15823.37</td>\n",
       "      <td>0</td>\n",
       "    </tr>\n",
       "    <tr>\n",
       "      <th>6</th>\n",
       "      <td>57.0</td>\n",
       "      <td>431.64</td>\n",
       "      <td>20.0</td>\n",
       "      <td>3738.90</td>\n",
       "      <td>1</td>\n",
       "    </tr>\n",
       "    <tr>\n",
       "      <th>7</th>\n",
       "      <td>15.0</td>\n",
       "      <td>132.40</td>\n",
       "      <td>6.0</td>\n",
       "      <td>21911.60</td>\n",
       "      <td>0</td>\n",
       "    </tr>\n",
       "    <tr>\n",
       "      <th>8</th>\n",
       "      <td>7.0</td>\n",
       "      <td>43.39</td>\n",
       "      <td>3.0</td>\n",
       "      <td>2538.67</td>\n",
       "      <td>1</td>\n",
       "    </tr>\n",
       "    <tr>\n",
       "      <th>9</th>\n",
       "      <td>90.0</td>\n",
       "      <td>665.41</td>\n",
       "      <td>38.0</td>\n",
       "      <td>17358.61</td>\n",
       "      <td>0</td>\n",
       "    </tr>\n",
       "    <tr>\n",
       "      <th>10</th>\n",
       "      <td>82.0</td>\n",
       "      <td>560.51</td>\n",
       "      <td>20.0</td>\n",
       "      <td>9619.53</td>\n",
       "      <td>1</td>\n",
       "    </tr>\n",
       "    <tr>\n",
       "      <th>11</th>\n",
       "      <td>45.0</td>\n",
       "      <td>344.32</td>\n",
       "      <td>13.0</td>\n",
       "      <td>19898.81</td>\n",
       "      <td>0</td>\n",
       "    </tr>\n",
       "    <tr>\n",
       "      <th>12</th>\n",
       "      <td>51.0</td>\n",
       "      <td>437.13</td>\n",
       "      <td>61.0</td>\n",
       "      <td>21523.58</td>\n",
       "      <td>0</td>\n",
       "    </tr>\n",
       "    <tr>\n",
       "      <th>13</th>\n",
       "      <td>56.0</td>\n",
       "      <td>433.07</td>\n",
       "      <td>16.0</td>\n",
       "      <td>16702.36</td>\n",
       "      <td>0</td>\n",
       "    </tr>\n",
       "    <tr>\n",
       "      <th>14</th>\n",
       "      <td>108.0</td>\n",
       "      <td>587.90</td>\n",
       "      <td>0.0</td>\n",
       "      <td>14406.50</td>\n",
       "      <td>1</td>\n",
       "    </tr>\n",
       "  </tbody>\n",
       "</table>\n",
       "</div>"
      ],
      "text/plain": [
       "    calls  minutes  messages   mb_used  is_ultra\n",
       "0    40.0   311.90      83.0  19915.42         0\n",
       "1    85.0   516.75      56.0  22696.96         0\n",
       "2    77.0   467.66      86.0  21060.45         0\n",
       "3   106.0   745.53      81.0   8437.39         1\n",
       "4    66.0   418.74       1.0  14502.75         0\n",
       "5    58.0   344.56      21.0  15823.37         0\n",
       "6    57.0   431.64      20.0   3738.90         1\n",
       "7    15.0   132.40       6.0  21911.60         0\n",
       "8     7.0    43.39       3.0   2538.67         1\n",
       "9    90.0   665.41      38.0  17358.61         0\n",
       "10   82.0   560.51      20.0   9619.53         1\n",
       "11   45.0   344.32      13.0  19898.81         0\n",
       "12   51.0   437.13      61.0  21523.58         0\n",
       "13   56.0   433.07      16.0  16702.36         0\n",
       "14  108.0   587.90       0.0  14406.50         1"
      ]
     },
     "execution_count": 1,
     "metadata": {},
     "output_type": "execute_result"
    }
   ],
   "source": [
    "import pandas as pd \n",
    "\n",
    "df = pd.read_csv('../datasets/users_behavior.csv')\n",
    "df.head(15)"
   ]
  },
  {
   "cell_type": "code",
   "execution_count": 2,
   "metadata": {},
   "outputs": [
    {
     "name": "stdout",
     "output_type": "stream",
     "text": [
      "<class 'pandas.core.frame.DataFrame'>\n",
      "RangeIndex: 3214 entries, 0 to 3213\n",
      "Data columns (total 5 columns):\n",
      " #   Column    Non-Null Count  Dtype  \n",
      "---  ------    --------------  -----  \n",
      " 0   calls     3214 non-null   float64\n",
      " 1   minutes   3214 non-null   float64\n",
      " 2   messages  3214 non-null   float64\n",
      " 3   mb_used   3214 non-null   float64\n",
      " 4   is_ultra  3214 non-null   int64  \n",
      "dtypes: float64(4), int64(1)\n",
      "memory usage: 125.7 KB\n"
     ]
    }
   ],
   "source": [
    "df.info()"
   ]
  },
  {
   "cell_type": "markdown",
   "metadata": {},
   "source": [
    "У нас имеется 5 столбцов:\n",
    "\n",
    "* сalls — количество звонков,\n",
    "* minutes — суммарная длительность звонков в минутах,\n",
    "* messages — количество sms-сообщений,\n",
    "* mb_used — израсходованный интернет-трафик в Мб,\n",
    "* is_ultra — каким тарифом пользовался в течение месяца («Ультра» — 1, «Смарт» — 0).\n",
    "\n",
    "Первые 4 столбца отлично подходят под признаки, а последний столбец \"is_ultra\" является для нас целевым с двумя категориями - 1 и 0. Данные категории определяют последний тариф для пользователя. \n",
    "\n",
    "\n",
    "Произведём разделение наших данных по следующей схеме:\n",
    "\n",
    "* X_train - признаки для обучения\n",
    "* y_train - цели для обучения\n",
    "* X_val - валидационная выборка признаков\n",
    "* y_val - валидационная выборка целей\n",
    "* X_test - тестовая выборка признаков\n",
    "* y_test- тестовая выборка целей"
   ]
  },
  {
   "cell_type": "markdown",
   "metadata": {},
   "source": [
    "## 2. Разбейте данные на выборки\n",
    "\n",
    "Для начала, разделим наши признаки и цели из общей таблицы. Для этого сохраним их в переменных *X (features)* и *y (targets)*"
   ]
  },
  {
   "cell_type": "code",
   "execution_count": 3,
   "metadata": {},
   "outputs": [],
   "source": [
    "y = df['is_ultra']\n",
    "X = df.drop('is_ultra', axis = 1)"
   ]
  },
  {
   "cell_type": "markdown",
   "metadata": {},
   "source": [
    "Разделим нашу выборку из соотношения 3:1:1. У нас имеется 3214 записей. Сперва, разделим на обучающие и тестовые данные (60 / 40), а после разделим тестовую выборку на 2 части. Итого у нас получится:\n",
    "\n",
    "* 60% под обучение\n",
    "* 20% под валидацию\n",
    "* 20% под тест\n",
    "\n",
    "Разделение будем производить при помощи функции *train_test_split* библиотеки *sklearn*.\n"
   ]
  },
  {
   "cell_type": "code",
   "execution_count": 4,
   "metadata": {},
   "outputs": [],
   "source": [
    "from sklearn.model_selection import train_test_split\n",
    "\n",
    "X_train,X_test,y_train,y_test=train_test_split(X,y,test_size=0.4, random_state = 322)\n",
    "X_test,X_val, y_test, y_val = train_test_split(X_test, y_test, test_size = 0.5, random_state = 322) "
   ]
  },
  {
   "cell_type": "markdown",
   "metadata": {},
   "source": [
    "Проверим, что размерности совпадают с изначально запланированным распределением. "
   ]
  },
  {
   "cell_type": "code",
   "execution_count": 5,
   "metadata": {},
   "outputs": [
    {
     "name": "stdout",
     "output_type": "stream",
     "text": [
      "Train shape (1928, 4)\n",
      "Val shape (643, 4)\n",
      "Test shape (643, 4)\n"
     ]
    }
   ],
   "source": [
    "print(f\"Train shape {X_train.shape}\\nVal shape {X_val.shape}\\nTest shape {X_test.shape}\")"
   ]
  },
  {
   "cell_type": "markdown",
   "metadata": {},
   "source": [
    "## 3. Исследуйте модели\n",
    "\n",
    "Перед нами стоит задача классификации, поэтому используем следующие модели для исследования:\n",
    "\n",
    "* RandomForestClassifier\n",
    "* DecisionTreeClassifier \n",
    "* LogisticRegression \n",
    "\n",
    "Для нас ключевой метрикой является *accuracy*. В связи с этим, мы будем сразу просчитывать процент точности, используя метод *model.score(x,y)*, где x-признаки, а y-цели. \n",
    "\n",
    "\n",
    "### RandomForestClassifier\n",
    "\n",
    "Сначала из библиотеки *sklearn.ensemble* импортируем требуемый нам классификатор. "
   ]
  },
  {
   "cell_type": "code",
   "execution_count": 6,
   "metadata": {},
   "outputs": [],
   "source": [
    "from sklearn.ensemble import RandomForestClassifier"
   ]
  },
  {
   "cell_type": "markdown",
   "metadata": {},
   "source": [
    "Данный классификатор имеет много гиперпараметров, но мы воспользуемся частью из них. \n",
    "\n",
    "* n_estimators (default = 10) - кол-во деревьев в \"лесу\"\n",
    "* max_depth (default=None) - глубина дерева\n",
    "\n",
    "Для исследования воспользуемся циклом, в котором будет увеличиваться число деревьев и мы сможем пронаблюдать самое оптимальное значение. \n",
    "\n",
    "Сначала, посмотрим сколько наша модель выдаст точность при стандартных значениях. "
   ]
  },
  {
   "cell_type": "code",
   "execution_count": 7,
   "metadata": {},
   "outputs": [
    {
     "name": "stdout",
     "output_type": "stream",
     "text": [
      "VAL ACC = 0.7853810264385692\n",
      "CPU times: user 464 ms, sys: 4.34 ms, total: 468 ms\n",
      "Wall time: 468 ms\n"
     ]
    }
   ],
   "source": [
    "%%time\n",
    "model =  RandomForestClassifier(random_state = 322)\n",
    "model.fit(X_train,y_train)\n",
    "    \n",
    "print(f'VAL ACC = {model.score(X_val,y_val)}')"
   ]
  },
  {
   "cell_type": "markdown",
   "metadata": {},
   "source": [
    "При стандартных параметрах у нас получилось добиться 78 % точности на валидационных значениях. Ошибка нам говорит, что в будущей версии *sklearn* параметр *n_estimators* будет увеличен с 10 до 100 (стандартное значение). \n",
    "\n",
    "Попробуем увеличить точность используя цикл, в котором будем перебирать значения кол-ва деревьев 1, 2, 4, 8, 16, 32, 64,100,200. Также, в процессе обучения мы будем сохранять нашу метрику (accuracy) для обучающей и валидационной выборок. По результатам, построим графики, на которых можно будет понять где находится оптимальное значение. "
   ]
  },
  {
   "cell_type": "code",
   "execution_count": 8,
   "metadata": {},
   "outputs": [],
   "source": [
    "n_estimators = [1, 2, 4, 8, 16, 32, 64,100]\n",
    "train_results = []\n",
    "valid_results = []\n",
    "\n",
    "for i in n_estimators:\n",
    "    model = RandomForestClassifier(random_state = 322, n_estimators=i)\n",
    "    model.fit(X_train,y_train)\n",
    "    \n",
    "    train_results.append(model.score(X_train,y_train))\n",
    "    valid_results.append(model.score(X_val,y_val))"
   ]
  },
  {
   "cell_type": "code",
   "execution_count": 9,
   "metadata": {},
   "outputs": [
    {
     "data": {
      "image/png": "[encoded data removed]",
      "text/plain": [
       "<Figure size 432x288 with 1 Axes>"
      ]
     },
     "metadata": {},
     "output_type": "display_data"
    }
   ],
   "source": [
    "import seaborn as sns\n",
    "import matplotlib.pyplot as plt\n",
    "sns.set()\n",
    "\n",
    "\n",
    "line1, = plt.plot(n_estimators, train_results, \"b\")\n",
    "line2, = plt.plot(n_estimators, valid_results, \"r\")\n",
    "\n",
    "plt.ylabel(\"Accuracy\")\n",
    "plt.xlabel(\"n_estimators\")\n",
    "plt.show()"
   ]
  },
  {
   "cell_type": "markdown",
   "metadata": {},
   "source": [
    "По графику видно, что оптимальное значение кол-ва деревьев около 30. После него будет ухудшаться производительность, но точность не возрастает. \n",
    "\n",
    "Далее, посмотрим на влияние \"глубины\" деревьев на точность. Для этого будем изменять значения от 1 до 32 и по результатам также построим график. "
   ]
  },
  {
   "cell_type": "code",
   "execution_count": 10,
   "metadata": {},
   "outputs": [],
   "source": [
    "max_depth = range(1,33)\n",
    "\n",
    "train_results = []\n",
    "valid_results = []\n",
    "\n",
    "for n in max_depth:\n",
    "    model = RandomForestClassifier(random_state = 322, n_estimators=32, max_depth = n)\n",
    "    model.fit(X_train,y_train)\n",
    "    \n",
    "    train_results.append(model.score(X_train,y_train))\n",
    "    valid_results.append(model.score(X_val,y_val))\n",
    "    "
   ]
  },
  {
   "cell_type": "code",
   "execution_count": 11,
   "metadata": {},
   "outputs": [
    {
     "data": {
      "image/png": "[encoded data removed]",
      "text/plain": [
       "<Figure size 432x288 with 1 Axes>"
      ]
     },
     "metadata": {},
     "output_type": "display_data"
    }
   ],
   "source": [
    "line1, = plt.plot(max_depth, train_results, \"b\")\n",
    "line2, = plt.plot(max_depth, valid_results, \"r\")\n",
    "\n",
    "plt.ylabel(\"Accuracy\")\n",
    "plt.xlabel(\"max_depth\")\n",
    "plt.show()"
   ]
  },
  {
   "cell_type": "markdown",
   "metadata": {},
   "source": [
    "Самое высокое значение accuracy у нас при глубине около 10. Посмотрим, чему у нас равняется итоговое качество модели с параметрами:\n",
    "\n",
    "* n_estimators = 30\n",
    "* max_depth = 10"
   ]
  },
  {
   "cell_type": "code",
   "execution_count": 12,
   "metadata": {},
   "outputs": [
    {
     "name": "stdout",
     "output_type": "stream",
     "text": [
      "VAL accuracy = 0.8055987558320373\n",
      "CPU times: user 115 ms, sys: 48 µs, total: 115 ms\n",
      "Wall time: 113 ms\n"
     ]
    }
   ],
   "source": [
    "%%time\n",
    "rnd_forest = RandomForestClassifier(random_state = 322, n_estimators=30, max_depth = 10)\n",
    "rnd_forest.fit(X_train,y_train)\n",
    "print(f\"VAL accuracy = {rnd_forest.score(X_val,y_val)}\")"
   ]
  },
  {
   "cell_type": "markdown",
   "metadata": {},
   "source": [
    "##### Дополнительно. Улучшаем модель путём подбора лучших значений\n",
    "\n",
    "Попробуем увеличить значение нашей точности путём одновременного изменения параметров и последующим выбором наилучшего значения. \n",
    "\n",
    "Для этого сделаем двойной цикл, в котором:\n",
    "* значения max_depth будут в диапазоне от 7 до 15.\n",
    "* кол-во деревьев будет в промежутке от 25 до 35.\n",
    "* после обучения будем сохранять значения в переменной val_score, где:\n",
    "\n",
    "```\n",
    "[n_estimators, max_depth, validation accuracy score]\n",
    "```"
   ]
  },
  {
   "cell_type": "code",
   "execution_count": 13,
   "metadata": {},
   "outputs": [],
   "source": [
    "md = range(7,16)\n",
    "n = range(25,35)\n",
    "val_score = []\n",
    "\n",
    "for n_e in n:\n",
    "    for m in md:\n",
    "        rnd_forest = RandomForestClassifier(n_estimators=n_e, random_state=322, max_depth=m)\n",
    "        rnd_forest.fit(X_train, y_train)\n",
    "        val_score.append([n_e,m,rnd_forest.score(X_val, y_val)])"
   ]
  },
  {
   "cell_type": "code",
   "execution_count": 14,
   "metadata": {},
   "outputs": [
    {
     "data": {
      "text/plain": [
       "[27, 10, 0.8087091757387247]"
      ]
     },
     "execution_count": 14,
     "metadata": {},
     "output_type": "execute_result"
    }
   ],
   "source": [
    "max = [0,0,0]\n",
    "for i in val_score:\n",
    "    if i[2]>max[2]:\n",
    "        max = i\n",
    "max"
   ]
  },
  {
   "cell_type": "markdown",
   "metadata": {},
   "source": [
    "У нас получилось достичь 80.9% точности на валидационных значениях с количеством деревьев 27 и глубиной 10.\n",
    "Посмотрим, что смогут показать другие модели.\n",
    "\n",
    "### DecisionTreeClassifier\n",
    "\n",
    "Импортируем эту модель из библиотеки. Наше древо находится в разделе *sklearn.tree*"
   ]
  },
  {
   "cell_type": "code",
   "execution_count": 15,
   "metadata": {},
   "outputs": [],
   "source": [
    "from sklearn.tree import DecisionTreeClassifier"
   ]
  },
  {
   "cell_type": "markdown",
   "metadata": {},
   "source": [
    "Посмотрим, сколько данная модель выдаст со стандартными значениями. "
   ]
  },
  {
   "cell_type": "code",
   "execution_count": 16,
   "metadata": {},
   "outputs": [
    {
     "name": "stdout",
     "output_type": "stream",
     "text": [
      "0.7200622083981337\n"
     ]
    }
   ],
   "source": [
    "dec_tree = DecisionTreeClassifier(random_state = 322)\n",
    "dec_tree.fit(X_train,y_train)\n",
    "print(dec_tree.score(X_val,y_val))"
   ]
  },
  {
   "cell_type": "markdown",
   "metadata": {},
   "source": [
    "На валидационной выборке у нас получилось всего 72 %. Данная модель проигрывает по качеству случайным деревьям, но выигрывает по скорости. Далее рассмотрим логистическую регрессию.\n",
    "\n",
    "Посмотрим сколько такая модель может выдать при глубине = 5. "
   ]
  },
  {
   "cell_type": "code",
   "execution_count": 17,
   "metadata": {},
   "outputs": [
    {
     "name": "stdout",
     "output_type": "stream",
     "text": [
      "0.7838258164852255\n",
      "CPU times: user 7.54 ms, sys: 12 µs, total: 7.55 ms\n",
      "Wall time: 6.28 ms\n"
     ]
    }
   ],
   "source": [
    "%%time\n",
    "dec_tree = DecisionTreeClassifier(random_state = 322, max_depth = 5)\n",
    "dec_tree.fit(X_train,y_train)\n",
    "print(dec_tree.score(X_val,y_val))"
   ]
  },
  {
   "cell_type": "markdown",
   "metadata": {},
   "source": [
    "У нас при изменении только 1 гиперпараметра удалось достичь 78%. "
   ]
  },
  {
   "cell_type": "markdown",
   "metadata": {},
   "source": [
    "### LogisticRegression\n",
    "\n",
    "Импортируем модель из *sklearn.linear_model*. Обучим модель на нашей выборке и посмотрим, какую точность она выдаст при стандартных параметрах."
   ]
  },
  {
   "cell_type": "code",
   "execution_count": 18,
   "metadata": {},
   "outputs": [
    {
     "name": "stdout",
     "output_type": "stream",
     "text": [
      "0.6858475894245724\n",
      "CPU times: user 13 ms, sys: 0 ns, total: 13 ms\n",
      "Wall time: 16 ms\n"
     ]
    }
   ],
   "source": [
    "%%time\n",
    "from sklearn.linear_model import LogisticRegression\n",
    "\n",
    "log_reg = LogisticRegression(random_state = 322)\n",
    "log_reg.fit(X_train,y_train)\n",
    "print(log_reg.score(X_val,y_val))"
   ]
  },
  {
   "cell_type": "markdown",
   "metadata": {},
   "source": [
    "Ошибка сообщает о том, что в новой версии Sklearn (0.22) гиперпараметр *solver* будет изменён на *lbfgs*. \n",
    "\n",
    "У нас получилось 72% на валидационной выборке. \n",
    "\n",
    "### Вывод\n",
    "\n",
    "|Model|Default|Tune|\n",
    "|-----|-------|----|\n",
    "|Random Forest| 78% | ~81%|\n",
    "|DecisionTreeClassifier |72% | 78% |\n",
    "|Logistic Regression | 72% | | \n",
    "\n",
    "Для нас является ключевой метрикой \n",
    "\n",
    "\n",
    "По данной таблице можно увидеть, что модель случайных деревьев даже при стандартных значениях показывает более высокий результат на нашей валидационной выборке. При \"тюнинге\" гиперпараметров нам удалось достичь ~81% точности, однако стоит учитывать, что Random Forest Classifier медленее работает, чем DecisionTreeClassifier. Используем именно эту модель как итоговую. \n",
    "\n",
    "Проверим нашу модель на тестовой выборке."
   ]
  },
  {
   "cell_type": "markdown",
   "metadata": {},
   "source": [
    "## 4. Проверьте модель на тестовой выборке\n",
    "\n",
    "Ранее нам удалось оптимальные значения гиперпараметров, при которых у нас получилась максимальная точность на валидационной выборке. \n",
    "\n",
    "Проверим нашу модель на тестовой выборке."
   ]
  },
  {
   "cell_type": "code",
   "execution_count": 19,
   "metadata": {},
   "outputs": [
    {
     "name": "stdout",
     "output_type": "stream",
     "text": [
      "0.7729393468118196\n"
     ]
    }
   ],
   "source": [
    "des_tree = DecisionTreeClassifier(random_state=322, max_depth=4)\n",
    "des_tree.fit(X_train,y_train)\n",
    "print(des_tree.score(X_test,y_test))"
   ]
  },
  {
   "cell_type": "markdown",
   "metadata": {},
   "source": [
    "У нас вышло 77%. Данная модель подходит под требуемые критери. "
   ]
  },
  {
   "cell_type": "markdown",
   "metadata": {},
   "source": [
    "## 5. (бонус) Проверьте модели на адекватность\n",
    "\n",
    "\n",
    "Посмотрим на баланс классов в изначальной выборке. "
   ]
  },
  {
   "cell_type": "code",
   "execution_count": 20,
   "metadata": {},
   "outputs": [
    {
     "data": {
      "text/plain": [
       "0    2229\n",
       "1     985\n",
       "Name: is_ultra, dtype: int64"
      ]
     },
     "execution_count": 20,
     "metadata": {},
     "output_type": "execute_result"
    }
   ],
   "source": [
    "df['is_ultra'].value_counts()"
   ]
  },
  {
   "cell_type": "markdown",
   "metadata": {},
   "source": [
    "Посчитаем процентное соотношение классов. "
   ]
  },
  {
   "cell_type": "code",
   "execution_count": 21,
   "metadata": {},
   "outputs": [
    {
     "name": "stdout",
     "output_type": "stream",
     "text": [
      "Процент пользователей:\n",
      "\tSmart ~ 69.3528313627878%\n",
      "\tUltra ~ 30.647168637212204%\n"
     ]
    }
   ],
   "source": [
    "smart_class_percent = (df['is_ultra'].value_counts()[0] * 100)/df['is_ultra'].count()\n",
    "ultra_class_percent = 100 - smart_class_percent\n",
    "print(f'Процент пользователей:\\n\\tSmart ~ {smart_class_percent}%\\n\\tUltra ~ {ultra_class_percent}%')"
   ]
  },
  {
   "cell_type": "markdown",
   "metadata": {},
   "source": [
    "Согласно данному распределению, адекватная модель должна выдать качество более 69%. \n",
    "\n",
    "Ранее, мы проводили исследование работы разных моделей, в которых было видно, что минимальная точность более 100%. \n",
    "\n",
    "|Model|Default|Tune|\n",
    "|-----|-------|----|\n",
    "|Random Forest| 78% | ~81%|\n",
    "|DecisionTreeClassifier |72% | 78% |\n",
    "|Logistic Regression | 72% | | \n",
    "\n",
    "Посмотрим, какое у нас распределение классов на обучающей выборке. "
   ]
  },
  {
   "cell_type": "code",
   "execution_count": 22,
   "metadata": {},
   "outputs": [
    {
     "data": {
      "text/plain": [
       "70.17634854771784"
      ]
     },
     "execution_count": 22,
     "metadata": {},
     "output_type": "execute_result"
    }
   ],
   "source": [
    "(y_train.value_counts()[0] * 100)/y_train.count()"
   ]
  },
  {
   "cell_type": "markdown",
   "metadata": {},
   "source": [
    "Мы получаем соотношение классов 70:30 и наши модели выдали минимальную точность в 72%, что подтверждает их адекватность. "
   ]
  },
  {
   "cell_type": "markdown",
   "metadata": {},
   "source": [
    "## Общий вывод\n",
    "\n",
    "В работе была построена рекомендательная модель тарифных планов. Для построения использовались следующие признаки:\n",
    "\n",
    "* сalls — количество звонков,\n",
    "* minutes — суммарная длительность звонков в минутах,\n",
    "* messages — количество sms-сообщений,\n",
    "* mb_used — израсходованный интернет-трафик в Мб,\n",
    "\n",
    "На выходе из модели мы получаем рекомендуемый нам тариф, где 0 - \"Смарт\", а 1 - \"Ультра\".\n",
    "\n",
    "Были проанализированы три модели:\n",
    "\n",
    "* Random Forest Classifier\n",
    "* Decision Tree Сlassifier\n",
    "* Logistic Regression\n",
    "\n",
    "Метрикой корректности работы модели послужила \n",
    "\n",
    "При использование Random Forest нам изначально удалось достичь требуемой точности (78%), но при дальшейшем изменении гиперпараметров точность повысилась до 81%.\n",
    "\n",
    "При изменении гиперпараметра глубины модель DecisionTreeClassifier выдала 78% точности, что уже удовлетворяет нашим требованиям. \n",
    "\n",
    "Для дальнейшей работы можно использовать обе эти модели, однако надо учитывать, что RandomForestClassifier работает медленнее, чем Decision Tree. \n"
   ]
  }
 ],
 "metadata": {
  "kernelspec": {
   "display_name": "Python 3",
   "language": "python",
   "name": "python3"
  },
  "language_info": {
   "codemirror_mode": {
    "name": "ipython",
    "version": 3
   },
   "file_extension": ".py",
   "mimetype": "text/x-python",
   "name": "python",
   "nbconvert_exporter": "python",
   "pygments_lexer": "ipython3",
   "version": "3.7.6"
  }
 },
 "nbformat": 4,
 "nbformat_minor": 2
}