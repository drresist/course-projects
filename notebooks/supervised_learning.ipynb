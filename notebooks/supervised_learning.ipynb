{
 "cells": [
  {
   "cell_type": "markdown",
   "metadata": {
    "colab_type": "text",
    "id": "6gMPPe1pGIRb"
   },
   "source": [
    "# Отток клиентов"
   ]
  },
  {
   "cell_type": "markdown",
   "metadata": {
    "colab_type": "text",
    "id": "uLy9_8IYGIRf"
   },
   "source": [
    "Прогноз оттока клиентов. \n",
    "\n",
    "Постройте модель с предельно большим значением *F1*-меры. Чтобы сдать проект успешно, нужно довести метрику до 0.59. Проверьте *F1*-меру на тестовой выборке самостоятельно.\n",
    "\n",
    "Дополнительно измеряйте *AUC-ROC*, сравнивайте её значение с *F1*-мерой.\n",
    "\n",
    "Источник данных: [https://www.kaggle.com/barelydedicated/bank-customer-churn-modeling](https://www.kaggle.com/barelydedicated/bank-customer-churn-modeling)"
   ]
  },
  {
   "cell_type": "markdown",
   "metadata": {
    "colab_type": "text",
    "id": "4QBuX9yxGIRg"
   },
   "source": [
    "## План работы \n",
    "\n",
    "1. Загрузка и подготовка данных. \n",
    "    * Проверка на пропуски / дубликаты\n",
    "    * OHE\n",
    "    * Разделение\n",
    "    * Масштабирование\n",
    "2. Исследование баланса классов. \n",
    "    * Обучение модели без учёта дисбаланса\n",
    "    * Выводы\n",
    "3. Улучшение качества модели.\n",
    "    * Учесть и исправить дисбаланс\n",
    "    * Обучить разные модели и выбрать лучшую \n",
    "    * Выводы\n",
    "4. Финальное тестирование\n",
    "5. Вывод"
   ]
  },
  {
   "cell_type": "markdown",
   "metadata": {
    "colab_type": "text",
    "id": "OU4yzdTrGIRh"
   },
   "source": [
    "# 1. Загрузка и подготовка данных.\n",
    "\n",
    "Для начала импортируем библиотеку Pandas для работы с таблицей и посмотрим первые 15 строк. "
   ]
  },
  {
   "cell_type": "code",
   "execution_count": 1,
   "metadata": {},
   "outputs": [
    {
     "name": "stdout",
     "output_type": "stream",
     "text": [
      "<class 'pandas.core.frame.DataFrame'>\n",
      "Int64Index: 10000 entries, 1 to 10000\n",
      "Data columns (total 13 columns):\n",
      "CustomerId         10000 non-null int64\n",
      "Surname            10000 non-null object\n",
      "CreditScore        10000 non-null int64\n",
      "Geography          10000 non-null object\n",
      "Gender             10000 non-null object\n",
      "Age                10000 non-null int64\n",
      "Tenure             9091 non-null float64\n",
      "Balance            10000 non-null float64\n",
      "NumOfProducts      10000 non-null int64\n",
      "HasCrCard          10000 non-null int64\n",
      "IsActiveMember     10000 non-null int64\n",
      "EstimatedSalary    10000 non-null float64\n",
      "Exited             10000 non-null int64\n",
      "dtypes: float64(3), int64(7), object(3)\n",
      "memory usage: 1.1+ MB\n"
     ]
    }
   ],
   "source": [
    "import pandas as pd \n",
    "df = pd.read_csv(\"/datasets/Churn.csv\", index_col='RowNumber')\n",
    "df.info()"
   ]
  },
  {
   "cell_type": "code",
   "execution_count": 2,
   "metadata": {},
   "outputs": [
    {
     "data": {
      "text/html": [
       "<div>\n",
       "<style scoped>\n",
       "    .dataframe tbody tr th:only-of-type {\n",
       "        vertical-align: middle;\n",
       "    }\n",
       "\n",
       "    .dataframe tbody tr th {\n",
       "        vertical-align: top;\n",
       "    }\n",
       "\n",
       "    .dataframe thead th {\n",
       "        text-align: right;\n",
       "    }\n",
       "</style>\n",
       "<table border=\"1\" class=\"dataframe\">\n",
       "  <thead>\n",
       "    <tr style=\"text-align: right;\">\n",
       "      <th></th>\n",
       "      <th>CustomerId</th>\n",
       "      <th>Surname</th>\n",
       "      <th>CreditScore</th>\n",
       "      <th>Geography</th>\n",
       "      <th>Gender</th>\n",
       "      <th>Age</th>\n",
       "      <th>Tenure</th>\n",
       "      <th>Balance</th>\n",
       "      <th>NumOfProducts</th>\n",
       "      <th>HasCrCard</th>\n",
       "      <th>IsActiveMember</th>\n",
       "      <th>EstimatedSalary</th>\n",
       "      <th>Exited</th>\n",
       "    </tr>\n",
       "    <tr>\n",
       "      <th>RowNumber</th>\n",
       "      <th></th>\n",
       "      <th></th>\n",
       "      <th></th>\n",
       "      <th></th>\n",
       "      <th></th>\n",
       "      <th></th>\n",
       "      <th></th>\n",
       "      <th></th>\n",
       "      <th></th>\n",
       "      <th></th>\n",
       "      <th></th>\n",
       "      <th></th>\n",
       "      <th></th>\n",
       "    </tr>\n",
       "  </thead>\n",
       "  <tbody>\n",
       "    <tr>\n",
       "      <td>1</td>\n",
       "      <td>15634602</td>\n",
       "      <td>Hargrave</td>\n",
       "      <td>619</td>\n",
       "      <td>France</td>\n",
       "      <td>Female</td>\n",
       "      <td>42</td>\n",
       "      <td>2.0</td>\n",
       "      <td>0.00</td>\n",
       "      <td>1</td>\n",
       "      <td>1</td>\n",
       "      <td>1</td>\n",
       "      <td>101348.88</td>\n",
       "      <td>1</td>\n",
       "    </tr>\n",
       "    <tr>\n",
       "      <td>2</td>\n",
       "      <td>15647311</td>\n",
       "      <td>Hill</td>\n",
       "      <td>608</td>\n",
       "      <td>Spain</td>\n",
       "      <td>Female</td>\n",
       "      <td>41</td>\n",
       "      <td>1.0</td>\n",
       "      <td>83807.86</td>\n",
       "      <td>1</td>\n",
       "      <td>0</td>\n",
       "      <td>1</td>\n",
       "      <td>112542.58</td>\n",
       "      <td>0</td>\n",
       "    </tr>\n",
       "    <tr>\n",
       "      <td>3</td>\n",
       "      <td>15619304</td>\n",
       "      <td>Onio</td>\n",
       "      <td>502</td>\n",
       "      <td>France</td>\n",
       "      <td>Female</td>\n",
       "      <td>42</td>\n",
       "      <td>8.0</td>\n",
       "      <td>159660.80</td>\n",
       "      <td>3</td>\n",
       "      <td>1</td>\n",
       "      <td>0</td>\n",
       "      <td>113931.57</td>\n",
       "      <td>1</td>\n",
       "    </tr>\n",
       "    <tr>\n",
       "      <td>4</td>\n",
       "      <td>15701354</td>\n",
       "      <td>Boni</td>\n",
       "      <td>699</td>\n",
       "      <td>France</td>\n",
       "      <td>Female</td>\n",
       "      <td>39</td>\n",
       "      <td>1.0</td>\n",
       "      <td>0.00</td>\n",
       "      <td>2</td>\n",
       "      <td>0</td>\n",
       "      <td>0</td>\n",
       "      <td>93826.63</td>\n",
       "      <td>0</td>\n",
       "    </tr>\n",
       "    <tr>\n",
       "      <td>5</td>\n",
       "      <td>15737888</td>\n",
       "      <td>Mitchell</td>\n",
       "      <td>850</td>\n",
       "      <td>Spain</td>\n",
       "      <td>Female</td>\n",
       "      <td>43</td>\n",
       "      <td>2.0</td>\n",
       "      <td>125510.82</td>\n",
       "      <td>1</td>\n",
       "      <td>1</td>\n",
       "      <td>1</td>\n",
       "      <td>79084.10</td>\n",
       "      <td>0</td>\n",
       "    </tr>\n",
       "    <tr>\n",
       "      <td>6</td>\n",
       "      <td>15574012</td>\n",
       "      <td>Chu</td>\n",
       "      <td>645</td>\n",
       "      <td>Spain</td>\n",
       "      <td>Male</td>\n",
       "      <td>44</td>\n",
       "      <td>8.0</td>\n",
       "      <td>113755.78</td>\n",
       "      <td>2</td>\n",
       "      <td>1</td>\n",
       "      <td>0</td>\n",
       "      <td>149756.71</td>\n",
       "      <td>1</td>\n",
       "    </tr>\n",
       "    <tr>\n",
       "      <td>7</td>\n",
       "      <td>15592531</td>\n",
       "      <td>Bartlett</td>\n",
       "      <td>822</td>\n",
       "      <td>France</td>\n",
       "      <td>Male</td>\n",
       "      <td>50</td>\n",
       "      <td>7.0</td>\n",
       "      <td>0.00</td>\n",
       "      <td>2</td>\n",
       "      <td>1</td>\n",
       "      <td>1</td>\n",
       "      <td>10062.80</td>\n",
       "      <td>0</td>\n",
       "    </tr>\n",
       "    <tr>\n",
       "      <td>8</td>\n",
       "      <td>15656148</td>\n",
       "      <td>Obinna</td>\n",
       "      <td>376</td>\n",
       "      <td>Germany</td>\n",
       "      <td>Female</td>\n",
       "      <td>29</td>\n",
       "      <td>4.0</td>\n",
       "      <td>115046.74</td>\n",
       "      <td>4</td>\n",
       "      <td>1</td>\n",
       "      <td>0</td>\n",
       "      <td>119346.88</td>\n",
       "      <td>1</td>\n",
       "    </tr>\n",
       "    <tr>\n",
       "      <td>9</td>\n",
       "      <td>15792365</td>\n",
       "      <td>He</td>\n",
       "      <td>501</td>\n",
       "      <td>France</td>\n",
       "      <td>Male</td>\n",
       "      <td>44</td>\n",
       "      <td>4.0</td>\n",
       "      <td>142051.07</td>\n",
       "      <td>2</td>\n",
       "      <td>0</td>\n",
       "      <td>1</td>\n",
       "      <td>74940.50</td>\n",
       "      <td>0</td>\n",
       "    </tr>\n",
       "    <tr>\n",
       "      <td>10</td>\n",
       "      <td>15592389</td>\n",
       "      <td>H?</td>\n",
       "      <td>684</td>\n",
       "      <td>France</td>\n",
       "      <td>Male</td>\n",
       "      <td>27</td>\n",
       "      <td>2.0</td>\n",
       "      <td>134603.88</td>\n",
       "      <td>1</td>\n",
       "      <td>1</td>\n",
       "      <td>1</td>\n",
       "      <td>71725.73</td>\n",
       "      <td>0</td>\n",
       "    </tr>\n",
       "    <tr>\n",
       "      <td>11</td>\n",
       "      <td>15767821</td>\n",
       "      <td>Bearce</td>\n",
       "      <td>528</td>\n",
       "      <td>France</td>\n",
       "      <td>Male</td>\n",
       "      <td>31</td>\n",
       "      <td>6.0</td>\n",
       "      <td>102016.72</td>\n",
       "      <td>2</td>\n",
       "      <td>0</td>\n",
       "      <td>0</td>\n",
       "      <td>80181.12</td>\n",
       "      <td>0</td>\n",
       "    </tr>\n",
       "    <tr>\n",
       "      <td>12</td>\n",
       "      <td>15737173</td>\n",
       "      <td>Andrews</td>\n",
       "      <td>497</td>\n",
       "      <td>Spain</td>\n",
       "      <td>Male</td>\n",
       "      <td>24</td>\n",
       "      <td>3.0</td>\n",
       "      <td>0.00</td>\n",
       "      <td>2</td>\n",
       "      <td>1</td>\n",
       "      <td>0</td>\n",
       "      <td>76390.01</td>\n",
       "      <td>0</td>\n",
       "    </tr>\n",
       "    <tr>\n",
       "      <td>13</td>\n",
       "      <td>15632264</td>\n",
       "      <td>Kay</td>\n",
       "      <td>476</td>\n",
       "      <td>France</td>\n",
       "      <td>Female</td>\n",
       "      <td>34</td>\n",
       "      <td>10.0</td>\n",
       "      <td>0.00</td>\n",
       "      <td>2</td>\n",
       "      <td>1</td>\n",
       "      <td>0</td>\n",
       "      <td>26260.98</td>\n",
       "      <td>0</td>\n",
       "    </tr>\n",
       "    <tr>\n",
       "      <td>14</td>\n",
       "      <td>15691483</td>\n",
       "      <td>Chin</td>\n",
       "      <td>549</td>\n",
       "      <td>France</td>\n",
       "      <td>Female</td>\n",
       "      <td>25</td>\n",
       "      <td>5.0</td>\n",
       "      <td>0.00</td>\n",
       "      <td>2</td>\n",
       "      <td>0</td>\n",
       "      <td>0</td>\n",
       "      <td>190857.79</td>\n",
       "      <td>0</td>\n",
       "    </tr>\n",
       "    <tr>\n",
       "      <td>15</td>\n",
       "      <td>15600882</td>\n",
       "      <td>Scott</td>\n",
       "      <td>635</td>\n",
       "      <td>Spain</td>\n",
       "      <td>Female</td>\n",
       "      <td>35</td>\n",
       "      <td>7.0</td>\n",
       "      <td>0.00</td>\n",
       "      <td>2</td>\n",
       "      <td>1</td>\n",
       "      <td>1</td>\n",
       "      <td>65951.65</td>\n",
       "      <td>0</td>\n",
       "    </tr>\n",
       "  </tbody>\n",
       "</table>\n",
       "</div>"
      ],
      "text/plain": [
       "           CustomerId   Surname  CreditScore Geography  Gender  Age  Tenure  \\\n",
       "RowNumber                                                                     \n",
       "1            15634602  Hargrave          619    France  Female   42     2.0   \n",
       "2            15647311      Hill          608     Spain  Female   41     1.0   \n",
       "3            15619304      Onio          502    France  Female   42     8.0   \n",
       "4            15701354      Boni          699    France  Female   39     1.0   \n",
       "5            15737888  Mitchell          850     Spain  Female   43     2.0   \n",
       "6            15574012       Chu          645     Spain    Male   44     8.0   \n",
       "7            15592531  Bartlett          822    France    Male   50     7.0   \n",
       "8            15656148    Obinna          376   Germany  Female   29     4.0   \n",
       "9            15792365        He          501    France    Male   44     4.0   \n",
       "10           15592389        H?          684    France    Male   27     2.0   \n",
       "11           15767821    Bearce          528    France    Male   31     6.0   \n",
       "12           15737173   Andrews          497     Spain    Male   24     3.0   \n",
       "13           15632264       Kay          476    France  Female   34    10.0   \n",
       "14           15691483      Chin          549    France  Female   25     5.0   \n",
       "15           15600882     Scott          635     Spain  Female   35     7.0   \n",
       "\n",
       "             Balance  NumOfProducts  HasCrCard  IsActiveMember  \\\n",
       "RowNumber                                                        \n",
       "1               0.00              1          1               1   \n",
       "2           83807.86              1          0               1   \n",
       "3          159660.80              3          1               0   \n",
       "4               0.00              2          0               0   \n",
       "5          125510.82              1          1               1   \n",
       "6          113755.78              2          1               0   \n",
       "7               0.00              2          1               1   \n",
       "8          115046.74              4          1               0   \n",
       "9          142051.07              2          0               1   \n",
       "10         134603.88              1          1               1   \n",
       "11         102016.72              2          0               0   \n",
       "12              0.00              2          1               0   \n",
       "13              0.00              2          1               0   \n",
       "14              0.00              2          0               0   \n",
       "15              0.00              2          1               1   \n",
       "\n",
       "           EstimatedSalary  Exited  \n",
       "RowNumber                           \n",
       "1                101348.88       1  \n",
       "2                112542.58       0  \n",
       "3                113931.57       1  \n",
       "4                 93826.63       0  \n",
       "5                 79084.10       0  \n",
       "6                149756.71       1  \n",
       "7                 10062.80       0  \n",
       "8                119346.88       1  \n",
       "9                 74940.50       0  \n",
       "10                71725.73       0  \n",
       "11                80181.12       0  \n",
       "12                76390.01       0  \n",
       "13                26260.98       0  \n",
       "14               190857.79       0  \n",
       "15                65951.65       0  "
      ]
     },
     "execution_count": 2,
     "metadata": {},
     "output_type": "execute_result"
    }
   ],
   "source": [
    "df.head(15)"
   ]
  },
  {
   "cell_type": "markdown",
   "metadata": {
    "colab_type": "text",
    "id": "xZotCh3eGIRn"
   },
   "source": [
    "Проверим данные на пропуски."
   ]
  },
  {
   "cell_type": "code",
   "execution_count": 3,
   "metadata": {},
   "outputs": [
    {
     "data": {
      "text/plain": [
       "CustomerId           0\n",
       "Surname              0\n",
       "CreditScore          0\n",
       "Geography            0\n",
       "Gender               0\n",
       "Age                  0\n",
       "Tenure             909\n",
       "Balance              0\n",
       "NumOfProducts        0\n",
       "HasCrCard            0\n",
       "IsActiveMember       0\n",
       "EstimatedSalary      0\n",
       "Exited               0\n",
       "dtype: int64"
      ]
     },
     "execution_count": 3,
     "metadata": {},
     "output_type": "execute_result"
    }
   ],
   "source": [
    "df.isna().sum()"
   ]
  },
  {
   "cell_type": "markdown",
   "metadata": {
    "colab_type": "text",
    "id": "VjCEC-N8GIRr"
   },
   "source": [
    "У нас наблюдается 909 пропущенных значений в столбце \"Tenure\" (кол-во недвижимости). Заменим пропуски на медианные значения по данному столбцу. "
   ]
  },
  {
   "cell_type": "code",
   "execution_count": 4,
   "metadata": {},
   "outputs": [
    {
     "data": {
      "text/plain": [
       "CustomerId         0\n",
       "Surname            0\n",
       "CreditScore        0\n",
       "Geography          0\n",
       "Gender             0\n",
       "Age                0\n",
       "Tenure             0\n",
       "Balance            0\n",
       "NumOfProducts      0\n",
       "HasCrCard          0\n",
       "IsActiveMember     0\n",
       "EstimatedSalary    0\n",
       "Exited             0\n",
       "dtype: int64"
      ]
     },
     "execution_count": 4,
     "metadata": {},
     "output_type": "execute_result"
    }
   ],
   "source": [
    "df = df.fillna(df['Tenure'].median())\n",
    "df.isna().sum()"
   ]
  },
  {
   "cell_type": "markdown",
   "metadata": {},
   "source": [
    "Проверим, имеются ли дублирующиеся строки. "
   ]
  },
  {
   "cell_type": "code",
   "execution_count": 46,
   "metadata": {},
   "outputs": [
    {
     "data": {
      "text/plain": [
       "0"
      ]
     },
     "execution_count": 46,
     "metadata": {},
     "output_type": "execute_result"
    }
   ],
   "source": [
    "df.duplicated().sum()"
   ]
  },
  {
   "cell_type": "markdown",
   "metadata": {},
   "source": [
    "### OHE \n",
    "\n",
    "Мы видим, что в таблице признаки указаны как в численном виде, так и в строчном. (Surname, Gender, Geography). Фамилия клиента нам не так важна, поэтому не будем её использовать как признак, а вот к остальным признакам применем технику *One-hot Encoding*. Для избежания *дамми-ловушки* будем убирать первый столбец. Новый датафрейм назовём df_ohe"
   ]
  },
  {
   "cell_type": "code",
   "execution_count": 47,
   "metadata": {},
   "outputs": [
    {
     "data": {
      "text/html": [
       "<div>\n",
       "<style scoped>\n",
       "    .dataframe tbody tr th:only-of-type {\n",
       "        vertical-align: middle;\n",
       "    }\n",
       "\n",
       "    .dataframe tbody tr th {\n",
       "        vertical-align: top;\n",
       "    }\n",
       "\n",
       "    .dataframe thead th {\n",
       "        text-align: right;\n",
       "    }\n",
       "</style>\n",
       "<table border=\"1\" class=\"dataframe\">\n",
       "  <thead>\n",
       "    <tr style=\"text-align: right;\">\n",
       "      <th></th>\n",
       "      <th>CustomerId</th>\n",
       "      <th>CreditScore</th>\n",
       "      <th>Age</th>\n",
       "      <th>Tenure</th>\n",
       "      <th>Balance</th>\n",
       "      <th>NumOfProducts</th>\n",
       "      <th>HasCrCard</th>\n",
       "      <th>IsActiveMember</th>\n",
       "      <th>EstimatedSalary</th>\n",
       "      <th>Exited</th>\n",
       "      <th>Geography_Germany</th>\n",
       "      <th>Geography_Spain</th>\n",
       "      <th>Gender_Male</th>\n",
       "    </tr>\n",
       "    <tr>\n",
       "      <th>RowNumber</th>\n",
       "      <th></th>\n",
       "      <th></th>\n",
       "      <th></th>\n",
       "      <th></th>\n",
       "      <th></th>\n",
       "      <th></th>\n",
       "      <th></th>\n",
       "      <th></th>\n",
       "      <th></th>\n",
       "      <th></th>\n",
       "      <th></th>\n",
       "      <th></th>\n",
       "      <th></th>\n",
       "    </tr>\n",
       "  </thead>\n",
       "  <tbody>\n",
       "    <tr>\n",
       "      <td>1</td>\n",
       "      <td>15634602</td>\n",
       "      <td>619</td>\n",
       "      <td>42</td>\n",
       "      <td>2.0</td>\n",
       "      <td>0.00</td>\n",
       "      <td>1</td>\n",
       "      <td>1</td>\n",
       "      <td>1</td>\n",
       "      <td>101348.88</td>\n",
       "      <td>1</td>\n",
       "      <td>0</td>\n",
       "      <td>0</td>\n",
       "      <td>0</td>\n",
       "    </tr>\n",
       "    <tr>\n",
       "      <td>2</td>\n",
       "      <td>15647311</td>\n",
       "      <td>608</td>\n",
       "      <td>41</td>\n",
       "      <td>1.0</td>\n",
       "      <td>83807.86</td>\n",
       "      <td>1</td>\n",
       "      <td>0</td>\n",
       "      <td>1</td>\n",
       "      <td>112542.58</td>\n",
       "      <td>0</td>\n",
       "      <td>0</td>\n",
       "      <td>1</td>\n",
       "      <td>0</td>\n",
       "    </tr>\n",
       "    <tr>\n",
       "      <td>3</td>\n",
       "      <td>15619304</td>\n",
       "      <td>502</td>\n",
       "      <td>42</td>\n",
       "      <td>8.0</td>\n",
       "      <td>159660.80</td>\n",
       "      <td>3</td>\n",
       "      <td>1</td>\n",
       "      <td>0</td>\n",
       "      <td>113931.57</td>\n",
       "      <td>1</td>\n",
       "      <td>0</td>\n",
       "      <td>0</td>\n",
       "      <td>0</td>\n",
       "    </tr>\n",
       "    <tr>\n",
       "      <td>4</td>\n",
       "      <td>15701354</td>\n",
       "      <td>699</td>\n",
       "      <td>39</td>\n",
       "      <td>1.0</td>\n",
       "      <td>0.00</td>\n",
       "      <td>2</td>\n",
       "      <td>0</td>\n",
       "      <td>0</td>\n",
       "      <td>93826.63</td>\n",
       "      <td>0</td>\n",
       "      <td>0</td>\n",
       "      <td>0</td>\n",
       "      <td>0</td>\n",
       "    </tr>\n",
       "    <tr>\n",
       "      <td>5</td>\n",
       "      <td>15737888</td>\n",
       "      <td>850</td>\n",
       "      <td>43</td>\n",
       "      <td>2.0</td>\n",
       "      <td>125510.82</td>\n",
       "      <td>1</td>\n",
       "      <td>1</td>\n",
       "      <td>1</td>\n",
       "      <td>79084.10</td>\n",
       "      <td>0</td>\n",
       "      <td>0</td>\n",
       "      <td>1</td>\n",
       "      <td>0</td>\n",
       "    </tr>\n",
       "  </tbody>\n",
       "</table>\n",
       "</div>"
      ],
      "text/plain": [
       "           CustomerId  CreditScore  Age  Tenure    Balance  NumOfProducts  \\\n",
       "RowNumber                                                                   \n",
       "1            15634602          619   42     2.0       0.00              1   \n",
       "2            15647311          608   41     1.0   83807.86              1   \n",
       "3            15619304          502   42     8.0  159660.80              3   \n",
       "4            15701354          699   39     1.0       0.00              2   \n",
       "5            15737888          850   43     2.0  125510.82              1   \n",
       "\n",
       "           HasCrCard  IsActiveMember  EstimatedSalary  Exited  \\\n",
       "RowNumber                                                       \n",
       "1                  1               1        101348.88       1   \n",
       "2                  0               1        112542.58       0   \n",
       "3                  1               0        113931.57       1   \n",
       "4                  0               0         93826.63       0   \n",
       "5                  1               1         79084.10       0   \n",
       "\n",
       "           Geography_Germany  Geography_Spain  Gender_Male  \n",
       "RowNumber                                                   \n",
       "1                          0                0            0  \n",
       "2                          0                1            0  \n",
       "3                          0                0            0  \n",
       "4                          0                0            0  \n",
       "5                          0                1            0  "
      ]
     },
     "execution_count": 47,
     "metadata": {},
     "output_type": "execute_result"
    }
   ],
   "source": [
    "df_ohe = pd.get_dummies(df.drop('Surname', axis = 1), drop_first=True)\n",
    "df_ohe.head(5)"
   ]
  },
  {
   "cell_type": "markdown",
   "metadata": {},
   "source": [
    "### Масштабирование признаков \n",
    "\n",
    "В количественных столбцах имеется сильный разброс значений. Это может привести к проблеме, так как алгоритм сочтёт, что признаки с большими значениями и разбросом важнее остальных. Используем стандартизацию данных. \n",
    "\n",
    "Для начала, произведём разделение нашего датасета на обучающую, валидационную и тестовую выборку в соотношении (60 | 20 | 20).\n",
    "\n",
    "После, произведём масштабирование признаком функцией `RobustScaler()`. "
   ]
  },
  {
   "cell_type": "code",
   "execution_count": 61,
   "metadata": {},
   "outputs": [],
   "source": [
    "from sklearn.model_selection import train_test_split\n",
    "\n",
    "y = df_ohe['Exited']\n",
    "X = df_ohe.drop('Exited', axis = 1)"
   ]
  },
  {
   "cell_type": "code",
   "execution_count": 62,
   "metadata": {},
   "outputs": [],
   "source": [
    "# Создадим функцию trainValTest(x,y), которая делит переданные ей признаки на три выборки - Train Val Test в соотношении 60 20 20 \n",
    "def trainValTest(X,y):\n",
    "    X_train,X_test,y_train,y_test = train_test_split(X,y, test_size = 0.4, random_state = 42)\n",
    "    X_test,X_val,y_test,y_val = train_test_split(X_test,y_test, test_size = 0.5, random_state = 42)\n",
    "    \n",
    "    return X_train,y_train,X_val,y_val,X_test,y_test\n",
    "\n",
    "X_train,y_train,X_val,y_val,X_test,y_test = trainValTest(X,y)"
   ]
  },
  {
   "cell_type": "markdown",
   "metadata": {},
   "source": [
    "Проверим итоговые размерности наших выборок."
   ]
  },
  {
   "cell_type": "code",
   "execution_count": 63,
   "metadata": {},
   "outputs": [
    {
     "name": "stdout",
     "output_type": "stream",
     "text": [
      "(6000, 12) (2000, 12) (2000, 12)\n"
     ]
    }
   ],
   "source": [
    "print(X_train.shape, X_test.shape, X_val.shape)"
   ]
  },
  {
   "cell_type": "code",
   "execution_count": 64,
   "metadata": {},
   "outputs": [],
   "source": [
    "#Standardization\n",
    "from sklearn.preprocessing import RobustScaler\n",
    "\n",
    "sc=RobustScaler()\n",
    "\n",
    "sc_fit = sc.fit(X_train)\n",
    "\n",
    "X_train = pd.DataFrame(sc_fit.transform(X_train), columns = X_train.columns, index = X_train.index)\n",
    "\n",
    "X_val = pd.DataFrame(sc_fit.transform(X_val), columns = X_train.columns, index = X_val.index)\n",
    "\n",
    "X_test = pd.DataFrame(sc_fit.transform(X_val), columns = X_train.columns, index = X_test.index)"
   ]
  },
  {
   "cell_type": "markdown",
   "metadata": {},
   "source": [
    "#### Краткий вывод\n",
    "\n",
    "Нам дана таблица с информацией о банковских клентах. При анализе таблицы были выявлены следующие проблемы:\n",
    "* Наличие пропусков в таблице с Tenure (Кол-во недвижимости у клиента). Причиной появление пропуска может быть:\n",
    "    * Отказ от предоставления информации\n",
    "    * Отсутствие недвижимости у клиента\n",
    "        \n",
    "*Решение*: Кодировка признаков через One-Hot encoding   \n",
    "* В столбцах имеются категориальные строковые признаки, которые было необходимо преобразовать для дальнейшей работы. \n",
    "\n",
    "*Решение*: Кодировка признаков через One-Hot encoding\n",
    "* Наблюдается сильный дисбаланс в значениях признаков. Для корректного дальнейшего обучения модели нам необходимо \"нормализовать\" данные и привести их к единому масштабу. \n",
    "\n",
    "*Решение*: Использование модуля *StandardScaler* из библиотеки sklearn.preprocessing\n",
    "\n",
    "После данных изменений было выполнено разделение нашего датасета на:\n",
    "* 60% - обучающая выборка\n",
    "* 20% - валидационная \n",
    "* 20% - тестирование\n"
   ]
  },
  {
   "cell_type": "markdown",
   "metadata": {
    "colab_type": "text",
    "id": "wBcCrms2GIR1"
   },
   "source": [
    "# 2. Исследование баланса классов \n",
    "\n",
    "\n",
    "### Баланс классов \n",
    "\n",
    "Посмотрим, какое распределение классов у нас изначально в таблице. "
   ]
  },
  {
   "cell_type": "code",
   "execution_count": 65,
   "metadata": {},
   "outputs": [
    {
     "name": "stdout",
     "output_type": "stream",
     "text": [
      "Exited = 1 : 2037\n",
      "Exited = 0 : 7963\n"
     ]
    }
   ],
   "source": [
    "print(f\"Exited = 1 : {(y == 1).sum()}\\nExited = 0 : {(y == 0).sum()}\")"
   ]
  },
  {
   "cell_type": "markdown",
   "metadata": {
    "colab_type": "text",
    "id": "O1OHOAF2GYbl"
   },
   "source": [
    "У нас наблюдается дисбаланс классов в соотношении ~ *80 к 20*. (80% активных клиентов / 20% клиентов ушли)\n",
    "\n",
    "Попробуем обучить две модели:\n",
    "    * Logistic Regression\n",
    "    * Random Forest classifier\n",
    "\n",
    "Основной метрикой будет являться F1-мера. Нам необходимо достичь значения в 0.59. \n",
    "\n",
    "\n",
    "> *F1-мера* представляет собой гармоническое среднее между точностью и полнотой. Она стремится к нулю, если точность или полнота стремится к нулю.\n",
    "\n",
    "Дополнительно, будем отслеживать ROC-AUC. \n",
    "\n",
    "> ROC-AUC является площадью под кривой ROC. \n",
    "\n",
    ">ROC-кривая (кривая ошибок) - график зависимости доли истинно положительных ответов от долю ложноположительных ответов\n",
    "\n"
   ]
  },
  {
   "cell_type": "markdown",
   "metadata": {},
   "source": [
    "##### Logistic Regression"
   ]
  },
  {
   "cell_type": "code",
   "execution_count": 66,
   "metadata": {},
   "outputs": [],
   "source": [
    "from sklearn.linear_model import LogisticRegression\n",
    "\n",
    "# Создаем модель\n",
    "log_reg = LogisticRegression(random_state = 42, solver = 'lbfgs')\n",
    "log_reg.fit(X_train,y_train)\n",
    "\n",
    "val_prob = log_reg.predict_proba(X_val)\n",
    "val_1_prob = val_prob[:,1]\n",
    "val_pred = log_reg.predict(X_val)"
   ]
  },
  {
   "cell_type": "markdown",
   "metadata": {},
   "source": [
    "Построим ROC-график. Для построения используем функцию roc_curve. "
   ]
  },
  {
   "cell_type": "code",
   "execution_count": 67,
   "metadata": {},
   "outputs": [
    {
     "data": {
      "image/png": "[encoded data removed]",
      "text/plain": [
       "<Figure size 432x288 with 1 Axes>"
      ]
     },
     "metadata": {
      "needs_background": "light"
     },
     "output_type": "display_data"
    }
   ],
   "source": [
    "from sklearn.metrics import roc_curve\n",
    "import matplotlib.pyplot as plt\n",
    "\n",
    "def rocCurve(y_val, val_1_prob):\n",
    "    fpr, tpr, thresholds = roc_curve(y_val, val_1_prob)\n",
    "\n",
    "    plt.figure()\n",
    "    # ROC-кривая случайной модели (выглядит как прямая)\n",
    "    plt.plot([0, 1], [0, 1], linestyle='--')\n",
    "    plt.plot(fpr, tpr)\n",
    "    plt.xlim([0.0, 1.0])\n",
    "    plt.ylim([0.0, 1.0])\n",
    "    plt.xlabel('False Positive Rate')\n",
    "    plt.ylabel('True Positive Rate')\n",
    "    plt.title('ROC-кривая')\n",
    "    plt.show()\n",
    "rocCurve(y_val, val_1_prob)"
   ]
  },
  {
   "cell_type": "code",
   "execution_count": 68,
   "metadata": {},
   "outputs": [
    {
     "name": "stdout",
     "output_type": "stream",
     "text": [
      "              precision    recall  f1-score   support\n",
      "\n",
      "           0       0.82      0.96      0.88      1570\n",
      "           1       0.59      0.22      0.32       430\n",
      "\n",
      "    accuracy                           0.80      2000\n",
      "   macro avg       0.70      0.59      0.60      2000\n",
      "weighted avg       0.77      0.80      0.76      2000\n",
      "\n"
     ]
    }
   ],
   "source": [
    "from sklearn.linear_model import LogisticRegression\n",
    "from sklearn.metrics import confusion_matrix, classification_report\n",
    "from matplotlib import pyplot as plt\n",
    "\n",
    "val_pred = log_reg.predict(X_val)\n",
    "print(classification_report(y_val, val_pred))"
   ]
  },
  {
   "cell_type": "markdown",
   "metadata": {},
   "source": [
    "Из таблицы выше мы можем увидеть как различается F1-score для 0 и для 1. Мы видим, что разница более чем в 2 раза. Это обусловлено большой разницы в \"полноте\" (Recall). Разница в точности определения классов (Precision) не такая большая.\n",
    "\n",
    "По графику видно, что наша модель лучше, чем случайная модель. Для того, чтобы понять насколько лучше, посчитаем площадь под кривой - AUC-ROC (значение случайной модели = 0.5). Дополнительно, посмотрим чему равняется F1 мера."
   ]
  },
  {
   "cell_type": "code",
   "execution_count": 69,
   "metadata": {},
   "outputs": [
    {
     "name": "stdout",
     "output_type": "stream",
     "text": [
      "AUC-ROC = 0.7791245741371648\n",
      "F1 score = 0.3163265306122449\n"
     ]
    }
   ],
   "source": [
    "from sklearn.metrics import f1_score, roc_auc_score, precision_score, recall_score\n",
    "\n",
    "print(f\"AUC-ROC = {roc_auc_score(y_val, val_1_prob)}\")\n",
    "print(f\"F1 score = {f1_score(y_val, val_pred)}\")"
   ]
  },
  {
   "cell_type": "markdown",
   "metadata": {},
   "source": [
    "##### RandomForestClassifier"
   ]
  },
  {
   "cell_type": "code",
   "execution_count": 70,
   "metadata": {},
   "outputs": [],
   "source": [
    "from sklearn.ensemble import RandomForestClassifier\n",
    "\n",
    "#Модель - Случайны лес \n",
    "rnd_forest = RandomForestClassifier(n_estimators = 10, random_state=42)\n",
    "rnd_forest.fit(X_train,y_train)\n",
    "\n",
    "\"\"\"\n",
    "val_prob - вероятности классов 0 и 1\n",
    "val_1_prob - вероятность класса 1\n",
    "val_pred - предсказания по валидационным признакам\n",
    "\"\"\"\n",
    "val_prob = rnd_forest.predict_proba(X_val)\n",
    "val_1_prob = val_prob[:,1]\n",
    "val_pred = rnd_forest.predict(X_val)\n"
   ]
  },
  {
   "cell_type": "code",
   "execution_count": 71,
   "metadata": {},
   "outputs": [
    {
     "data": {
      "image/png": "[encoded data removed]",
      "text/plain": [
       "<Figure size 432x288 with 1 Axes>"
      ]
     },
     "metadata": {
      "needs_background": "light"
     },
     "output_type": "display_data"
    }
   ],
   "source": [
    "rocCurve(y_val, val_1_prob)"
   ]
  },
  {
   "cell_type": "code",
   "execution_count": 72,
   "metadata": {
    "scrolled": true
   },
   "outputs": [
    {
     "name": "stdout",
     "output_type": "stream",
     "text": [
      "AUC-ROC = 0.8285676196119093\n",
      "F1 score = 0.5730994152046784\n",
      "              precision    recall  f1-score   support\n",
      "\n",
      "           0       0.87      0.96      0.91      1570\n",
      "           1       0.77      0.46      0.57       430\n",
      "\n",
      "    accuracy                           0.85      2000\n",
      "   macro avg       0.82      0.71      0.74      2000\n",
      "weighted avg       0.85      0.85      0.84      2000\n",
      "\n"
     ]
    }
   ],
   "source": [
    "print(f\"AUC-ROC = {roc_auc_score(y_val, val_1_prob)}\")\n",
    "print(f\"F1 score = {f1_score(y_val, val_pred)}\")\n",
    "\n",
    "\n",
    "val_pred = rnd_forest.predict(X_val)\n",
    "print(classification_report(y_val, val_pred))"
   ]
  },
  {
   "cell_type": "markdown",
   "metadata": {
    "colab_type": "text",
    "id": "rcdISp5fa0nu"
   },
   "source": [
    "Значение F1-меры = 0.57,что ниже требуемых 0.59, но значительно выше чем у логистической регрессии.  В это время ROC-AUC = 0.826, что является высоким показателем. \n",
    "\n",
    "Видно, что у нас Recall для класса 1 ниже, чем для 0, но почти в 2 раза выше, чем у стандартной логистической регрессии.  "
   ]
  },
  {
   "cell_type": "markdown",
   "metadata": {
    "colab_type": "text",
    "id": "zOVLyZCMbLUI"
   },
   "source": [
    "### Краткий вывод\n",
    "\n",
    "Мы обнаружили, что наблюдается сильный дисбаланс классов. (80 к 20)\n",
    "\n",
    "Высокий AUC ROC по сравнению с низким F1 означает, что классификатор в настоящее время делает, однако можно найти классовый порог, при котором он хорошо отработает. \n"
   ]
  },
  {
   "cell_type": "markdown",
   "metadata": {
    "colab_type": "text",
    "id": "G16N4Zi0GISC"
   },
   "source": [
    "# 3. Борьба с дисбалансом\n",
    "\n",
    "Для избавления от дисбаланса воспользуемся следующими техниками:\n",
    "* model(class_weight = \"balanced\")\n",
    "* Upsampling\n",
    "\n",
    "Рассмотрим это для двух моделей.\n",
    "\n",
    "### class_weight = \"balanced\"\n",
    "\n",
    "Попробуем исползовать следующий параметр при обучении. При его использовании модель при обучении будет \"штрафовать\" более часто встречаемый класс. Попробуем данный параметр для логистической регрессии. "
   ]
  },
  {
   "cell_type": "code",
   "execution_count": 75,
   "metadata": {},
   "outputs": [
    {
     "name": "stdout",
     "output_type": "stream",
     "text": [
      "AUC-ROC = 0.7833491334617094\n",
      "F1 score = 0.5016501650165016\n"
     ]
    },
    {
     "data": {
      "image/png": "[encoded data removed]",
      "text/plain": [
       "<Figure size 432x288 with 1 Axes>"
      ]
     },
     "metadata": {
      "needs_background": "light"
     },
     "output_type": "display_data"
    },
    {
     "name": "stdout",
     "output_type": "stream",
     "text": [
      "              precision    recall  f1-score   support\n",
      "\n",
      "           0       0.90      0.70      0.78      1570\n",
      "           1       0.39      0.71      0.50       430\n",
      "\n",
      "    accuracy                           0.70      2000\n",
      "   macro avg       0.64      0.70      0.64      2000\n",
      "weighted avg       0.79      0.70      0.72      2000\n",
      "\n"
     ]
    }
   ],
   "source": [
    "model = LogisticRegression(class_weight = 'balanced', random_state = 42, solver ='lbfgs')\n",
    "model.fit(X_train,y_train)\n",
    "probabilities_valid = model.predict_proba(X_val)\n",
    "probabilities_one_valid = probabilities_valid[:, 1]\n",
    "predicted_val = model.predict(X_val)\n",
    "print(f\"AUC-ROC = {roc_auc_score(y_val, probabilities_one_valid)}\")\n",
    "print(f\"F1 score = {f1_score(y_val, predicted_val)}\")\n",
    "\n",
    "rocCurve(y_val, probabilities_one_valid)\n",
    "\n",
    "print(classification_report(y_val, predicted_val))"
   ]
  },
  {
   "cell_type": "markdown",
   "metadata": {},
   "source": [
    "Добавление параметра сыграло большую роль для логистической регрессии. Мы видим, что Recall почти выравнился и по этой причине f1 увеличился. В свою очередь AUC-ROC не возрос. \n",
    "\n",
    "Попробуем обучить модель RandomForest с данным параметром. "
   ]
  },
  {
   "cell_type": "code",
   "execution_count": 76,
   "metadata": {},
   "outputs": [
    {
     "name": "stdout",
     "output_type": "stream",
     "text": [
      "AUC-ROC = 0.8204636350170346\n",
      "F1 score = 0.5099236641221374\n"
     ]
    },
    {
     "data": {
      "image/png": "[encoded data removed]",
      "text/plain": [
       "<Figure size 432x288 with 1 Axes>"
      ]
     },
     "metadata": {
      "needs_background": "light"
     },
     "output_type": "display_data"
    },
    {
     "name": "stdout",
     "output_type": "stream",
     "text": [
      "              precision    recall  f1-score   support\n",
      "\n",
      "           0       0.85      0.96      0.90      1570\n",
      "           1       0.74      0.39      0.51       430\n",
      "\n",
      "    accuracy                           0.84      2000\n",
      "   macro avg       0.80      0.68      0.71      2000\n",
      "weighted avg       0.83      0.84      0.82      2000\n",
      "\n"
     ]
    }
   ],
   "source": [
    "model = RandomForestClassifier(class_weight = 'balanced', random_state = 42, n_estimators = 10)\n",
    "model.fit(X_train,y_train)\n",
    "probabilities_valid = model.predict_proba(X_val)\n",
    "probabilities_one_valid = probabilities_valid[:, 1]\n",
    "predicted_val = model.predict(X_val)\n",
    "print(f\"AUC-ROC = {roc_auc_score(y_val, probabilities_one_valid)}\")\n",
    "print(f\"F1 score = {f1_score(y_val, predicted_val)}\")\n",
    "\n",
    "\n",
    "rocCurve(y_val, probabilities_one_valid)\n",
    "\n",
    "\n",
    "print(classification_report(y_val, predicted_val))"
   ]
  },
  {
   "cell_type": "markdown",
   "metadata": {},
   "source": [
    "Данный способ не сработал для Random Forest. Минимальный f1-score для класса 1 уменьшился (с 0.57 до 51). Попробуем увеличить количество данных в обучающей выборке и сравняем кол-во классов."
   ]
  },
  {
   "cell_type": "markdown",
   "metadata": {},
   "source": [
    "### Upsampling\n",
    "\n",
    "Создадим функцию *upsample* которой будем передавать следующие параметры:\n",
    "    * признаки\n",
    "    * цели\n",
    "    * сколько раз повторить\n"
   ]
  },
  {
   "cell_type": "code",
   "execution_count": 77,
   "metadata": {
    "colab": {},
    "colab_type": "code",
    "id": "T1aBaEZaGISC"
   },
   "outputs": [],
   "source": [
    "from sklearn.utils import shuffle\n",
    "\n",
    "# Функция upsample\n",
    "\n",
    "def upsample(X,y,repeat):\n",
    "    X_zeros = X[y==0.0]\n",
    "    X_ones = X[y==1.0]\n",
    "    y_zeros = y[y==0.0]\n",
    "    y_ones = y[y==1.0]\n",
    "    \n",
    "    X_upsampled = pd.concat([X_zeros] + [X_ones] * repeat)\n",
    "    y_upsampled = pd.concat([y_zeros] + [y_ones] * repeat)\n",
    "    \n",
    "    X_upsampled, y_upsampled = shuffle(\n",
    "    X_upsampled, y_upsampled, random_state = 42)\n",
    "    \n",
    "    return X_upsampled, y_upsampled"
   ]
  },
  {
   "cell_type": "markdown",
   "metadata": {},
   "source": [
    "Передадим нашей функции наши признаки и целевой признак. После, разделим на Train / Val / Test выборки. "
   ]
  },
  {
   "cell_type": "code",
   "execution_count": 78,
   "metadata": {},
   "outputs": [],
   "source": [
    "# Увеличиваем в 4 раза.\n",
    "X_up, y_up = upsample(X, y, 4)\n",
    "\n",
    "X_train,y_train,X_val,y_val,X_test,y_test = trainValTest(X_up,y_up)"
   ]
  },
  {
   "cell_type": "code",
   "execution_count": 79,
   "metadata": {},
   "outputs": [
    {
     "name": "stdout",
     "output_type": "stream",
     "text": [
      "Class 1 = 8148\n",
      "Class 0 = 7963\n"
     ]
    }
   ],
   "source": [
    "print(f\"Class 1 = {(y_up==1).sum()}\")\n",
    "print(f\"Class 0 = {(y_up==0).sum()}\")"
   ]
  },
  {
   "cell_type": "markdown",
   "metadata": {},
   "source": [
    "В нашей обучающей выборке наблюдается почти полное равновесие между классами. Попробуем теперь обучить наши модели."
   ]
  },
  {
   "cell_type": "code",
   "execution_count": 80,
   "metadata": {},
   "outputs": [
    {
     "name": "stdout",
     "output_type": "stream",
     "text": [
      "AUC-ROC = 0.5698517685308597\n",
      "F1 score = 0.6174863387978142\n"
     ]
    },
    {
     "data": {
      "image/png": "[encoded data removed]",
      "text/plain": [
       "<Figure size 432x288 with 1 Axes>"
      ]
     },
     "metadata": {
      "needs_background": "light"
     },
     "output_type": "display_data"
    },
    {
     "name": "stdout",
     "output_type": "stream",
     "text": [
      "              precision    recall  f1-score   support\n",
      "\n",
      "           0       0.57      0.44      0.50      1580\n",
      "           1       0.56      0.69      0.62      1643\n",
      "\n",
      "    accuracy                           0.57      3223\n",
      "   macro avg       0.57      0.56      0.56      3223\n",
      "weighted avg       0.57      0.57      0.56      3223\n",
      "\n"
     ]
    }
   ],
   "source": [
    "# Logistic Regression\n",
    "model = LogisticRegression(random_state = 42, solver ='lbfgs')\n",
    "model.fit(X_train,y_train)\n",
    "\n",
    "\n",
    "val_prob = model.predict_proba(X_val)\n",
    "val_1_prob = val_prob[:, 1]\n",
    "val_pred = model.predict(X_val)\n",
    "print(f\"AUC-ROC = {roc_auc_score(y_val, val_1_prob)}\")\n",
    "print(f\"F1 score = {f1_score(y_val, val_pred)}\")\n",
    "\n",
    "rocCurve(y_val, val_1_prob)\n",
    "\n",
    "print(classification_report(y_val, val_pred))"
   ]
  },
  {
   "cell_type": "markdown",
   "metadata": {},
   "source": [
    "Нам удалось получить требуемое значение F1-меры (0.61). В это время AUC-ROC стал 0.58, что говорит о том, что модель работает, но при изменении порога результат может ухудшиться. \n",
    "\n",
    "Попробуем обучить простую модель Random Forest и посмотрим на полученный результат. "
   ]
  },
  {
   "cell_type": "code",
   "execution_count": 81,
   "metadata": {},
   "outputs": [
    {
     "name": "stdout",
     "output_type": "stream",
     "text": [
      "AUC-ROC = 0.9739081026526035\n",
      "F1 score = 0.9327781082688876\n"
     ]
    },
    {
     "data": {
      "image/png": "[encoded data removed]",
      "text/plain": [
       "<Figure size 432x288 with 1 Axes>"
      ]
     },
     "metadata": {
      "needs_background": "light"
     },
     "output_type": "display_data"
    },
    {
     "name": "stdout",
     "output_type": "stream",
     "text": [
      "              precision    recall  f1-score   support\n",
      "\n",
      "           0       0.95      0.90      0.93      1580\n",
      "           1       0.91      0.95      0.93      1643\n",
      "\n",
      "    accuracy                           0.93      3223\n",
      "   macro avg       0.93      0.93      0.93      3223\n",
      "weighted avg       0.93      0.93      0.93      3223\n",
      "\n"
     ]
    }
   ],
   "source": [
    "model = RandomForestClassifier(random_state = 42, n_estimators = 10)\n",
    "model.fit(X_train,y_train)\n",
    "\n",
    "val_prob = model.predict_proba(X_val)\n",
    "val_1_prob = val_prob[:, 1]\n",
    "val_pred = model.predict(X_val)\n",
    "\n",
    "print(f\"AUC-ROC = {roc_auc_score(y_val, val_1_prob)}\")\n",
    "print(f\"F1 score = {f1_score(y_val, val_pred)}\")\n",
    "\n",
    "rocCurve(y_val, val_1_prob)\n",
    "\n",
    "print(classification_report(y_val, val_pred))"
   ]
  },
  {
   "cell_type": "markdown",
   "metadata": {},
   "source": [
    "Мы получили результат F1-меры = 0.93 и AUC-ROC = 0.97. Классификатор работает хорошо и будет работать для разных порогов.\n"
   ]
  },
  {
   "cell_type": "markdown",
   "metadata": {},
   "source": [
    "### Downsampling\n",
    "\n",
    "Попробуем для балансировки классов уменьшить кол-во предобладающего класса. Для этого создадим функцию `downsample`, в которую будем передавать:\n",
    "\n",
    "* Признаки\n",
    "* Целевые признаки\n",
    "* Доля отрицательных объектов, которые нужно сохранить.\n"
   ]
  },
  {
   "cell_type": "code",
   "execution_count": 82,
   "metadata": {},
   "outputs": [],
   "source": [
    "def downsample(features, target, fraction):\n",
    "    X_zeros = X[y==0.0]\n",
    "    X_ones = X[y==1.0]\n",
    "    y_zeros = y[y==0.0]\n",
    "    y_ones = y[y==1.0]\n",
    "\n",
    "    X_down = pd.concat(\n",
    "        [X_zeros.sample(frac=fraction, random_state=42)] + [X_ones])\n",
    "    y_down = pd.concat(\n",
    "        [y_zeros.sample(frac=fraction, random_state=42)] + [y_ones])\n",
    "    \n",
    "    X_down, y_down = shuffle(\n",
    "        X_down, y_down, random_state=42)\n",
    "    \n",
    "    \n",
    "    return X_down, y_down"
   ]
  },
  {
   "cell_type": "markdown",
   "metadata": {},
   "source": [
    "Произведём downsample с коэффициентом 0.25 и разделим на наши выборки.  "
   ]
  },
  {
   "cell_type": "code",
   "execution_count": 83,
   "metadata": {},
   "outputs": [
    {
     "name": "stdout",
     "output_type": "stream",
     "text": [
      "Class 1 = 2037\n",
      "Class 0 = 1991\n"
     ]
    }
   ],
   "source": [
    "X_down, y_down = downsample(X, y, 0.25)\n",
    "\n",
    "X_train_d, y_train_d, X_val_d, y_val_d, X_test_d, y_test_d = trainValTest(X_down,y_down)\n",
    "print(f\"Class 1 = {(y_down==1).sum()}\")\n",
    "print(f\"Class 0 = {(y_down==0).sum()}\")"
   ]
  },
  {
   "cell_type": "markdown",
   "metadata": {},
   "source": [
    "У нас получилось по 2 тысячи сэмплов с каждым из классов. Попробуем обучить модель RandomForestClassifier и посмотрим на полученные значения."
   ]
  },
  {
   "cell_type": "code",
   "execution_count": 85,
   "metadata": {},
   "outputs": [
    {
     "name": "stdout",
     "output_type": "stream",
     "text": [
      "AUC-ROC = 0.8241148466801747\n",
      "F1 score = 0.7250673854447439\n"
     ]
    },
    {
     "data": {
      "image/png": "[encoded data removed]",
      "text/plain": [
       "<Figure size 432x288 with 1 Axes>"
      ]
     },
     "metadata": {
      "needs_background": "light"
     },
     "output_type": "display_data"
    },
    {
     "name": "stdout",
     "output_type": "stream",
     "text": [
      "              precision    recall  f1-score   support\n",
      "\n",
      "           0       0.72      0.81      0.77       409\n",
      "           1       0.78      0.68      0.73       397\n",
      "\n",
      "    accuracy                           0.75       806\n",
      "   macro avg       0.75      0.75      0.75       806\n",
      "weighted avg       0.75      0.75      0.75       806\n",
      "\n"
     ]
    }
   ],
   "source": [
    "rnd_forest = RandomForestClassifier(n_estimators = 10, random_state = 42)\n",
    "rnd_forest.fit(X_train_d, y_train_d)\n",
    "\n",
    "val_prob = rnd_forest.predict_proba(X_val_d)\n",
    "val_1_prob = val_prob[:, 1]\n",
    "val_pred = rnd_forest.predict(X_val_d)\n",
    "\n",
    "print(f\"AUC-ROC = {roc_auc_score(y_val_d, val_1_prob)}\")\n",
    "print(f\"F1 score = {f1_score(y_val_d, val_pred)}\")\n",
    "\n",
    "rocCurve(y_val_d, val_1_prob)\n",
    "\n",
    "print(classification_report(y_val_d, val_pred))"
   ]
  },
  {
   "cell_type": "markdown",
   "metadata": {},
   "source": [
    "У нас получилось получить значение F1 меры = 0.725, а ROC-AUC = 0.824. Это хорошие показатели. Модель соответствует требованиям, но с использованием *upsample* у нас получилось достичь лучшего результата. Для дальнейшей работы используем этот метод. \n",
    "\n",
    "\n",
    "\n",
    "Попробуем улучшить результат для F1 меры через подбор параметров силами RandomizedSearchCV.\n",
    "\n",
    "Используем следующее распределение значений:\n",
    "* `n_estimators = от 100 до 1000 (7 значений)`\n",
    "* `max_features = ['auto', 'sqrt']`\n",
    "* `max_depth = от 1 до 30 (5 значений) + дополнительно не будем ограничивать глубину. `"
   ]
  },
  {
   "cell_type": "code",
   "execution_count": 86,
   "metadata": {},
   "outputs": [
    {
     "data": {
      "text/plain": [
       "{'n_estimators': [100, 250, 400, 550, 700, 850, 1000],\n",
       " 'max_features': ['auto', 'sqrt'],\n",
       " 'max_depth': [1, 8, 15, 22, 30, None]}"
      ]
     },
     "execution_count": 86,
     "metadata": {},
     "output_type": "execute_result"
    }
   ],
   "source": [
    "from sklearn.model_selection import RandomizedSearchCV\n",
    "import numpy as np\n",
    "\n",
    "# RandomizedSearchCV\n",
    "\n",
    "rnd_forest = RandomForestClassifier(random_state = 42)\n",
    "\n",
    "# Кол-во деревьев  в лесу\n",
    "n_estimators = [int(x) for x in np.linspace(start = 100, stop = 1000, num = 7)]\n",
    "\n",
    "# Количество признаков \n",
    "max_features = ['auto', 'sqrt']\n",
    "\n",
    "# Максимальная глубина деревьев\n",
    "max_depth = [int(x) for x in np.linspace(1, 30, num = 5)]\n",
    "max_depth.append(None)\n",
    "\n",
    "# Сохраняем параметры в dict\n",
    "random_grid = {'n_estimators': n_estimators,\n",
    "               'max_features': max_features,\n",
    "               'max_depth': max_depth}\n",
    "\n",
    "\n",
    "random_grid"
   ]
  },
  {
   "cell_type": "code",
   "execution_count": 87,
   "metadata": {},
   "outputs": [
    {
     "name": "stdout",
     "output_type": "stream",
     "text": [
      "Fitting 3 folds for each of 50 candidates, totalling 150 fits\n"
     ]
    },
    {
     "name": "stderr",
     "output_type": "stream",
     "text": [
      "[Parallel(n_jobs=-1)]: Using backend SequentialBackend with 1 concurrent workers.\n",
      "[Parallel(n_jobs=-1)]: Done 150 out of 150 | elapsed: 11.2min finished\n"
     ]
    },
    {
     "name": "stdout",
     "output_type": "stream",
     "text": [
      "CPU times: user 11min 7s, sys: 1.61 s, total: 11min 8s\n",
      "Wall time: 11min 10s\n"
     ]
    },
    {
     "data": {
      "text/plain": [
       "RandomizedSearchCV(cv=3, error_score='raise-deprecating',\n",
       "                   estimator=RandomForestClassifier(bootstrap=True,\n",
       "                                                    class_weight=None,\n",
       "                                                    criterion='gini',\n",
       "                                                    max_depth=None,\n",
       "                                                    max_features='auto',\n",
       "                                                    max_leaf_nodes=None,\n",
       "                                                    min_impurity_decrease=0.0,\n",
       "                                                    min_impurity_split=None,\n",
       "                                                    min_samples_leaf=1,\n",
       "                                                    min_samples_split=2,\n",
       "                                                    min_weight_fraction_leaf=0.0,\n",
       "                                                    n_estimators='warn',\n",
       "                                                    n_jobs=None,\n",
       "                                                    oob_score=False,\n",
       "                                                    random_state=42, verbose=0,\n",
       "                                                    warm_start=False),\n",
       "                   iid='warn', n_iter=50, n_jobs=-1,\n",
       "                   param_distributions={'max_depth': [1, 8, 15, 22, 30, None],\n",
       "                                        'max_features': ['auto', 'sqrt'],\n",
       "                                        'n_estimators': [100, 250, 400, 550,\n",
       "                                                         700, 850, 1000]},\n",
       "                   pre_dispatch='2*n_jobs', random_state=42, refit=True,\n",
       "                   return_train_score=False, scoring='f1', verbose=1)"
      ]
     },
     "execution_count": 87,
     "metadata": {},
     "output_type": "execute_result"
    }
   ],
   "source": [
    "%%time\n",
    "# Начинаем поиск. \n",
    "\n",
    "\"\"\"\n",
    "Поиск будем производить со следующими параметрами:\n",
    "Модель - RandomForest\n",
    "Параметры - random_grid\n",
    "CV - 3\n",
    "n_iter (кол-во итераций) - 50. Если параметров меньше 100, то по всем доступным.\n",
    "Оценка - по F1\n",
    "\"\"\"\n",
    "\n",
    "rf_random = RandomizedSearchCV(estimator = rnd_forest, \n",
    "                               param_distributions = random_grid, \n",
    "                               cv = 3,  verbose = 1, n_iter= 50,\n",
    "                               random_state=42, n_jobs = -1, scoring= 'f1')\n",
    "\n",
    "rf_random.fit(X_train,y_train)"
   ]
  },
  {
   "cell_type": "code",
   "execution_count": 88,
   "metadata": {},
   "outputs": [
    {
     "data": {
      "text/plain": [
       "{'n_estimators': 100, 'max_features': 'auto', 'max_depth': None}"
      ]
     },
     "execution_count": 88,
     "metadata": {},
     "output_type": "execute_result"
    }
   ],
   "source": [
    "rf_random.best_params_"
   ]
  },
  {
   "cell_type": "code",
   "execution_count": 90,
   "metadata": {},
   "outputs": [
    {
     "name": "stdout",
     "output_type": "stream",
     "text": [
      "AUC-ROC = 0.9838545960230205\n",
      "F1 score = 0.9391971664698937\n",
      "              precision    recall  f1-score   support\n",
      "\n",
      "           0       0.96      0.90      0.93      1580\n",
      "           1       0.91      0.97      0.94      1643\n",
      "\n",
      "    accuracy                           0.94      3223\n",
      "   macro avg       0.94      0.94      0.94      3223\n",
      "weighted avg       0.94      0.94      0.94      3223\n",
      "\n"
     ]
    }
   ],
   "source": [
    "model = RandomForestClassifier(random_state = 42, n_estimators = 100, max_features = 'auto', max_depth = None)\n",
    "model.fit(X_train,y_train)\n",
    "\n",
    "probabilities_valid = model.predict_proba(X_val)\n",
    "probabilities_one_valid = probabilities_valid[:, 1]\n",
    "predicted_val = model.predict(X_val)\n",
    "\n",
    "print(f\"AUC-ROC = {roc_auc_score(y_val, probabilities_one_valid)}\")\n",
    "print(f\"F1 score = {f1_score(y_val, predicted_val)}\")\n",
    "\n",
    "print(classification_report(y_val, predicted_val))"
   ]
  },
  {
   "cell_type": "markdown",
   "metadata": {},
   "source": [
    "### Краткий вывод\n",
    "\n",
    "При балансировке классов были выбраны три метода:\n",
    "\n",
    "    * Параметр class_weights = \"Balanced\"\n",
    "    * Upsampling \n",
    "    * Downsampling\n",
    "    \n",
    "Балансировка через параметр модели хорошо поднял величину F1 меры для логистической регрессии, но не сработал для RandomForestClassifier. \n",
    "\n",
    "При уменьшении количества сэмплов доминирующего класса качество также возросло:\n",
    "\n",
    "* AUC-ROC = 0.824\n",
    "* F1 Score = 0.725 \n",
    "\n",
    "После применения метода увеличения кол-ва наименьшего из классов, нам удалось достичь следующих значений:\n",
    "\n",
    "* AUC-ROC = 0.97\n",
    "* F1 Score = 0.93\n",
    "\n",
    "Это высокие показатели говорят нам о том, что наша модель хорошо работает и будет актуальна для разных порогов. \n",
    "\n",
    "Был проведён подбор гиперпараметров и после нахождения оптимальных значений показатели наши метрики ещё возросли:\n",
    "\n",
    "* AUC-ROC = 0.987\n",
    "* F1 Score = 0.939\n",
    "\n",
    "Это очень высокий показатель. Проведём тестирование полученной модели на тестовых данных."
   ]
  },
  {
   "cell_type": "markdown",
   "metadata": {
    "colab_type": "text",
    "id": "6b6MM7rrGISH"
   },
   "source": [
    "# 4. Тестирование модели"
   ]
  },
  {
   "cell_type": "code",
   "execution_count": 92,
   "metadata": {},
   "outputs": [
    {
     "name": "stdout",
     "output_type": "stream",
     "text": [
      "AUC-ROC = 0.9840838079818044\n",
      "F1 score = 0.9425219941348973\n",
      "              precision    recall  f1-score   support\n",
      "\n",
      "           0       0.97      0.90      0.94      1575\n",
      "           1       0.91      0.98      0.94      1647\n",
      "\n",
      "    accuracy                           0.94      3222\n",
      "   macro avg       0.94      0.94      0.94      3222\n",
      "weighted avg       0.94      0.94      0.94      3222\n",
      "\n"
     ]
    }
   ],
   "source": [
    "fin_model = RandomForestClassifier(n_estimators = 100, max_features='auto', max_depth = None, random_state = 42)\n",
    "fin_model.fit(X_train, y_train)\n",
    "\n",
    "test_prob = fin_model.predict_proba(X_test)\n",
    "test_1_prob = test_prob[:,1]\n",
    "\n",
    "test_pred = fin_model.predict(X_test)\n",
    "\n",
    "print(f\"AUC-ROC = {roc_auc_score(y_test, test_1_prob)}\")\n",
    "print(f\"F1 score = {f1_score(y_test, test_pred)}\")\n",
    "\n",
    "print(classification_report(y_test, test_pred))"
   ]
  },
  {
   "cell_type": "markdown",
   "metadata": {},
   "source": [
    "Модель на тестовых данных очень хорошо отработала и полученное качество не сильно отличается, от полученного на валидационной выборке. "
   ]
  },
  {
   "cell_type": "markdown",
   "metadata": {},
   "source": [
    "# 5. Выводы\n",
    "\n",
    "Перед нами стояла задача построение модели прогнозирования ухода клиента из банка в ближайшее время. Для этой задачи у нас имеется таблица, состоящая из признаков (к примеру, кредитная оценка, кол-во недвижимости) и целевой признак - Exited (ушёл клиент или нет).\n",
    "\n",
    "Признаком успешной модели является значение F1-меры на тестовой выборке > 0.59.\n",
    "\n",
    "В процессе работы с данными выполнена:\n",
    "\n",
    "* Проверка на пропущенные значения и их замена на медианные.\n",
    "* Проведена стандартизация количественных признаков методом RobustScaler()\n",
    "* Деление выборки на обучающую, валидационную и тестовую в соотношении 60 / 20 / 20\n",
    "\n",
    "Далее был проведён анализ классов и найден сильный дисбаланс (80% к 20%). Полученные модели не удовлетворяли требуемым значениями и F1-score был менее 0.59. Для дальнейшей работы необходимо было произвести балансировку классов. \n",
    "\n",
    "Для балансировки были выбраны два метода:\n",
    "* Путём добавления к модели параметра `class_weight = 'balanced'`\n",
    "* Уменьшением кол-ва доминирующего из классов (функция `downsample`)\n",
    "* Увеличением кол-ва меньшего из классов (функция `upsample`)\n",
    "\n",
    "\n",
    "Последний из методов позволил нам на модели Random Forest достичь значения F1 меры в 0.94,а AUC-ROC ~ 0.98\n",
    "\n",
    "Модель была протеститрована на тестовой выборке и полученные значения метрик удовлетворяют требуемым.  "
   ]
  }
 ],
 "metadata": {
  "colab": {
   "collapsed_sections": [],
   "name": "e9362a5d-de9d-4641-9755-20edf63bfe54.ipynb",
   "provenance": [],
   "toc_visible": true
  },
  "kernelspec": {
   "display_name": "Python 3",
   "language": "python",
   "name": "python3"
  },
  "language_info": {
   "codemirror_mode": {
    "name": "ipython",
    "version": 3
   },
   "file_extension": ".py",
   "mimetype": "text/x-python",
   "name": "python",
   "nbconvert_exporter": "python",
   "pygments_lexer": "ipython3",
   "version": "3.7.4"
  }
 },
 "nbformat": 4,
 "nbformat_minor": 1
}
