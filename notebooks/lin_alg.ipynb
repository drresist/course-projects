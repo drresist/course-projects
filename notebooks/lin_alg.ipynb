{
 "cells": [
  {
   "cell_type": "markdown",
   "metadata": {},
   "source": [
    "## 1. Загрузка данных"
   ]
  },
  {
   "cell_type": "code",
   "execution_count": 1,
   "metadata": {},
   "outputs": [
    {
     "output_type": "execute_result",
     "data": {
      "text/plain": "   Пол  Возраст  Зарплата  Члены семьи  Страховые выплаты\n0    1     41.0   49600.0            1                  0\n1    0     46.0   38000.0            1                  1\n2    0     29.0   21000.0            0                  0\n3    0     21.0   41700.0            2                  0\n4    1     28.0   26100.0            0                  0",
      "text/html": "<div>\n<style scoped>\n    .dataframe tbody tr th:only-of-type {\n        vertical-align: middle;\n    }\n\n    .dataframe tbody tr th {\n        vertical-align: top;\n    }\n\n    .dataframe thead th {\n        text-align: right;\n    }\n</style>\n<table border=\"1\" class=\"dataframe\">\n  <thead>\n    <tr style=\"text-align: right;\">\n      <th></th>\n      <th>Пол</th>\n      <th>Возраст</th>\n      <th>Зарплата</th>\n      <th>Члены семьи</th>\n      <th>Страховые выплаты</th>\n    </tr>\n  </thead>\n  <tbody>\n    <tr>\n      <th>0</th>\n      <td>1</td>\n      <td>41.0</td>\n      <td>49600.0</td>\n      <td>1</td>\n      <td>0</td>\n    </tr>\n    <tr>\n      <th>1</th>\n      <td>0</td>\n      <td>46.0</td>\n      <td>38000.0</td>\n      <td>1</td>\n      <td>1</td>\n    </tr>\n    <tr>\n      <th>2</th>\n      <td>0</td>\n      <td>29.0</td>\n      <td>21000.0</td>\n      <td>0</td>\n      <td>0</td>\n    </tr>\n    <tr>\n      <th>3</th>\n      <td>0</td>\n      <td>21.0</td>\n      <td>41700.0</td>\n      <td>2</td>\n      <td>0</td>\n    </tr>\n    <tr>\n      <th>4</th>\n      <td>1</td>\n      <td>28.0</td>\n      <td>26100.0</td>\n      <td>0</td>\n      <td>0</td>\n    </tr>\n  </tbody>\n</table>\n</div>"
     },
     "metadata": {},
     "execution_count": 1
    }
   ],
   "source": [
    "import pandas as pd\n",
    "import warnings\n",
    "warnings.filterwarnings('ignore')\n",
    "\n",
    "data = pd.read_csv('../datasets/insurance.csv')\n",
    "data.head()"
   ]
  },
  {
   "cell_type": "markdown",
   "metadata": {},
   "source": [
    "У нас имеется таблица с 4 признаками и одним целевым признаком (\"Страховые выплаты\"). Проверим данные на адеквастность и наличие аномальных значений. "
   ]
  },
  {
   "cell_type": "code",
   "execution_count": 2,
   "metadata": {},
   "outputs": [
    {
     "output_type": "stream",
     "name": "stdout",
     "text": "<class 'pandas.core.frame.DataFrame'>\nRangeIndex: 5000 entries, 0 to 4999\nData columns (total 5 columns):\n #   Column             Non-Null Count  Dtype  \n---  ------             --------------  -----  \n 0   Пол                5000 non-null   int64  \n 1   Возраст            5000 non-null   float64\n 2   Зарплата           5000 non-null   float64\n 3   Члены семьи        5000 non-null   int64  \n 4   Страховые выплаты  5000 non-null   int64  \ndtypes: float64(2), int64(3)\nmemory usage: 195.4 KB\n"
    },
    {
     "output_type": "execute_result",
     "data": {
      "text/plain": "(None,\n                Пол      Возраст      Зарплата  Члены семьи  Страховые выплаты\n count  5000.000000  5000.000000   5000.000000  5000.000000        5000.000000\n mean      0.499000    30.952800  39916.360000     1.194200           0.148000\n std       0.500049     8.440807   9900.083569     1.091387           0.463183\n min       0.000000    18.000000   5300.000000     0.000000           0.000000\n 25%       0.000000    24.000000  33300.000000     0.000000           0.000000\n 50%       0.000000    30.000000  40200.000000     1.000000           0.000000\n 75%       1.000000    37.000000  46600.000000     2.000000           0.000000\n max       1.000000    65.000000  79000.000000     6.000000           5.000000,\n 0    4436\n 1     423\n 2     115\n 3      18\n 4       7\n 5       1\n Name: Страховые выплаты, dtype: int64)"
     },
     "metadata": {},
     "execution_count": 2
    }
   ],
   "source": [
    "data.info(),\\\n",
    "data.describe(),\\\n",
    "data['Страховые выплаты'].value_counts()"
   ]
  },
  {
   "cell_type": "markdown",
   "metadata": {},
   "source": [
    "- Пропуски отсутствуют\n",
    "- Значения в столбцах не имеют аномальных значений. "
   ]
  },
  {
   "cell_type": "markdown",
   "metadata": {},
   "source": [
    "## 2. Умножение матриц"
   ]
  },
  {
   "cell_type": "markdown",
   "metadata": {},
   "source": [
    "**Вопрос:** Признаки умножают на обратимую матрицу. Изменится ли качество линейной регрессии? (Её можно обучить заново.)\n",
    "- Изменится\n",
    "- Не изменится"
   ]
  },
  {
   "cell_type": "markdown",
   "metadata": {},
   "source": [
    "**Ответ:** \n",
    "Не изменится\n",
    "\n"
   ]
  },
  {
   "cell_type": "code",
   "execution_count": 3,
   "metadata": {
    "scrolled": false
   },
   "outputs": [
    {
     "output_type": "stream",
     "name": "stdout",
     "text": "Обратимая\n\n[[0. 0.]\n [0. 0.]]\n\nВеса: [0.30324277 0.02366345]\nОшибка: 2.131521287102413\n\nВеса: [0.03032428 0.02366345]\nТранспонированные веса @ обратимая матрица: [0.30324277 0.02366345]\nОшибка: 2.1315212871024127\n"
    }
   ],
   "source": [
    "import numpy as np\n",
    "\n",
    "# Матрица признаков\n",
    "X = np.array([\n",
    "    [4, 7],\n",
    "    [8, 6],\n",
    "    [3, 3]\n",
    "], dtype=np.float)\n",
    "\n",
    "# Матрица таргетов\n",
    "y = np.array([1, 2, 3], dtype=np.float)\n",
    "\n",
    "# Обратимая матрица\n",
    "e = np.array([\n",
    "    [10, 0],\n",
    "    [0, 1]\n",
    "], dtype=np.float)\n",
    "\n",
    "# Проверка\n",
    "\n",
    "try:\n",
    "    np.linalg.inv(e)\n",
    "    print(f\"Обратимая\\n\")\n",
    "except:\n",
    "    print(\"Не обратимая\")\n",
    "\n",
    "# Без регуляризации\n",
    "clambda = 0.00\n",
    "\n",
    "print(clambda * np.eye(X.shape[1]))\n",
    "\n",
    "H = X.T @ X + clambda * np.eye(X.shape[1])\n",
    "g = X.T @ y\n",
    "\n",
    "weights = np.linalg.solve(H, g)\n",
    "error = np.linalg.norm(X @ weights - y)\n",
    "print()\n",
    "print(f\"Веса: {weights}\")\n",
    "print(f\"Ошибка: {error}\")\n",
    "\n",
    "# Умножаем признаки на обратимую матрицу\n",
    "X = X @ e\n",
    "\n",
    "H = X.T @ X + clambda * np.eye(X.shape[1])\n",
    "g = X.T @ y\n",
    "weights = np.linalg.solve(H, g)\n",
    "error = np.linalg.norm(X @ weights - y)\n",
    "print()\n",
    "print(f\"Веса: {weights}\")\n",
    "print(f\"Транспонированные веса @ обратимая матрица: {weights.T @ e}\")\n",
    "print(f\"Ошибка: {error}\")"
   ]
  },
  {
   "cell_type": "markdown",
   "metadata": {},
   "source": [
    "**Обоснование**:\n",
    "\n",
    "$a = Xw$\n",
    "\n",
    "$w = (X^T X)^{-1}X^T y$\n",
    "\n",
    "Умножим признаки на матрицу $E$ (Обратимая) и получим итоговую формулу:\n",
    "\n",
    "$a = XE(EX^T XE)^{-1}EX^T y$ \n",
    "\n"
   ]
  },
  {
   "cell_type": "markdown",
   "metadata": {},
   "source": [
    "В данной формуле возможно заменить произведение $E^{-1}$ к $E$ на тождественную матрицу, умножение на которую не влияет. "
   ]
  },
  {
   "cell_type": "markdown",
   "metadata": {},
   "source": [
    "## 3. Алгоритм преобразования"
   ]
  },
  {
   "cell_type": "markdown",
   "metadata": {},
   "source": [
    "**Алгоритм**\n",
    "\n",
    "1. Переименование столбцов в цифровые значения\n",
    "2. Применить к категориальным признакам OHE\n",
    "3. Умножение на обратимую матрицу\n",
    "4. Scaling значений\n"
   ]
  },
  {
   "cell_type": "markdown",
   "metadata": {},
   "source": [
    "**Обоснование**\n",
    "\n",
    "1. В данный момент столбцы прямо сообщают о персональной информации. Изменение на цифровые значения нам не позволят определить признаки. \n",
    "2. У нас имеются признаки, которые можно привести к категориальными (до 10 вариантов), однако такие функции не всегда вписываются в модель регрессии. OHE позволит перевести такие признаки в несколько бинарных, наличие / отсутствие которых позволят их вписать в линейную регрессию.\n",
    "3. Умножим матрицу признаков на обратимую (исходя из вывода выше). \n",
    "4. Так как умножение на матрицу уже изменило матрицу, то мы можем провести скалирование значений. \n"
   ]
  },
  {
   "cell_type": "markdown",
   "metadata": {},
   "source": [
    "## 4. Проверка алгоритма"
   ]
  },
  {
   "cell_type": "code",
   "execution_count": 4,
   "metadata": {},
   "outputs": [],
   "source": [
    "# Разделим наши признаки \n",
    "\n",
    "X = data.drop ('Страховые выплаты', axis = 1)\n",
    "y = data['Страховые выплаты']"
   ]
  },
  {
   "cell_type": "code",
   "execution_count": 5,
   "metadata": {},
   "outputs": [],
   "source": [
    "# 1. Переименование\n",
    "from sklearn.preprocessing import OneHotEncoder\n",
    "from sklearn.linear_model import LinearRegression\n",
    "\n",
    "# 1. Переименование\n",
    "\n",
    "class Transformation:\n",
    "\n",
    "    def __init__(self):\n",
    "        self.features = X\n",
    "        self.targets = y\n",
    "\n",
    "    def rename(self, df):\n",
    "        new_df = df\n",
    "        new_df.columns = range(len(new_df.columns))\n",
    "        return new_df\n",
    "    \n",
    "    def ohe(self, df, ft = [0,3]):\n",
    "        onehotencoder = OneHotEncoder()\n",
    "        x = onehotencoder.fit_transform(df).toarray()\n",
    "        return pd.DataFrame(x)\n",
    "    \n",
    "    def calc(self, df):\n",
    "        E = np.random.rand(df.values.shape[1], df.values.shape[1])\n",
    "        # Проверка на обратимость\n",
    "\n",
    "        try:\n",
    "            np.linalg.inv(E)\n",
    "        except:\n",
    "            print('Не обратимая')\n",
    "            \n",
    "        return df @ E\n"
   ]
  },
  {
   "cell_type": "code",
   "execution_count": 6,
   "metadata": {},
   "outputs": [],
   "source": [
    "t = Transformation()\n",
    "df = t.rename(data)\n",
    "\n",
    "X = df.drop (4, axis = 1)\n",
    "y = df[4]\n",
    "\n",
    "X_ohe = t.ohe(X)\n",
    "\n",
    "\n",
    "X_final = t.calc(X_ohe)"
   ]
  },
  {
   "cell_type": "code",
   "execution_count": 7,
   "metadata": {},
   "outputs": [
    {
     "output_type": "stream",
     "name": "stdout",
     "text": "------Результаты-------\nR2 score: \t\nИзначальные данные: 0.42494550286668\nОбезличенные данные: 0.9759743271630931\nРазница: 0.5510288242964131\n"
    }
   ],
   "source": [
    "from sklearn.metrics import r2_score\n",
    "from sklearn.linear_model import LinearRegression\n",
    "\n",
    "def final_calc(X,X_final, y):\n",
    "    \n",
    "    Xs = [X, X_final]\n",
    "    \n",
    "    results = []\n",
    "    for x in Xs:\n",
    "        model = LinearRegression()\n",
    "        model.fit(x,y)\n",
    "        pred = model.predict(x)\n",
    "        results.append(r2_score(y,pred))\n",
    "        \n",
    "    print(\"------Результаты-------\")\n",
    "    print(f\"R2 score: \\t\\nИзначальные данные: {results[0]}\")\n",
    "    print(f\"Обезличенные данные: {results[1]}\")\n",
    "    print(f\"Разница: {np.abs(results[0] - results[1])}\")\n",
    "    \n",
    "final_calc(X,X_final,y)"
   ]
  },
  {
   "cell_type": "markdown",
   "metadata": {},
   "source": [
    "Наши данные обезличены и нам удалось достичь меньшей ошибки "
   ]
  }
 ],
 "metadata": {
  "kernelspec": {
   "display_name": "Python 3",
   "language": "python",
   "name": "python3"
  },
  "language_info": {
   "codemirror_mode": {
    "name": "ipython",
    "version": 3
   },
   "file_extension": ".py",
   "mimetype": "text/x-python",
   "name": "python",
   "nbconvert_exporter": "python",
   "pygments_lexer": "ipython3",
   "version": "3.7.6-final"
  }
 },
 "nbformat": 4,
 "nbformat_minor": 2
}