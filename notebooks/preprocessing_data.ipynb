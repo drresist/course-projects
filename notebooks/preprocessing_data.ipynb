{
 "cells": [
  {
   "cell_type": "markdown",
   "metadata": {},
   "source": [
    "## Исследование надёжности заёмщиков\n",
    "\n",
    "Нужно разобраться, влияет ли семейное положение и количество детей клиента на факт погашения кредита в срок. \n",
    "Входные данные от банка — статистика о платёжеспособности клиентов.\n",
    "\n",
    "Результаты исследования будут учтены при построении модели **кредитного скоринга** — специальной системы, которая оценивает способность потенциального заёмщика вернуть кредит банку."
   ]
  },
  {
   "cell_type": "code",
   "execution_count": 1,
   "metadata": {},
   "outputs": [],
   "source": [
    "import pandas as pd"
   ]
  },
  {
   "cell_type": "code",
   "execution_count": 5,
   "metadata": {},
   "outputs": [
    {
     "output_type": "execute_result",
     "data": {
      "text/plain": "   children  days_employed  dob_years education  education_id  \\\n0         1   -8437.673028         42    высшее             0   \n1         1   -4024.803754         36   среднее             1   \n2         0   -5623.422610         33   Среднее             1   \n3         3   -4124.747207         32   среднее             1   \n4         0  340266.072047         53   среднее             1   \n\n      family_status  family_status_id gender income_type  debt   total_income  \\\n0   женат / замужем                 0      F   сотрудник     0  253875.639453   \n1   женат / замужем                 0      F   сотрудник     0  112080.014102   \n2   женат / замужем                 0      M   сотрудник     0  145885.952297   \n3   женат / замужем                 0      M   сотрудник     0  267628.550329   \n4  гражданский брак                 1      F   пенсионер     0  158616.077870   \n\n                      purpose  \n0               покупка жилья  \n1     приобретение автомобиля  \n2               покупка жилья  \n3  дополнительное образование  \n4             сыграть свадьбу  ",
      "text/html": "<div>\n<style scoped>\n    .dataframe tbody tr th:only-of-type {\n        vertical-align: middle;\n    }\n\n    .dataframe tbody tr th {\n        vertical-align: top;\n    }\n\n    .dataframe thead th {\n        text-align: right;\n    }\n</style>\n<table border=\"1\" class=\"dataframe\">\n  <thead>\n    <tr style=\"text-align: right;\">\n      <th></th>\n      <th>children</th>\n      <th>days_employed</th>\n      <th>dob_years</th>\n      <th>education</th>\n      <th>education_id</th>\n      <th>family_status</th>\n      <th>family_status_id</th>\n      <th>gender</th>\n      <th>income_type</th>\n      <th>debt</th>\n      <th>total_income</th>\n      <th>purpose</th>\n    </tr>\n  </thead>\n  <tbody>\n    <tr>\n      <th>0</th>\n      <td>1</td>\n      <td>-8437.673028</td>\n      <td>42</td>\n      <td>высшее</td>\n      <td>0</td>\n      <td>женат / замужем</td>\n      <td>0</td>\n      <td>F</td>\n      <td>сотрудник</td>\n      <td>0</td>\n      <td>253875.639453</td>\n      <td>покупка жилья</td>\n    </tr>\n    <tr>\n      <th>1</th>\n      <td>1</td>\n      <td>-4024.803754</td>\n      <td>36</td>\n      <td>среднее</td>\n      <td>1</td>\n      <td>женат / замужем</td>\n      <td>0</td>\n      <td>F</td>\n      <td>сотрудник</td>\n      <td>0</td>\n      <td>112080.014102</td>\n      <td>приобретение автомобиля</td>\n    </tr>\n    <tr>\n      <th>2</th>\n      <td>0</td>\n      <td>-5623.422610</td>\n      <td>33</td>\n      <td>Среднее</td>\n      <td>1</td>\n      <td>женат / замужем</td>\n      <td>0</td>\n      <td>M</td>\n      <td>сотрудник</td>\n      <td>0</td>\n      <td>145885.952297</td>\n      <td>покупка жилья</td>\n    </tr>\n    <tr>\n      <th>3</th>\n      <td>3</td>\n      <td>-4124.747207</td>\n      <td>32</td>\n      <td>среднее</td>\n      <td>1</td>\n      <td>женат / замужем</td>\n      <td>0</td>\n      <td>M</td>\n      <td>сотрудник</td>\n      <td>0</td>\n      <td>267628.550329</td>\n      <td>дополнительное образование</td>\n    </tr>\n    <tr>\n      <th>4</th>\n      <td>0</td>\n      <td>340266.072047</td>\n      <td>53</td>\n      <td>среднее</td>\n      <td>1</td>\n      <td>гражданский брак</td>\n      <td>1</td>\n      <td>F</td>\n      <td>пенсионер</td>\n      <td>0</td>\n      <td>158616.077870</td>\n      <td>сыграть свадьбу</td>\n    </tr>\n  </tbody>\n</table>\n</div>"
     },
     "metadata": {},
     "execution_count": 5
    }
   ],
   "source": [
    "data = pd.read_csv('/home/drresist/Documents/Course projects/datasets/preprocessing_data.csv')\n",
    "data.head()\n",
    ""
   ]
  },
  {
   "cell_type": "code",
   "execution_count": 6,
   "metadata": {},
   "outputs": [
    {
     "output_type": "execute_result",
     "data": {
      "text/plain": "       children  days_employed  dob_years education  education_id  \\\n21520         1   -4529.316663         43   среднее             1   \n21521         0  343937.404131         67   среднее             1   \n21522         1   -2113.346888         38   среднее             1   \n21523         3   -3112.481705         38   среднее             1   \n21524         2   -1984.507589         40   среднее             1   \n\n          family_status  family_status_id gender income_type  debt  \\\n21520  гражданский брак                 1      F   компаньон     0   \n21521   женат / замужем                 0      F   пенсионер     0   \n21522  гражданский брак                 1      M   сотрудник     1   \n21523   женат / замужем                 0      M   сотрудник     1   \n21524   женат / замужем                 0      F   сотрудник     0   \n\n        total_income                       purpose  \n21520  224791.862382             операции с жильем  \n21521  155999.806512          сделка с автомобилем  \n21522   89672.561153                  недвижимость  \n21523  244093.050500  на покупку своего автомобиля  \n21524   82047.418899         на покупку автомобиля  ",
      "text/html": "<div>\n<style scoped>\n    .dataframe tbody tr th:only-of-type {\n        vertical-align: middle;\n    }\n\n    .dataframe tbody tr th {\n        vertical-align: top;\n    }\n\n    .dataframe thead th {\n        text-align: right;\n    }\n</style>\n<table border=\"1\" class=\"dataframe\">\n  <thead>\n    <tr style=\"text-align: right;\">\n      <th></th>\n      <th>children</th>\n      <th>days_employed</th>\n      <th>dob_years</th>\n      <th>education</th>\n      <th>education_id</th>\n      <th>family_status</th>\n      <th>family_status_id</th>\n      <th>gender</th>\n      <th>income_type</th>\n      <th>debt</th>\n      <th>total_income</th>\n      <th>purpose</th>\n    </tr>\n  </thead>\n  <tbody>\n    <tr>\n      <th>21520</th>\n      <td>1</td>\n      <td>-4529.316663</td>\n      <td>43</td>\n      <td>среднее</td>\n      <td>1</td>\n      <td>гражданский брак</td>\n      <td>1</td>\n      <td>F</td>\n      <td>компаньон</td>\n      <td>0</td>\n      <td>224791.862382</td>\n      <td>операции с жильем</td>\n    </tr>\n    <tr>\n      <th>21521</th>\n      <td>0</td>\n      <td>343937.404131</td>\n      <td>67</td>\n      <td>среднее</td>\n      <td>1</td>\n      <td>женат / замужем</td>\n      <td>0</td>\n      <td>F</td>\n      <td>пенсионер</td>\n      <td>0</td>\n      <td>155999.806512</td>\n      <td>сделка с автомобилем</td>\n    </tr>\n    <tr>\n      <th>21522</th>\n      <td>1</td>\n      <td>-2113.346888</td>\n      <td>38</td>\n      <td>среднее</td>\n      <td>1</td>\n      <td>гражданский брак</td>\n      <td>1</td>\n      <td>M</td>\n      <td>сотрудник</td>\n      <td>1</td>\n      <td>89672.561153</td>\n      <td>недвижимость</td>\n    </tr>\n    <tr>\n      <th>21523</th>\n      <td>3</td>\n      <td>-3112.481705</td>\n      <td>38</td>\n      <td>среднее</td>\n      <td>1</td>\n      <td>женат / замужем</td>\n      <td>0</td>\n      <td>M</td>\n      <td>сотрудник</td>\n      <td>1</td>\n      <td>244093.050500</td>\n      <td>на покупку своего автомобиля</td>\n    </tr>\n    <tr>\n      <th>21524</th>\n      <td>2</td>\n      <td>-1984.507589</td>\n      <td>40</td>\n      <td>среднее</td>\n      <td>1</td>\n      <td>женат / замужем</td>\n      <td>0</td>\n      <td>F</td>\n      <td>сотрудник</td>\n      <td>0</td>\n      <td>82047.418899</td>\n      <td>на покупку автомобиля</td>\n    </tr>\n  </tbody>\n</table>\n</div>"
     },
     "metadata": {},
     "execution_count": 6
    }
   ],
   "source": [
    "data.tail()"
   ]
  },
  {
   "cell_type": "code",
   "execution_count": 7,
   "metadata": {},
   "outputs": [
    {
     "output_type": "stream",
     "name": "stdout",
     "text": "<class 'pandas.core.frame.DataFrame'>\nRangeIndex: 21525 entries, 0 to 21524\nData columns (total 12 columns):\n #   Column            Non-Null Count  Dtype  \n---  ------            --------------  -----  \n 0   children          21525 non-null  int64  \n 1   days_employed     19351 non-null  float64\n 2   dob_years         21525 non-null  int64  \n 3   education         21525 non-null  object \n 4   education_id      21525 non-null  int64  \n 5   family_status     21525 non-null  object \n 6   family_status_id  21525 non-null  int64  \n 7   gender            21525 non-null  object \n 8   income_type       21525 non-null  object \n 9   debt              21525 non-null  int64  \n 10  total_income      19351 non-null  float64\n 11  purpose           21525 non-null  object \ndtypes: float64(2), int64(5), object(5)\nmemory usage: 2.0+ MB\n"
    }
   ],
   "source": [
    "data.info()"
   ]
  },
  {
   "cell_type": "markdown",
   "metadata": {},
   "source": [
    "### Вывод"
   ]
  },
  {
   "cell_type": "markdown",
   "metadata": {},
   "source": [
    "Нам дана таблица размернсотью (21525 х 12) со смешанными типами данных. \n",
    "\n",
    "Мы можем наблюдать как целочисленне значения, так и с плавающей точкой. \n",
    "Также, из таблицы видно, что в столбцах *days_employed & total_income* наблюдаются пропуски. Далее нам потребуется выяснить связаны ли эти пропуски и возможные причины их появления.\n",
    "\n",
    "Значения в столбце \"purpose\", вероятно, заполняются клиентом/сотрудников, в результате чего одинаковая причина может иметь разную запись. (к примеру, \"на покупку своего автомобиля\", \"на покупку автомобиля\", и т.д.). Нам потребуется лемматизация для более точного разделения целей кредита на категории.\n",
    "\n",
    "В столбце \"days_employed\" наблюдаются отрицательные значения, что не может быть правдой. Приведём их к абсолютному значению.\n",
    "\n",
    "Исходя из выборки *data.head()* видно, что столбцы с строковыми значениями могут быть в разном регистре. При дальнейшей работе потребуется перевести их в нижний регистр. \n",
    "\n"
   ]
  },
  {
   "cell_type": "markdown",
   "metadata": {},
   "source": [
    "#### Пропущенные значения"
   ]
  },
  {
   "cell_type": "markdown",
   "metadata": {},
   "source": [
    "Проведём проверку таблицы на пустые значения. Используем для этого функцию *.isna()*"
   ]
  },
  {
   "cell_type": "code",
   "execution_count": 8,
   "metadata": {},
   "outputs": [
    {
     "output_type": "stream",
     "name": "stdout",
     "text": "2174\n2174\n"
    }
   ],
   "source": [
    "print(data['days_employed'].isna().sum())\n",
    "print(data['total_income'].isna().sum())\n",
    ""
   ]
  },
  {
   "cell_type": "markdown",
   "metadata": {},
   "source": [
    "Проверим, совпадают ли эти люди."
   ]
  },
  {
   "cell_type": "code",
   "execution_count": 9,
   "metadata": {},
   "outputs": [
    {
     "output_type": "execute_result",
     "data": {
      "text/plain": "True"
     },
     "metadata": {},
     "execution_count": 9
    }
   ],
   "source": [
    "data['days_employed'].isna().all() == data['total_income'].isna().all()"
   ]
  },
  {
   "cell_type": "markdown",
   "metadata": {},
   "source": [
    "Мы видим, что люди \"без зарплаты\" также не имеют \"опыта работы\". Обе эти переменные являются количественными. Исправим данные значения присвоив им медианные значения, но тут есть проблема. Посмотрим внимательнее на столбцы:"
   ]
  },
  {
   "cell_type": "code",
   "execution_count": 10,
   "metadata": {},
   "outputs": [
    {
     "output_type": "stream",
     "name": "stdout",
     "text": "15906\n\n6954     401755.400475\n10006    401715.811749\n7664     401675.093434\nName: days_employed, dtype: float64\n\n16335   -18388.949901\n4299    -17615.563266\n7329    -16593.472817\nName: days_employed, dtype: float64\n"
    }
   ],
   "source": [
    "print(data[data['days_employed']<0]['days_employed'].count()) # Кол-во отрицательных значений\n",
    "print()\n",
    "print(data['days_employed'].sort_values(ascending=False).head(3)) # Кол-во дней опыта\n",
    "print()\n",
    "print(data['days_employed'].sort_values(ascending=True).head(3)) # Кол-во дней опыта (отрицательный)"
   ]
  },
  {
   "cell_type": "markdown",
   "metadata": {},
   "source": [
    "Некоторые клиенты имеют более 1000 лет опыта(!), что далеко от реальности, а у некоторых - есть отрицательный опыт. \n",
    "Для дальнейшей работы нам необходимо исправить данные записи. \n",
    "Избавиться от отрицательных значений возможно через функцию *.abs()*, которая возвращает абсолютное значение, но у нас в таблице остались *NaN* значения.\n",
    "Заменим их на 0."
   ]
  },
  {
   "cell_type": "code",
   "execution_count": 11,
   "metadata": {},
   "outputs": [
    {
     "output_type": "execute_result",
     "data": {
      "text/plain": "children            0\ndays_employed       0\ndob_years           0\neducation           0\neducation_id        0\nfamily_status       0\nfamily_status_id    0\ngender              0\nincome_type         0\ndebt                0\ntotal_income        0\npurpose             0\ndtype: int64"
     },
     "metadata": {},
     "execution_count": 11
    }
   ],
   "source": [
    "data['days_employed'] = data['days_employed'].fillna(0)\n",
    "data['total_income'] = data['total_income'].fillna(0)\n",
    "\n",
    "data.isna().sum()"
   ]
  },
  {
   "cell_type": "markdown",
   "metadata": {},
   "source": [
    "Мы избавились от пропусков. Теперь нужно привести таблицы к целочисленным не отрицательным значениям."
   ]
  },
  {
   "cell_type": "code",
   "execution_count": 12,
   "metadata": {},
   "outputs": [
    {
     "output_type": "execute_result",
     "data": {
      "text/plain": "   children  days_employed  dob_years education  education_id  \\\n0         1    8437.673028         42    высшее             0   \n1         1    4024.803754         36   среднее             1   \n2         0    5623.422610         33   Среднее             1   \n3         3    4124.747207         32   среднее             1   \n4         0  340266.072047         53   среднее             1   \n\n      family_status  family_status_id gender income_type  debt   total_income  \\\n0   женат / замужем                 0      F   сотрудник     0  253875.639453   \n1   женат / замужем                 0      F   сотрудник     0  112080.014102   \n2   женат / замужем                 0      M   сотрудник     0  145885.952297   \n3   женат / замужем                 0      M   сотрудник     0  267628.550329   \n4  гражданский брак                 1      F   пенсионер     0  158616.077870   \n\n                      purpose  \n0               покупка жилья  \n1     приобретение автомобиля  \n2               покупка жилья  \n3  дополнительное образование  \n4             сыграть свадьбу  ",
      "text/html": "<div>\n<style scoped>\n    .dataframe tbody tr th:only-of-type {\n        vertical-align: middle;\n    }\n\n    .dataframe tbody tr th {\n        vertical-align: top;\n    }\n\n    .dataframe thead th {\n        text-align: right;\n    }\n</style>\n<table border=\"1\" class=\"dataframe\">\n  <thead>\n    <tr style=\"text-align: right;\">\n      <th></th>\n      <th>children</th>\n      <th>days_employed</th>\n      <th>dob_years</th>\n      <th>education</th>\n      <th>education_id</th>\n      <th>family_status</th>\n      <th>family_status_id</th>\n      <th>gender</th>\n      <th>income_type</th>\n      <th>debt</th>\n      <th>total_income</th>\n      <th>purpose</th>\n    </tr>\n  </thead>\n  <tbody>\n    <tr>\n      <th>0</th>\n      <td>1</td>\n      <td>8437.673028</td>\n      <td>42</td>\n      <td>высшее</td>\n      <td>0</td>\n      <td>женат / замужем</td>\n      <td>0</td>\n      <td>F</td>\n      <td>сотрудник</td>\n      <td>0</td>\n      <td>253875.639453</td>\n      <td>покупка жилья</td>\n    </tr>\n    <tr>\n      <th>1</th>\n      <td>1</td>\n      <td>4024.803754</td>\n      <td>36</td>\n      <td>среднее</td>\n      <td>1</td>\n      <td>женат / замужем</td>\n      <td>0</td>\n      <td>F</td>\n      <td>сотрудник</td>\n      <td>0</td>\n      <td>112080.014102</td>\n      <td>приобретение автомобиля</td>\n    </tr>\n    <tr>\n      <th>2</th>\n      <td>0</td>\n      <td>5623.422610</td>\n      <td>33</td>\n      <td>Среднее</td>\n      <td>1</td>\n      <td>женат / замужем</td>\n      <td>0</td>\n      <td>M</td>\n      <td>сотрудник</td>\n      <td>0</td>\n      <td>145885.952297</td>\n      <td>покупка жилья</td>\n    </tr>\n    <tr>\n      <th>3</th>\n      <td>3</td>\n      <td>4124.747207</td>\n      <td>32</td>\n      <td>среднее</td>\n      <td>1</td>\n      <td>женат / замужем</td>\n      <td>0</td>\n      <td>M</td>\n      <td>сотрудник</td>\n      <td>0</td>\n      <td>267628.550329</td>\n      <td>дополнительное образование</td>\n    </tr>\n    <tr>\n      <th>4</th>\n      <td>0</td>\n      <td>340266.072047</td>\n      <td>53</td>\n      <td>среднее</td>\n      <td>1</td>\n      <td>гражданский брак</td>\n      <td>1</td>\n      <td>F</td>\n      <td>пенсионер</td>\n      <td>0</td>\n      <td>158616.077870</td>\n      <td>сыграть свадьбу</td>\n    </tr>\n  </tbody>\n</table>\n</div>"
     },
     "metadata": {},
     "execution_count": 12
    }
   ],
   "source": [
    "data['days_employed'] = data['days_employed'].abs()\n",
    "data['total_income'] = data['total_income'].abs()\n",
    "\n",
    "data.head()"
   ]
  },
  {
   "cell_type": "markdown",
   "metadata": {},
   "source": [
    "Вычислим среднее и медианное значение возраста клиентов:"
   ]
  },
  {
   "cell_type": "code",
   "execution_count": 13,
   "metadata": {},
   "outputs": [
    {
     "output_type": "stream",
     "name": "stdout",
     "text": "Медиана = 42.0\nСреднее значение = 43.29337979094077\n"
    }
   ],
   "source": [
    "median_dob_years = data['dob_years'].median()\n",
    "mean_dob_years = data['dob_years'].mean()\n",
    "print(f\"Медиана = {median_dob_years}\\nСреднее значение = {mean_dob_years}\")\n",
    ""
   ]
  },
  {
   "cell_type": "markdown",
   "metadata": {},
   "source": [
    "Среднее и медианное значение по зарплате в данный момент без корректировок:"
   ]
  },
  {
   "cell_type": "code",
   "execution_count": 14,
   "metadata": {},
   "outputs": [
    {
     "output_type": "stream",
     "name": "stdout",
     "text": "1808.0534339280625\n60156.419004688105\n"
    }
   ],
   "source": [
    "median_days_employed = data['days_employed'].median()\n",
    "mean_days_employed = data['days_employed'].mean()\n",
    "print(median_days_employed)\n",
    "print(mean_days_employed)"
   ]
  },
  {
   "cell_type": "markdown",
   "metadata": {},
   "source": [
    "Показатели примерно равны. Средний возраст клиентов колеблется между 42-43 годами. \n",
    "\n",
    "В случае опыта работы мы видим, что средний показатель и медианный сильно отличаются. Медианный приближен к реальности и примерно равен ~ 5 годам. \n",
    "\n",
    "Заменим нулевые значения возраста на средний показатель. "
   ]
  },
  {
   "cell_type": "code",
   "execution_count": 15,
   "metadata": {},
   "outputs": [],
   "source": [
    "data.loc[data['dob_years'] ==0, 'dob_years'] = median_dob_years"
   ]
  },
  {
   "cell_type": "markdown",
   "metadata": {},
   "source": [
    "У нас осталась одна проблема с \"опытом работы\". Нам нужно привести слишком высокие значения к среднему, так как это может повлиять на дальнейший анализ.\n",
    "\n",
    "Для выявления таких записей можно воспользоваться следующей логикой:\n",
    "```\n",
    "Если стаж в днях > (возраст-18) * 365 => запись некорректна. \n",
    "```\n",
    "\n",
    "Реализуем это в виде кода:"
   ]
  },
  {
   "cell_type": "code",
   "execution_count": 16,
   "metadata": {},
   "outputs": [
    {
     "output_type": "execute_result",
     "data": {
      "text/plain": "3445"
     },
     "metadata": {},
     "execution_count": 16
    }
   ],
   "source": [
    "data[data['days_employed']>data['dob_years']*365-18]['days_employed'].count()\n",
    ""
   ]
  },
  {
   "cell_type": "markdown",
   "metadata": {},
   "source": [
    "У нас имеется 3445 записей с некорректным опытом работы. Заменим некорректные значения на медианные."
   ]
  },
  {
   "cell_type": "code",
   "execution_count": 14,
   "metadata": {},
   "outputs": [],
   "source": [
    "data.loc[data['days_employed']>data['dob_years']*365-18, 'days_employed'] = median_days_employed"
   ]
  },
  {
   "cell_type": "markdown",
   "metadata": {},
   "source": [
    "### Вывод"
   ]
  },
  {
   "cell_type": "markdown",
   "metadata": {},
   "source": [
    "Из выборки видно, что люди без опыта работы и без указанного ежемесячного дохода - это одинаковые люди. \n",
    "Для дальнейшего построения гипотез и исключения влияния таких записей была произведена замена значений на медианные по столбцам. \n",
    "\n",
    "Причин для появления подобных записей без информации может быть несколько:\n",
    "\n",
    "* Человек занимается предпринимательством, в связи с чем не имеет опыт работы и постоянного установленного заработка\n",
    "* Человек не имеет опыт работы / постоянный заработок\n",
    "* Отказ от заполнения данных\n",
    "* Некорректно внесены данные в таблицу\n",
    "\n",
    "\n"
   ]
  },
  {
   "cell_type": "markdown",
   "metadata": {},
   "source": [
    "### Замена типа данных"
   ]
  },
  {
   "cell_type": "markdown",
   "metadata": {},
   "source": [
    "Посмотрим на типы данных в таблице после проведенных операций. "
   ]
  },
  {
   "cell_type": "code",
   "execution_count": 17,
   "metadata": {},
   "outputs": [
    {
     "output_type": "stream",
     "name": "stdout",
     "text": "<class 'pandas.core.frame.DataFrame'>\nRangeIndex: 21525 entries, 0 to 21524\nData columns (total 12 columns):\n #   Column            Non-Null Count  Dtype  \n---  ------            --------------  -----  \n 0   children          21525 non-null  int64  \n 1   days_employed     21525 non-null  float64\n 2   dob_years         21525 non-null  float64\n 3   education         21525 non-null  object \n 4   education_id      21525 non-null  int64  \n 5   family_status     21525 non-null  object \n 6   family_status_id  21525 non-null  int64  \n 7   gender            21525 non-null  object \n 8   income_type       21525 non-null  object \n 9   debt              21525 non-null  int64  \n 10  total_income      21525 non-null  float64\n 11  purpose           21525 non-null  object \ndtypes: float64(3), int64(4), object(5)\nmemory usage: 2.0+ MB\n"
    }
   ],
   "source": [
    "data.info()"
   ]
  },
  {
   "cell_type": "markdown",
   "metadata": {},
   "source": [
    "В столбцах *days_employed*, *dob_years*, *total_income* у нас вещественный тип данных (*float64*). Для приведения к целочисленному типу данных используем функцию .astype(). Использование функции *.to_numeric()* не требуется, так как она используется для перевода строкового типа в вещественный. Наша задача - из вещественного в целочисленный.        "
   ]
  },
  {
   "cell_type": "markdown",
   "metadata": {},
   "source": [
    "Сохраним столбцы, которые нам нужно перевести в целые числа, в отдельную переменную *columns*:"
   ]
  },
  {
   "cell_type": "code",
   "execution_count": 18,
   "metadata": {},
   "outputs": [],
   "source": [
    "int_columns = ['days_employed', 'dob_years','total_income']"
   ]
  },
  {
   "cell_type": "markdown",
   "metadata": {},
   "source": [
    "Применим функцию *.apply* к нашим столбцам. В самой функции укажем безымянную функцию (лямбда-функция), в которой происходит преобразование в целое число используя *.astype()*:"
   ]
  },
  {
   "cell_type": "code",
   "execution_count": 19,
   "metadata": {},
   "outputs": [],
   "source": [
    "data[int_columns] = data[int_columns].apply(lambda x: x.astype(int))"
   ]
  },
  {
   "cell_type": "code",
   "execution_count": 20,
   "metadata": {},
   "outputs": [
    {
     "output_type": "stream",
     "name": "stdout",
     "text": "<class 'pandas.core.frame.DataFrame'>\nRangeIndex: 21525 entries, 0 to 21524\nData columns (total 12 columns):\n #   Column            Non-Null Count  Dtype \n---  ------            --------------  ----- \n 0   children          21525 non-null  int64 \n 1   days_employed     21525 non-null  int64 \n 2   dob_years         21525 non-null  int64 \n 3   education         21525 non-null  object\n 4   education_id      21525 non-null  int64 \n 5   family_status     21525 non-null  object\n 6   family_status_id  21525 non-null  int64 \n 7   gender            21525 non-null  object\n 8   income_type       21525 non-null  object\n 9   debt              21525 non-null  int64 \n 10  total_income      21525 non-null  int64 \n 11  purpose           21525 non-null  object\ndtypes: int64(7), object(5)\nmemory usage: 2.0+ MB\n"
    }
   ],
   "source": [
    "data.info()"
   ]
  },
  {
   "cell_type": "markdown",
   "metadata": {},
   "source": [
    "### Вывод"
   ]
  },
  {
   "cell_type": "markdown",
   "metadata": {},
   "source": [
    "В таблице были найденны отрицательные значения, *float(числа с плавающей точкой)*, так и *int(целочисленные значения)*.\n",
    "Для общего типа данных привели их к единому типу - целые числа. \n",
    "Для этого была использована конструкция *lambda* и функции *.apply()*, *.astype()*"
   ]
  },
  {
   "cell_type": "markdown",
   "metadata": {},
   "source": [
    "### Обработка дубликатов"
   ]
  },
  {
   "cell_type": "markdown",
   "metadata": {},
   "source": [
    "Проверим количество одинаковых значений в текущем состоянии таблицы."
   ]
  },
  {
   "cell_type": "code",
   "execution_count": 21,
   "metadata": {},
   "outputs": [
    {
     "output_type": "execute_result",
     "data": {
      "text/plain": "55"
     },
     "metadata": {},
     "execution_count": 21
    }
   ],
   "source": [
    "data.duplicated().sum()"
   ]
  },
  {
   "cell_type": "markdown",
   "metadata": {},
   "source": [
    "Сохраним строковые столбцы в переменной *str_columns* для упрощения дальнейшей работы с ними. "
   ]
  },
  {
   "cell_type": "code",
   "execution_count": 22,
   "metadata": {},
   "outputs": [],
   "source": [
    "str_columns  = ['education', 'family_status', 'gender', 'purpose']"
   ]
  },
  {
   "cell_type": "markdown",
   "metadata": {},
   "source": [
    "У нас есть 55 продублированных записи. Приведём строковые значения таблицы к нижнему регистру и проверим количество \"дублей\" после. Для этого мы можем использовать функию *.apply()*. Для краткости мы можем использовать конструкцию **lambda** или же написать собственную функцию:"
   ]
  },
  {
   "cell_type": "markdown",
   "metadata": {},
   "source": [
    "**Примечание**: Для дальнейшей работы можно использовать один из блоков ниже. Они обладают одинаковым функционалом. "
   ]
  },
  {
   "cell_type": "code",
   "execution_count": 23,
   "metadata": {},
   "outputs": [],
   "source": [
    "def lower(n):\n",
    "    \"\"\"\n",
    "    param n: Принимаем строку\n",
    "    return: Если запись str → возвращаем её в нижнем регистре\n",
    "    \"\"\"\n",
    "    return n.astype(str).str.lower()\n",
    "data[str_columns] = data[str_columns].apply(lower)"
   ]
  },
  {
   "cell_type": "code",
   "execution_count": 24,
   "metadata": {},
   "outputs": [],
   "source": [
    "data[str_columns] = data[str_columns].apply(lambda st: st.astype(str).str.lower())"
   ]
  },
  {
   "cell_type": "code",
   "execution_count": 25,
   "metadata": {},
   "outputs": [
    {
     "output_type": "execute_result",
     "data": {
      "text/plain": "72"
     },
     "metadata": {},
     "execution_count": 25
    }
   ],
   "source": [
    "data.duplicated().sum()"
   ]
  },
  {
   "cell_type": "markdown",
   "metadata": {},
   "source": [
    "У нас имеется 72 повторяющиеся записи. Удалим их для исключения влияния на итоговую выборку. Используем для этого функцию *.drop_duplicates()* + *.reset_index(drop=True)*. Вторая функция позволяет нам сбросить индексы и переназначить их заново. "
   ]
  },
  {
   "cell_type": "code",
   "execution_count": 26,
   "metadata": {
    "collapsed": true
   },
   "outputs": [
    {
     "output_type": "execute_result",
     "data": {
      "text/plain": "       children  days_employed  dob_years education  education_id  \\\n0             1           8437         42    высшее             0   \n1             1           4024         36   среднее             1   \n2             0           5623         33   среднее             1   \n3             3           4124         32   среднее             1   \n4             0         340266         53   среднее             1   \n...         ...            ...        ...       ...           ...   \n21448         1           4529         43   среднее             1   \n21449         0         343937         67   среднее             1   \n21450         1           2113         38   среднее             1   \n21451         3           3112         38   среднее             1   \n21452         2           1984         40   среднее             1   \n\n          family_status  family_status_id gender income_type  debt  \\\n0       женат / замужем                 0      f   сотрудник     0   \n1       женат / замужем                 0      f   сотрудник     0   \n2       женат / замужем                 0      m   сотрудник     0   \n3       женат / замужем                 0      m   сотрудник     0   \n4      гражданский брак                 1      f   пенсионер     0   \n...                 ...               ...    ...         ...   ...   \n21448  гражданский брак                 1      f   компаньон     0   \n21449   женат / замужем                 0      f   пенсионер     0   \n21450  гражданский брак                 1      m   сотрудник     1   \n21451   женат / замужем                 0      m   сотрудник     1   \n21452   женат / замужем                 0      f   сотрудник     0   \n\n       total_income                       purpose  \n0            253875                 покупка жилья  \n1            112080       приобретение автомобиля  \n2            145885                 покупка жилья  \n3            267628    дополнительное образование  \n4            158616               сыграть свадьбу  \n...             ...                           ...  \n21448        224791             операции с жильем  \n21449        155999          сделка с автомобилем  \n21450         89672                  недвижимость  \n21451        244093  на покупку своего автомобиля  \n21452         82047         на покупку автомобиля  \n\n[21453 rows x 12 columns]",
      "text/html": "<div>\n<style scoped>\n    .dataframe tbody tr th:only-of-type {\n        vertical-align: middle;\n    }\n\n    .dataframe tbody tr th {\n        vertical-align: top;\n    }\n\n    .dataframe thead th {\n        text-align: right;\n    }\n</style>\n<table border=\"1\" class=\"dataframe\">\n  <thead>\n    <tr style=\"text-align: right;\">\n      <th></th>\n      <th>children</th>\n      <th>days_employed</th>\n      <th>dob_years</th>\n      <th>education</th>\n      <th>education_id</th>\n      <th>family_status</th>\n      <th>family_status_id</th>\n      <th>gender</th>\n      <th>income_type</th>\n      <th>debt</th>\n      <th>total_income</th>\n      <th>purpose</th>\n    </tr>\n  </thead>\n  <tbody>\n    <tr>\n      <th>0</th>\n      <td>1</td>\n      <td>8437</td>\n      <td>42</td>\n      <td>высшее</td>\n      <td>0</td>\n      <td>женат / замужем</td>\n      <td>0</td>\n      <td>f</td>\n      <td>сотрудник</td>\n      <td>0</td>\n      <td>253875</td>\n      <td>покупка жилья</td>\n    </tr>\n    <tr>\n      <th>1</th>\n      <td>1</td>\n      <td>4024</td>\n      <td>36</td>\n      <td>среднее</td>\n      <td>1</td>\n      <td>женат / замужем</td>\n      <td>0</td>\n      <td>f</td>\n      <td>сотрудник</td>\n      <td>0</td>\n      <td>112080</td>\n      <td>приобретение автомобиля</td>\n    </tr>\n    <tr>\n      <th>2</th>\n      <td>0</td>\n      <td>5623</td>\n      <td>33</td>\n      <td>среднее</td>\n      <td>1</td>\n      <td>женат / замужем</td>\n      <td>0</td>\n      <td>m</td>\n      <td>сотрудник</td>\n      <td>0</td>\n      <td>145885</td>\n      <td>покупка жилья</td>\n    </tr>\n    <tr>\n      <th>3</th>\n      <td>3</td>\n      <td>4124</td>\n      <td>32</td>\n      <td>среднее</td>\n      <td>1</td>\n      <td>женат / замужем</td>\n      <td>0</td>\n      <td>m</td>\n      <td>сотрудник</td>\n      <td>0</td>\n      <td>267628</td>\n      <td>дополнительное образование</td>\n    </tr>\n    <tr>\n      <th>4</th>\n      <td>0</td>\n      <td>340266</td>\n      <td>53</td>\n      <td>среднее</td>\n      <td>1</td>\n      <td>гражданский брак</td>\n      <td>1</td>\n      <td>f</td>\n      <td>пенсионер</td>\n      <td>0</td>\n      <td>158616</td>\n      <td>сыграть свадьбу</td>\n    </tr>\n    <tr>\n      <th>...</th>\n      <td>...</td>\n      <td>...</td>\n      <td>...</td>\n      <td>...</td>\n      <td>...</td>\n      <td>...</td>\n      <td>...</td>\n      <td>...</td>\n      <td>...</td>\n      <td>...</td>\n      <td>...</td>\n      <td>...</td>\n    </tr>\n    <tr>\n      <th>21448</th>\n      <td>1</td>\n      <td>4529</td>\n      <td>43</td>\n      <td>среднее</td>\n      <td>1</td>\n      <td>гражданский брак</td>\n      <td>1</td>\n      <td>f</td>\n      <td>компаньон</td>\n      <td>0</td>\n      <td>224791</td>\n      <td>операции с жильем</td>\n    </tr>\n    <tr>\n      <th>21449</th>\n      <td>0</td>\n      <td>343937</td>\n      <td>67</td>\n      <td>среднее</td>\n      <td>1</td>\n      <td>женат / замужем</td>\n      <td>0</td>\n      <td>f</td>\n      <td>пенсионер</td>\n      <td>0</td>\n      <td>155999</td>\n      <td>сделка с автомобилем</td>\n    </tr>\n    <tr>\n      <th>21450</th>\n      <td>1</td>\n      <td>2113</td>\n      <td>38</td>\n      <td>среднее</td>\n      <td>1</td>\n      <td>гражданский брак</td>\n      <td>1</td>\n      <td>m</td>\n      <td>сотрудник</td>\n      <td>1</td>\n      <td>89672</td>\n      <td>недвижимость</td>\n    </tr>\n    <tr>\n      <th>21451</th>\n      <td>3</td>\n      <td>3112</td>\n      <td>38</td>\n      <td>среднее</td>\n      <td>1</td>\n      <td>женат / замужем</td>\n      <td>0</td>\n      <td>m</td>\n      <td>сотрудник</td>\n      <td>1</td>\n      <td>244093</td>\n      <td>на покупку своего автомобиля</td>\n    </tr>\n    <tr>\n      <th>21452</th>\n      <td>2</td>\n      <td>1984</td>\n      <td>40</td>\n      <td>среднее</td>\n      <td>1</td>\n      <td>женат / замужем</td>\n      <td>0</td>\n      <td>f</td>\n      <td>сотрудник</td>\n      <td>0</td>\n      <td>82047</td>\n      <td>на покупку автомобиля</td>\n    </tr>\n  </tbody>\n</table>\n<p>21453 rows × 12 columns</p>\n</div>"
     },
     "metadata": {},
     "execution_count": 26
    }
   ],
   "source": [
    "data.drop_duplicates().reset_index(drop=True)"
   ]
  },
  {
   "cell_type": "markdown",
   "metadata": {},
   "source": [
    "### Вывод"
   ]
  },
  {
   "cell_type": "markdown",
   "metadata": {},
   "source": [
    "До приведения строковых значений к нижнему регистру было выявлено 55 продублированных записей, что исходя из объёма таблицы (~ 22 тыс записей) не большое число. Однако, после приобразования всех строковых значений в нижний регистр было найдено 72 записей.\n",
    "\n",
    "Возможной причиной появления таких записей может служить отправление клиентом нескольких заявок, в результате чего они были повторно внесены в базу. \n",
    "\n",
    "Далее, мы провели очистку таблицы от таких записей с последующим сбросом индексов. \n",
    "\n",
    "После полной очистки на выходе у нас имеется 21453 записей. \n",
    "\n"
   ]
  },
  {
   "cell_type": "markdown",
   "metadata": {},
   "source": [
    "### Лемматизация"
   ]
  },
  {
   "cell_type": "markdown",
   "metadata": {},
   "source": [
    "Проведём лемматизация последнего столбца - *purpose*. В нем указана цель кредита. При помощи лемматизации мы сможем более явно проследить основные причины взятия кредита. \n",
    "\n",
    "Для лемматизации используем библиотеку *pymystem3* и её функцию *Mystem*. В дополнение, используем функцию *Counter* из библиотеки *collections* для подсчета повторяющихся слов в столбце. "
   ]
  },
  {
   "cell_type": "code",
   "execution_count": 29,
   "metadata": {},
   "outputs": [
    {
     "output_type": "stream",
     "name": "stderr",
     "text": "Installing mystem to /home/drresist/.local/bin/mystem from http://download.cdn.yandex.net/mystem/mystem-3.1-linux-64bit.tar.gz\n"
    }
   ],
   "source": [
    "from pymystem3 import Mystem\n",
    "from collections import Counter\n",
    "m = Mystem()"
   ]
  },
  {
   "cell_type": "markdown",
   "metadata": {},
   "source": [
    "Так как у нас большая таблица и нам не требуется анализировать причины взятия кредита по каждому клиенту, то выделим уникальные значения и подсчитаем их количество. "
   ]
  },
  {
   "cell_type": "code",
   "execution_count": 30,
   "metadata": {},
   "outputs": [
    {
     "output_type": "execute_result",
     "data": {
      "text/plain": "38"
     },
     "metadata": {},
     "execution_count": 30
    }
   ],
   "source": [
    "purpose_list = list(data['purpose'].unique())\n",
    "len(purpose_list)"
   ]
  },
  {
   "cell_type": "markdown",
   "metadata": {},
   "source": [
    "У нас получилось 38 значений, но это не означает, что все причины можно поделить на 38 категории. Так как причина заполняется вручную, то одна и та же цель может быть выражена по разному. Рассмотрим первые 10 строк в таблице."
   ]
  },
  {
   "cell_type": "code",
   "execution_count": 31,
   "metadata": {},
   "outputs": [
    {
     "output_type": "execute_result",
     "data": {
      "text/plain": "0                 покупка жилья\n1       приобретение автомобиля\n2                 покупка жилья\n3    дополнительное образование\n4               сыграть свадьбу\n5                 покупка жилья\n6             операции с жильем\n7                   образование\n8         на проведение свадьбы\n9       покупка жилья для семьи\nName: purpose, dtype: object"
     },
     "metadata": {},
     "execution_count": 31
    }
   ],
   "source": [
    "data['purpose'].head(10)"
   ]
  },
  {
   "cell_type": "markdown",
   "metadata": {},
   "source": [
    "Уже тут видно, что покупка жилья может интерпретироваться по разному:\n",
    "\n",
    "* покупка жилья\n",
    "* операции с жильем\n",
    "* покупка жилья для семьи\n",
    "\n",
    "Проведём лемматизацию для упрощения дальнейшей работы с причинами:"
   ]
  },
  {
   "cell_type": "code",
   "execution_count": 32,
   "metadata": {},
   "outputs": [
    {
     "output_type": "execute_result",
     "data": {
      "text/plain": "[['покупка', ' ', 'жилье', '\\n'],\n ['приобретение', ' ', 'автомобиль', '\\n'],\n ['дополнительный', ' ', 'образование', '\\n'],\n ['сыграть', ' ', 'свадьба', '\\n'],\n ['операция', ' ', 'с', ' ', 'жилье', '\\n'],\n ['образование', '\\n'],\n ['на', ' ', 'проведение', ' ', 'свадьба', '\\n'],\n ['покупка', ' ', 'жилье', ' ', 'для', ' ', 'семья', '\\n'],\n ['покупка', ' ', 'недвижимость', '\\n'],\n ['покупка', ' ', 'коммерческий', ' ', 'недвижимость', '\\n'],\n ['покупка', ' ', 'жилой', ' ', 'недвижимость', '\\n'],\n ['строительство', ' ', 'собственный', ' ', 'недвижимость', '\\n'],\n ['недвижимость', '\\n'],\n ['строительство', ' ', 'недвижимость', '\\n'],\n ['на', ' ', 'покупка', ' ', 'подержать', ' ', 'автомобиль', '\\n'],\n ['на', ' ', 'покупка', ' ', 'свой', ' ', 'автомобиль', '\\n'],\n ['операция', ' ', 'с', ' ', 'коммерческий', ' ', 'недвижимость', '\\n'],\n ['строительство', ' ', 'жилой', ' ', 'недвижимость', '\\n'],\n ['жилье', '\\n'],\n ['операция', ' ', 'со', ' ', 'свой', ' ', 'недвижимость', '\\n'],\n ['автомобиль', '\\n'],\n ['заниматься', ' ', 'образование', '\\n'],\n ['сделка', ' ', 'с', ' ', 'подержанный', ' ', 'автомобиль', '\\n'],\n ['получение', ' ', 'образование', '\\n'],\n ['автомобиль', '\\n'],\n ['свадьба', '\\n'],\n ['получение', ' ', 'дополнительный', ' ', 'образование', '\\n'],\n ['покупка', ' ', 'свой', ' ', 'жилье', '\\n'],\n ['операция', ' ', 'с', ' ', 'недвижимость', '\\n'],\n ['получение', ' ', 'высокий', ' ', 'образование', '\\n'],\n ['свой', ' ', 'автомобиль', '\\n'],\n ['сделка', ' ', 'с', ' ', 'автомобиль', '\\n'],\n ['профильный', ' ', 'образование', '\\n'],\n ['высокий', ' ', 'образование', '\\n'],\n ['покупка', ' ', 'жилье', ' ', 'для', ' ', 'сдача', '\\n'],\n ['на', ' ', 'покупка', ' ', 'автомобиль', '\\n'],\n ['ремонт', ' ', 'жилье', '\\n'],\n ['заниматься', ' ', 'высокий', ' ', 'образование', '\\n']]"
     },
     "metadata": {},
     "execution_count": 32
    }
   ],
   "source": [
    "purpose_lemmas = [m.lemmatize(line) for line in purpose_list]\n",
    "purpose_lemmas"
   ]
  },
  {
   "cell_type": "markdown",
   "metadata": {},
   "source": [
    "Мы получили *list of list*. Для подсчета часто встречающихся причин приведём это все в один список и применим функцию *Counter*:"
   ]
  },
  {
   "cell_type": "code",
   "execution_count": 33,
   "metadata": {},
   "outputs": [
    {
     "output_type": "execute_result",
     "data": {
      "text/plain": "[(' ', 59),\n ('\\n', 38),\n ('покупка', 10),\n ('недвижимость', 10),\n ('автомобиль', 9),\n ('образование', 9),\n ('жилье', 7),\n ('с', 5),\n ('операция', 4),\n ('на', 4),\n ('свой', 4),\n ('свадьба', 3),\n ('строительство', 3),\n ('получение', 3),\n ('высокий', 3),\n ('дополнительный', 2),\n ('для', 2),\n ('коммерческий', 2),\n ('жилой', 2),\n ('заниматься', 2),\n ('сделка', 2),\n ('приобретение', 1),\n ('сыграть', 1),\n ('проведение', 1),\n ('семья', 1),\n ('собственный', 1),\n ('подержать', 1),\n ('со', 1),\n ('подержанный', 1),\n ('профильный', 1),\n ('сдача', 1),\n ('ремонт', 1)]"
     },
     "metadata": {},
     "execution_count": 33
    }
   ],
   "source": [
    "flat_list = [item for sublist in purpose_lemmas for item in sublist]\n",
    "\n",
    "Counter(flat_list).most_common()"
   ]
  },
  {
   "cell_type": "markdown",
   "metadata": {},
   "source": [
    "### Вывод"
   ]
  },
  {
   "cell_type": "markdown",
   "metadata": {},
   "source": [
    "После лемматизации мы можем явно проследить основные причины взятия кредита - *недвижимость, автомобиль, образование, свадьбаб недвижимость*."
   ]
  },
  {
   "cell_type": "markdown",
   "metadata": {},
   "source": [
    "### Категоризация данных"
   ]
  },
  {
   "cell_type": "markdown",
   "metadata": {},
   "source": [
    "Для лучшего представления о выборке мы можем выделить несколько категорий:\n",
    "\n",
    "* По возрасту\n",
    "* Уровень образовани\n",
    "* Семейное положение\n",
    "* Уровень дохода\n",
    "* Цель получения\n",
    "\n",
    "По данным таблицам мы сможем увидеть распределение клиентов по категориям. Это важно при установлении зависимостей."
   ]
  },
  {
   "cell_type": "markdown",
   "metadata": {},
   "source": [
    "Проведём категоризацию по *возрасту* клиентов. Присвоим клиентом следующие категории:\n",
    "\n",
    "* Взрослые (от 18 до 64)\n",
    "* Пенсионеры (более 64 лет)\n",
    "\n",
    "Вариант с возрастом менее 18 лет не рассматриваем, так как кредиты не выдаются несовершеннолетним. \n"
   ]
  },
  {
   "cell_type": "code",
   "execution_count": 34,
   "metadata": {},
   "outputs": [],
   "source": [
    "def age_group(age):\n",
    "        \"\"\"\n",
    "        Возвращает возврастную группу по значению возраста age, используя правила:\n",
    "        - 'взрослые' при значениии age более 18 и менее 64, включая 64\n",
    "        - 'пенсионеры' во всех остальных случаях\n",
    "        \"\"\"\n",
    "        if age <= 64:\n",
    "                return 'взрослые'\n",
    "        return 'пенсионеры'"
   ]
  },
  {
   "cell_type": "code",
   "execution_count": 35,
   "metadata": {},
   "outputs": [],
   "source": [
    "data['age_group'] = data['dob_years'].apply(age_group)"
   ]
  },
  {
   "cell_type": "code",
   "execution_count": 36,
   "metadata": {},
   "outputs": [
    {
     "output_type": "execute_result",
     "data": {
      "text/plain": "            children  days_employed  dob_years  education_id  \\\nage_group                                                      \nвзрослые    0.559585   50321.914234  42.446960      0.812179   \nпенсионеры  0.064516  285781.372636  67.431591      0.933259   \n\n            family_status_id      debt   total_income  \nage_group                                              \nвзрослые            0.967711  0.082032  151732.904732  \nпенсионеры          1.083426  0.054505  122509.890990  ",
      "text/html": "<div>\n<style scoped>\n    .dataframe tbody tr th:only-of-type {\n        vertical-align: middle;\n    }\n\n    .dataframe tbody tr th {\n        vertical-align: top;\n    }\n\n    .dataframe thead th {\n        text-align: right;\n    }\n</style>\n<table border=\"1\" class=\"dataframe\">\n  <thead>\n    <tr style=\"text-align: right;\">\n      <th></th>\n      <th>children</th>\n      <th>days_employed</th>\n      <th>dob_years</th>\n      <th>education_id</th>\n      <th>family_status_id</th>\n      <th>debt</th>\n      <th>total_income</th>\n    </tr>\n    <tr>\n      <th>age_group</th>\n      <th></th>\n      <th></th>\n      <th></th>\n      <th></th>\n      <th></th>\n      <th></th>\n      <th></th>\n    </tr>\n  </thead>\n  <tbody>\n    <tr>\n      <th>взрослые</th>\n      <td>0.559585</td>\n      <td>50321.914234</td>\n      <td>42.446960</td>\n      <td>0.812179</td>\n      <td>0.967711</td>\n      <td>0.082032</td>\n      <td>151732.904732</td>\n    </tr>\n    <tr>\n      <th>пенсионеры</th>\n      <td>0.064516</td>\n      <td>285781.372636</td>\n      <td>67.431591</td>\n      <td>0.933259</td>\n      <td>1.083426</td>\n      <td>0.054505</td>\n      <td>122509.890990</td>\n    </tr>\n  </tbody>\n</table>\n</div>"
     },
     "metadata": {},
     "execution_count": 36
    }
   ],
   "source": [
    "data.groupby('age_group').mean()"
   ]
  },
  {
   "cell_type": "markdown",
   "metadata": {},
   "source": [
    "Исходя из данной выборки можно сказать, что у пенсионеров средний доход, чем у взрослых клиентов, но процент образованных людей - выше. Если посмотреть на средние значения по задолжностям кредита, то видно, что пенсионеры чаще выплачивают кредит в сроки. \n",
    "\n",
    "Рассмотрим следующую выборку - по образованию."
   ]
  },
  {
   "cell_type": "code",
   "execution_count": 37,
   "metadata": {},
   "outputs": [
    {
     "output_type": "execute_result",
     "data": {
      "text/plain": "                     children  days_employed  dob_years  education_id  \\\neducation                                                               \nвысшее               0.569011   37992.405133  40.947529           0.0   \nсреднее              0.530756   68688.220705  44.713451           1.0   \nнеоконченное высшее  0.513441   18740.434140  34.774194           2.0   \nначальное            0.482270  120633.748227  47.691489           3.0   \nученая степень       0.666667  121323.333333  51.166667           4.0   \n\n                     family_status_id      debt   total_income  \neducation                                                       \nвысшее                       1.026616  0.052852  185718.957224  \nсреднее                      0.929298  0.089542  138175.111272  \nнеоконченное высшее          1.420699  0.091398  164697.768817  \nначальное                    1.113475  0.109929  122313.691489  \nученая степень               1.166667  0.000000  174749.833333  ",
      "text/html": "<div>\n<style scoped>\n    .dataframe tbody tr th:only-of-type {\n        vertical-align: middle;\n    }\n\n    .dataframe tbody tr th {\n        vertical-align: top;\n    }\n\n    .dataframe thead th {\n        text-align: right;\n    }\n</style>\n<table border=\"1\" class=\"dataframe\">\n  <thead>\n    <tr style=\"text-align: right;\">\n      <th></th>\n      <th>children</th>\n      <th>days_employed</th>\n      <th>dob_years</th>\n      <th>education_id</th>\n      <th>family_status_id</th>\n      <th>debt</th>\n      <th>total_income</th>\n    </tr>\n    <tr>\n      <th>education</th>\n      <th></th>\n      <th></th>\n      <th></th>\n      <th></th>\n      <th></th>\n      <th></th>\n      <th></th>\n    </tr>\n  </thead>\n  <tbody>\n    <tr>\n      <th>высшее</th>\n      <td>0.569011</td>\n      <td>37992.405133</td>\n      <td>40.947529</td>\n      <td>0.0</td>\n      <td>1.026616</td>\n      <td>0.052852</td>\n      <td>185718.957224</td>\n    </tr>\n    <tr>\n      <th>среднее</th>\n      <td>0.530756</td>\n      <td>68688.220705</td>\n      <td>44.713451</td>\n      <td>1.0</td>\n      <td>0.929298</td>\n      <td>0.089542</td>\n      <td>138175.111272</td>\n    </tr>\n    <tr>\n      <th>неоконченное высшее</th>\n      <td>0.513441</td>\n      <td>18740.434140</td>\n      <td>34.774194</td>\n      <td>2.0</td>\n      <td>1.420699</td>\n      <td>0.091398</td>\n      <td>164697.768817</td>\n    </tr>\n    <tr>\n      <th>начальное</th>\n      <td>0.482270</td>\n      <td>120633.748227</td>\n      <td>47.691489</td>\n      <td>3.0</td>\n      <td>1.113475</td>\n      <td>0.109929</td>\n      <td>122313.691489</td>\n    </tr>\n    <tr>\n      <th>ученая степень</th>\n      <td>0.666667</td>\n      <td>121323.333333</td>\n      <td>51.166667</td>\n      <td>4.0</td>\n      <td>1.166667</td>\n      <td>0.000000</td>\n      <td>174749.833333</td>\n    </tr>\n  </tbody>\n</table>\n</div>"
     },
     "metadata": {},
     "execution_count": 37
    }
   ],
   "source": [
    "data.groupby('education').mean().sort_values(by = 'education_id')"
   ]
  },
  {
   "cell_type": "markdown",
   "metadata": {},
   "source": [
    "По данной таблице сразу можно выделить несколько зависимостей:\n",
    "* Чем выше уровень образования, тем меньше возникает проблем с выплатой кредита. \n",
    "* Выше уровень образования - выше средняя ЗП\n",
    "* Много людей в возрасте не имеют среднего образования. \n",
    "\n",
    "Рассмотрим следующую категорию:"
   ]
  },
  {
   "cell_type": "code",
   "execution_count": 38,
   "metadata": {},
   "outputs": [
    {
     "output_type": "execute_result",
     "data": {
      "text/plain": "                       children  days_employed  dob_years  education_id  \\\nfamily_status                                                             \nженат / замужем        0.638207   56986.170598  43.730937      0.805250   \nгражданский брак       0.510175   52216.462533  42.341633      0.837683   \nвдовец / вдова         0.223958  185286.957292  56.732292      0.936458   \nв разводе              0.457741   62366.156485  45.869456      0.797490   \nне женат / не замужем  0.286527   42252.849271  38.608247      0.807323   \n\n                       family_status_id      debt   total_income  \nfamily_status                                                     \nженат / замужем                     0.0  0.075202  152123.240065  \nгражданский брак                    1.0  0.092890  149185.107254  \nвдовец / вдова                      2.0  0.065625  129435.354167  \nв разводе                           3.0  0.071130  154006.209205  \nне женат / не замужем               4.0  0.097405  151102.744401  ",
      "text/html": "<div>\n<style scoped>\n    .dataframe tbody tr th:only-of-type {\n        vertical-align: middle;\n    }\n\n    .dataframe tbody tr th {\n        vertical-align: top;\n    }\n\n    .dataframe thead th {\n        text-align: right;\n    }\n</style>\n<table border=\"1\" class=\"dataframe\">\n  <thead>\n    <tr style=\"text-align: right;\">\n      <th></th>\n      <th>children</th>\n      <th>days_employed</th>\n      <th>dob_years</th>\n      <th>education_id</th>\n      <th>family_status_id</th>\n      <th>debt</th>\n      <th>total_income</th>\n    </tr>\n    <tr>\n      <th>family_status</th>\n      <th></th>\n      <th></th>\n      <th></th>\n      <th></th>\n      <th></th>\n      <th></th>\n      <th></th>\n    </tr>\n  </thead>\n  <tbody>\n    <tr>\n      <th>женат / замужем</th>\n      <td>0.638207</td>\n      <td>56986.170598</td>\n      <td>43.730937</td>\n      <td>0.805250</td>\n      <td>0.0</td>\n      <td>0.075202</td>\n      <td>152123.240065</td>\n    </tr>\n    <tr>\n      <th>гражданский брак</th>\n      <td>0.510175</td>\n      <td>52216.462533</td>\n      <td>42.341633</td>\n      <td>0.837683</td>\n      <td>1.0</td>\n      <td>0.092890</td>\n      <td>149185.107254</td>\n    </tr>\n    <tr>\n      <th>вдовец / вдова</th>\n      <td>0.223958</td>\n      <td>185286.957292</td>\n      <td>56.732292</td>\n      <td>0.936458</td>\n      <td>2.0</td>\n      <td>0.065625</td>\n      <td>129435.354167</td>\n    </tr>\n    <tr>\n      <th>в разводе</th>\n      <td>0.457741</td>\n      <td>62366.156485</td>\n      <td>45.869456</td>\n      <td>0.797490</td>\n      <td>3.0</td>\n      <td>0.071130</td>\n      <td>154006.209205</td>\n    </tr>\n    <tr>\n      <th>не женат / не замужем</th>\n      <td>0.286527</td>\n      <td>42252.849271</td>\n      <td>38.608247</td>\n      <td>0.807323</td>\n      <td>4.0</td>\n      <td>0.097405</td>\n      <td>151102.744401</td>\n    </tr>\n  </tbody>\n</table>\n</div>"
     },
     "metadata": {},
     "execution_count": 38
    }
   ],
   "source": [
    "data.groupby('family_status').mean().sort_values(by = 'family_status_id')"
   ]
  },
  {
   "cell_type": "markdown",
   "metadata": {},
   "source": [
    "По аналогии с предыдущему таблицами можно увидеть зависимости. К примеру:\n",
    "\n",
    "* У людей в браке (официальном / гражданском) больше детей;\n",
    "* Люди в браке старше не женатых / не замужних. У вдов / вдовцов средний возраст заметно выше, чем у остальных категорий;\n",
    "* У вдовцов / вдов выше уровень образования. Вероятно, в связи с возрастом.\n"
   ]
  },
  {
   "cell_type": "markdown",
   "metadata": {},
   "source": [
    "Проанализиуем уровень дохода клиентов. Для этого посмотрим минимальное / максимальное / среднее / медианное значение для таблицы *total_income.*"
   ]
  },
  {
   "cell_type": "code",
   "execution_count": 39,
   "metadata": {},
   "outputs": [
    {
     "output_type": "stream",
     "name": "stdout",
     "text": "min = 0\nmax = 2265604\nmean = 150512.39419279908\nmedian = 135514.0\n"
    }
   ],
   "source": [
    "print(f\"min = {data['total_income'].min()}\")\n",
    "print(f\"max = {data['total_income'].max()}\")\n",
    "print(f\"mean = {data['total_income'].mean()}\")\n",
    "print(f\"median = {data['total_income'].median()}\")"
   ]
  },
  {
   "cell_type": "markdown",
   "metadata": {},
   "source": [
    "Разделим уровень доходов на 4 категории:\n",
    "\n",
    "* до 50000\n",
    "* 50000-80000\n",
    "* 80000-150000\n",
    "* 150000-2500000\n",
    "\n",
    "Посмотрим распределение по данным категориям. "
   ]
  },
  {
   "cell_type": "code",
   "execution_count": 41,
   "metadata": {},
   "outputs": [],
   "source": [
    "def income_cat(row):\n",
    "\n",
    "    if row < 50000:\n",
    "        return  'до 50000'\n",
    "    elif 50000 < row < 80000:\n",
    "        return  '50000-80000'\n",
    "    elif 80000 < row < 150000:\n",
    "        return  '80000-150000'\n",
    "    elif 150000 < row < 2500000:\n",
    "        return  '150000-2500000'\n",
    "        \n",
    "data['income_category'] = data['total_income'].apply(income_cat)"
   ]
  },
  {
   "cell_type": "code",
   "execution_count": 42,
   "metadata": {},
   "outputs": [
    {
     "output_type": "execute_result",
     "data": {
      "text/plain": "                 children  days_employed  dob_years  education_id  \\\nincome_category                                                     \nдо 50000         0.534171   26088.035350  44.701100      0.830715   \n50000-80000      0.451681  119580.087710  46.111870      0.947479   \n80000-150000     0.550501   71589.298188  43.442403      0.875301   \n150000-2500000   0.548345   47457.042683  42.652657      0.736607   \n\n                 family_status_id      debt   total_income  \nincome_category                                             \nдо 50000                 0.939906  0.075805    6120.491359  \n50000-80000              0.956408  0.079307   67191.070378  \n80000-150000             1.006590  0.085034  114919.061462  \n150000-2500000           0.955684  0.079051  238397.038545  ",
      "text/html": "<div>\n<style scoped>\n    .dataframe tbody tr th:only-of-type {\n        vertical-align: middle;\n    }\n\n    .dataframe tbody tr th {\n        vertical-align: top;\n    }\n\n    .dataframe thead th {\n        text-align: right;\n    }\n</style>\n<table border=\"1\" class=\"dataframe\">\n  <thead>\n    <tr style=\"text-align: right;\">\n      <th></th>\n      <th>children</th>\n      <th>days_employed</th>\n      <th>dob_years</th>\n      <th>education_id</th>\n      <th>family_status_id</th>\n      <th>debt</th>\n      <th>total_income</th>\n    </tr>\n    <tr>\n      <th>income_category</th>\n      <th></th>\n      <th></th>\n      <th></th>\n      <th></th>\n      <th></th>\n      <th></th>\n      <th></th>\n    </tr>\n  </thead>\n  <tbody>\n    <tr>\n      <th>до 50000</th>\n      <td>0.534171</td>\n      <td>26088.035350</td>\n      <td>44.701100</td>\n      <td>0.830715</td>\n      <td>0.939906</td>\n      <td>0.075805</td>\n      <td>6120.491359</td>\n    </tr>\n    <tr>\n      <th>50000-80000</th>\n      <td>0.451681</td>\n      <td>119580.087710</td>\n      <td>46.111870</td>\n      <td>0.947479</td>\n      <td>0.956408</td>\n      <td>0.079307</td>\n      <td>67191.070378</td>\n    </tr>\n    <tr>\n      <th>80000-150000</th>\n      <td>0.550501</td>\n      <td>71589.298188</td>\n      <td>43.442403</td>\n      <td>0.875301</td>\n      <td>1.006590</td>\n      <td>0.085034</td>\n      <td>114919.061462</td>\n    </tr>\n    <tr>\n      <th>150000-2500000</th>\n      <td>0.548345</td>\n      <td>47457.042683</td>\n      <td>42.652657</td>\n      <td>0.736607</td>\n      <td>0.955684</td>\n      <td>0.079051</td>\n      <td>238397.038545</td>\n    </tr>\n  </tbody>\n</table>\n</div>"
     },
     "metadata": {},
     "execution_count": 42
    }
   ],
   "source": [
    "data.groupby(by = 'income_category').mean().sort_values(by = 'total_income')"
   ]
  },
  {
   "cell_type": "markdown",
   "metadata": {},
   "source": [
    "Присвоим каждому клиенту свою категорию цели кредита. Для этого используем ранее полученную информацию в пункте \"Лемматизация\". В таблице было выявлено 5 категорий:\n",
    "\n",
    "* жилье\n",
    "* автомобиль\n",
    "* образование\n",
    "* свадьба\n",
    "* недвижимость\n",
    "\n",
    "Проверим столбец *purpose* и распределим строки по этим категориям. Сохраним категориии в переменную *lemmas_cat*. "
   ]
  },
  {
   "cell_type": "code",
   "execution_count": 43,
   "metadata": {},
   "outputs": [],
   "source": [
    "lemmas_cat = ['жилье', 'автомобиль', 'образование', 'свадьба', 'недвижимость']\n",
    ""
   ]
  },
  {
   "cell_type": "markdown",
   "metadata": {},
   "source": [
    "Создадим функцию *purpose_cat*, в которой проверим принадлежность цели к указанному классу, лемматизируя значение в столбце *purpose*. "
   ]
  },
  {
   "cell_type": "code",
   "execution_count": 44,
   "metadata": {},
   "outputs": [],
   "source": [
    "def purpose_cat(row):\n",
    "    if lemmas_cat[0] in m.lemmatize(row):\n",
    "        return lemmas_cat[0]\n",
    "    elif lemmas_cat[1] in m.lemmatize(row):\n",
    "        return lemmas_cat[1]\n",
    "    elif lemmas_cat[2] in m.lemmatize(row):\n",
    "        return lemmas_cat[2]\n",
    "    elif lemmas_cat[3] in m.lemmatize(row):\n",
    "        return lemmas_cat[3]\n",
    "    elif lemmas_cat[4] in m.lemmatize(row):\n",
    "        return lemmas_cat[4]\n",
    "    return 'undefined'\n",
    "\n",
    ""
   ]
  },
  {
   "cell_type": "markdown",
   "metadata": {},
   "source": [
    "Добавим дополнительную колонку *purpose_category*, в которой и будет указан класс. "
   ]
  },
  {
   "cell_type": "code",
   "execution_count": 45,
   "metadata": {},
   "outputs": [],
   "source": [
    "data['purpose_category'] = data['purpose'].apply(purpose_cat)"
   ]
  },
  {
   "cell_type": "code",
   "execution_count": 41,
   "metadata": {},
   "outputs": [
    {
     "data": {
      "text/html": [
       "<div>\n",
       "<style scoped>\n",
       "    .dataframe tbody tr th:only-of-type {\n",
       "        vertical-align: middle;\n",
       "    }\n",
       "\n",
       "    .dataframe tbody tr th {\n",
       "        vertical-align: top;\n",
       "    }\n",
       "\n",
       "    .dataframe thead th {\n",
       "        text-align: right;\n",
       "    }\n",
       "</style>\n",
       "<table border=\"1\" class=\"dataframe\">\n",
       "  <thead>\n",
       "    <tr style=\"text-align: right;\">\n",
       "      <th></th>\n",
       "      <th>children</th>\n",
       "      <th>days_employed</th>\n",
       "      <th>dob_years</th>\n",
       "      <th>education_id</th>\n",
       "      <th>family_status_id</th>\n",
       "      <th>debt</th>\n",
       "      <th>total_income</th>\n",
       "    </tr>\n",
       "    <tr>\n",
       "      <th>purpose_category</th>\n",
       "      <th></th>\n",
       "      <th></th>\n",
       "      <th></th>\n",
       "      <th></th>\n",
       "      <th></th>\n",
       "      <th></th>\n",
       "      <th></th>\n",
       "    </tr>\n",
       "  </thead>\n",
       "  <tbody>\n",
       "    <tr>\n",
       "      <th>автомобиль</th>\n",
       "      <td>0.533488</td>\n",
       "      <td>2018.929548</td>\n",
       "      <td>43.692700</td>\n",
       "      <td>0.820626</td>\n",
       "      <td>0.988413</td>\n",
       "      <td>0.093395</td>\n",
       "      <td>151117.583778</td>\n",
       "    </tr>\n",
       "    <tr>\n",
       "      <th>жилье</th>\n",
       "      <td>0.547060</td>\n",
       "      <td>2009.926671</td>\n",
       "      <td>43.165214</td>\n",
       "      <td>0.809524</td>\n",
       "      <td>0.959759</td>\n",
       "      <td>0.068858</td>\n",
       "      <td>153335.206573</td>\n",
       "    </tr>\n",
       "    <tr>\n",
       "      <th>недвижимость</th>\n",
       "      <td>0.532276</td>\n",
       "      <td>2050.677399</td>\n",
       "      <td>43.509188</td>\n",
       "      <td>0.819538</td>\n",
       "      <td>0.973771</td>\n",
       "      <td>0.074446</td>\n",
       "      <td>151148.479661</td>\n",
       "    </tr>\n",
       "    <tr>\n",
       "      <th>образование</th>\n",
       "      <td>0.548235</td>\n",
       "      <td>2010.020885</td>\n",
       "      <td>43.614620</td>\n",
       "      <td>0.827946</td>\n",
       "      <td>0.951765</td>\n",
       "      <td>0.091994</td>\n",
       "      <td>147067.226504</td>\n",
       "    </tr>\n",
       "    <tr>\n",
       "      <th>свадьба</th>\n",
       "      <td>0.535349</td>\n",
       "      <td>2046.270869</td>\n",
       "      <td>43.474872</td>\n",
       "      <td>0.801107</td>\n",
       "      <td>1.000000</td>\n",
       "      <td>0.079216</td>\n",
       "      <td>148199.223595</td>\n",
       "    </tr>\n",
       "  </tbody>\n",
       "</table>\n",
       "</div>"
      ],
      "text/plain": [
       "                  children  days_employed  dob_years  education_id  \\\n",
       "purpose_category                                                     \n",
       "автомобиль        0.533488    2018.929548  43.692700      0.820626   \n",
       "жилье             0.547060    2009.926671  43.165214      0.809524   \n",
       "недвижимость      0.532276    2050.677399  43.509188      0.819538   \n",
       "образование       0.548235    2010.020885  43.614620      0.827946   \n",
       "свадьба           0.535349    2046.270869  43.474872      0.801107   \n",
       "\n",
       "                  family_status_id      debt   total_income  \n",
       "purpose_category                                             \n",
       "автомобиль                0.988413  0.093395  151117.583778  \n",
       "жилье                     0.959759  0.068858  153335.206573  \n",
       "недвижимость              0.973771  0.074446  151148.479661  \n",
       "образование               0.951765  0.091994  147067.226504  \n",
       "свадьба                   1.000000  0.079216  148199.223595  "
      ]
     },
     "execution_count": 41,
     "metadata": {},
     "output_type": "execute_result"
    }
   ],
   "source": [
    "data.groupby(by='purpose_category').mean()"
   ]
  },
  {
   "cell_type": "markdown",
   "metadata": {},
   "source": [
    "### Вывод"
   ]
  },
  {
   "cell_type": "markdown",
   "metadata": {},
   "source": [
    "После построения таблиц с выделеными категориями клиентов можно отследить завимости, которые могут понадобиться при дальнейшем построении гипотез. "
   ]
  },
  {
   "cell_type": "markdown",
   "metadata": {},
   "source": [
    "### Шаг 3. Ответьте на вопросы"
   ]
  },
  {
   "cell_type": "markdown",
   "metadata": {},
   "source": [
    "- Есть ли зависимость между наличием детей и возвратом кредита в срок?"
   ]
  },
  {
   "cell_type": "code",
   "execution_count": 46,
   "metadata": {},
   "outputs": [
    {
     "output_type": "execute_result",
     "data": {
      "text/plain": "              debt\nchildren          \n-1        0.021277\n 0        0.075129\n 1        0.092154\n 2        0.094404\n 3        0.081818\n 4        0.097561\n 5        0.000000\n 20       0.105263",
      "text/html": "<div>\n<style scoped>\n    .dataframe tbody tr th:only-of-type {\n        vertical-align: middle;\n    }\n\n    .dataframe tbody tr th {\n        vertical-align: top;\n    }\n\n    .dataframe thead th {\n        text-align: right;\n    }\n</style>\n<table border=\"1\" class=\"dataframe\">\n  <thead>\n    <tr style=\"text-align: right;\">\n      <th></th>\n      <th>debt</th>\n    </tr>\n    <tr>\n      <th>children</th>\n      <th></th>\n    </tr>\n  </thead>\n  <tbody>\n    <tr>\n      <th>-1</th>\n      <td>0.021277</td>\n    </tr>\n    <tr>\n      <th>0</th>\n      <td>0.075129</td>\n    </tr>\n    <tr>\n      <th>1</th>\n      <td>0.092154</td>\n    </tr>\n    <tr>\n      <th>2</th>\n      <td>0.094404</td>\n    </tr>\n    <tr>\n      <th>3</th>\n      <td>0.081818</td>\n    </tr>\n    <tr>\n      <th>4</th>\n      <td>0.097561</td>\n    </tr>\n    <tr>\n      <th>5</th>\n      <td>0.000000</td>\n    </tr>\n    <tr>\n      <th>20</th>\n      <td>0.105263</td>\n    </tr>\n  </tbody>\n</table>\n</div>"
     },
     "metadata": {},
     "execution_count": 46
    }
   ],
   "source": [
    "data.pivot_table('debt', index = 'children')"
   ]
  },
  {
   "cell_type": "markdown",
   "metadata": {},
   "source": [
    "### Вывод"
   ]
  },
  {
   "cell_type": "markdown",
   "metadata": {},
   "source": [
    "Зависимость просматривается. Чем больше детей, тем чаще возникают проблемы с кредитом. "
   ]
  },
  {
   "cell_type": "markdown",
   "metadata": {},
   "source": [
    "- Есть ли зависимость между семейным положением и возвратом кредита в срок?"
   ]
  },
  {
   "cell_type": "code",
   "execution_count": 47,
   "metadata": {},
   "outputs": [
    {
     "output_type": "execute_result",
     "data": {
      "text/plain": "                           debt\nfamily_status                  \nв разводе              0.071130\nвдовец / вдова         0.065625\nгражданский брак       0.092890\nженат / замужем        0.075202\nне женат / не замужем  0.097405",
      "text/html": "<div>\n<style scoped>\n    .dataframe tbody tr th:only-of-type {\n        vertical-align: middle;\n    }\n\n    .dataframe tbody tr th {\n        vertical-align: top;\n    }\n\n    .dataframe thead th {\n        text-align: right;\n    }\n</style>\n<table border=\"1\" class=\"dataframe\">\n  <thead>\n    <tr style=\"text-align: right;\">\n      <th></th>\n      <th>debt</th>\n    </tr>\n    <tr>\n      <th>family_status</th>\n      <th></th>\n    </tr>\n  </thead>\n  <tbody>\n    <tr>\n      <th>в разводе</th>\n      <td>0.071130</td>\n    </tr>\n    <tr>\n      <th>вдовец / вдова</th>\n      <td>0.065625</td>\n    </tr>\n    <tr>\n      <th>гражданский брак</th>\n      <td>0.092890</td>\n    </tr>\n    <tr>\n      <th>женат / замужем</th>\n      <td>0.075202</td>\n    </tr>\n    <tr>\n      <th>не женат / не замужем</th>\n      <td>0.097405</td>\n    </tr>\n  </tbody>\n</table>\n</div>"
     },
     "metadata": {},
     "execution_count": 47
    }
   ],
   "source": [
    "data.pivot_table('debt', 'family_status')"
   ]
  },
  {
   "cell_type": "markdown",
   "metadata": {},
   "source": [
    "### Вывод"
   ]
  },
  {
   "cell_type": "markdown",
   "metadata": {},
   "source": [
    "Зависимость просматривается. \n",
    "* Люди, которые не состоят в официальном браке, чаще имеют проблемы с выплатой кредита. \n",
    "* Если человек состоял / состоит в браке, то проблемы с выплатой наблюдаются реже. "
   ]
  },
  {
   "cell_type": "markdown",
   "metadata": {},
   "source": [
    "- Есть ли зависимость между уровнем дохода и возвратом кредита в срок?"
   ]
  },
  {
   "cell_type": "code",
   "execution_count": 44,
   "metadata": {},
   "outputs": [
    {
     "data": {
      "text/html": [
       "<div>\n",
       "<style scoped>\n",
       "    .dataframe tbody tr th:only-of-type {\n",
       "        vertical-align: middle;\n",
       "    }\n",
       "\n",
       "    .dataframe tbody tr th {\n",
       "        vertical-align: top;\n",
       "    }\n",
       "\n",
       "    .dataframe thead th {\n",
       "        text-align: right;\n",
       "    }\n",
       "</style>\n",
       "<table border=\"1\" class=\"dataframe\">\n",
       "  <thead>\n",
       "    <tr style=\"text-align: right;\">\n",
       "      <th></th>\n",
       "      <th>debt</th>\n",
       "    </tr>\n",
       "    <tr>\n",
       "      <th>income_category</th>\n",
       "      <th></th>\n",
       "    </tr>\n",
       "  </thead>\n",
       "  <tbody>\n",
       "    <tr>\n",
       "      <th>150000-2500000</th>\n",
       "      <td>0.079051</td>\n",
       "    </tr>\n",
       "    <tr>\n",
       "      <th>50000-80000</th>\n",
       "      <td>0.079307</td>\n",
       "    </tr>\n",
       "    <tr>\n",
       "      <th>80000-150000</th>\n",
       "      <td>0.085034</td>\n",
       "    </tr>\n",
       "    <tr>\n",
       "      <th>до 50000</th>\n",
       "      <td>0.075805</td>\n",
       "    </tr>\n",
       "  </tbody>\n",
       "</table>\n",
       "</div>"
      ],
      "text/plain": [
       "                     debt\n",
       "income_category          \n",
       "150000-2500000   0.079051\n",
       "50000-80000      0.079307\n",
       "80000-150000     0.085034\n",
       "до 50000         0.075805"
      ]
     },
     "execution_count": 44,
     "metadata": {},
     "output_type": "execute_result"
    }
   ],
   "source": [
    "data.pivot_table('debt', 'income_category')"
   ]
  },
  {
   "cell_type": "markdown",
   "metadata": {},
   "source": [
    "### Вывод"
   ]
  },
  {
   "cell_type": "markdown",
   "metadata": {},
   "source": [
    "Для отслеживания зависимости потребуются дополнительные данные. По данной выборке какой-либо зависимости не наблюдается. Есть небольшое повышение среднего значения для категории людей с заработком 80000-150000, но оно не значительное. "
   ]
  },
  {
   "cell_type": "markdown",
   "metadata": {},
   "source": [
    "- Как разные цели кредита влияют на его возврат в срок?"
   ]
  },
  {
   "cell_type": "code",
   "execution_count": 48,
   "metadata": {},
   "outputs": [
    {
     "output_type": "execute_result",
     "data": {
      "text/plain": "                      debt\npurpose_category          \nавтомобиль        0.093395\nжилье             0.068858\nнедвижимость      0.074446\nобразование       0.091994\nсвадьба           0.079216",
      "text/html": "<div>\n<style scoped>\n    .dataframe tbody tr th:only-of-type {\n        vertical-align: middle;\n    }\n\n    .dataframe tbody tr th {\n        vertical-align: top;\n    }\n\n    .dataframe thead th {\n        text-align: right;\n    }\n</style>\n<table border=\"1\" class=\"dataframe\">\n  <thead>\n    <tr style=\"text-align: right;\">\n      <th></th>\n      <th>debt</th>\n    </tr>\n    <tr>\n      <th>purpose_category</th>\n      <th></th>\n    </tr>\n  </thead>\n  <tbody>\n    <tr>\n      <th>автомобиль</th>\n      <td>0.093395</td>\n    </tr>\n    <tr>\n      <th>жилье</th>\n      <td>0.068858</td>\n    </tr>\n    <tr>\n      <th>недвижимость</th>\n      <td>0.074446</td>\n    </tr>\n    <tr>\n      <th>образование</th>\n      <td>0.091994</td>\n    </tr>\n    <tr>\n      <th>свадьба</th>\n      <td>0.079216</td>\n    </tr>\n  </tbody>\n</table>\n</div>"
     },
     "metadata": {},
     "execution_count": 48
    }
   ],
   "source": [
    "data.pivot_table('debt', 'purpose_category')"
   ]
  },
  {
   "cell_type": "markdown",
   "metadata": {},
   "source": [
    "### Вывод"
   ]
  },
  {
   "cell_type": "markdown",
   "metadata": {},
   "source": [
    "Наблюдается зависимость. Кредиты на такие категории, как *автомобиль, образование* чаще вызывают проблемы с выплатой кредита. "
   ]
  },
  {
   "cell_type": "markdown",
   "metadata": {},
   "source": [
    "### Шаг 4. Общий вывод"
   ]
  },
  {
   "cell_type": "markdown",
   "metadata": {},
   "source": [
    "При проведении анализа были выявлены пропущенные данные, различные типы значений в столбцах, а также дублированные записи. \n",
    "В процессе очистки были обнаруженны завышенные значения в столбце с опытом работы, которые были приведены к медиане. \n",
    "\n",
    "Проводя выделения лемм было установлено, что много записей имели общую цель кредита, но различную запись. В результате, для всех клиентом были назначены категории, в соответствии с их целями. \n",
    "\n",
    "В итоге работы были выявлены следующие зависимости:\n",
    "\n",
    "* Чем больше детей, тем реже выплачивают кредит в срок\n",
    "* Люди, состоящие / состоявшие в официальном браке чаще выплачивают кредит в срок\n",
    "* Нет зависимости от уровня дохода и возвратом кредита в срок. Наблюдается некоторое повышение среднего значения для категории 80 тыс - 150 тыс, однако оно не значительное. Вероятно, потребуется больше данных для выявления зависимости.\n",
    "* Своевременность выплаты кредита зависит от целей. "
   ]
  }
 ],
 "metadata": {
  "kernelspec": {
   "display_name": "Python 3",
   "language": "python",
   "name": "python3"
  },
  "language_info": {
   "codemirror_mode": {
    "name": "ipython",
    "version": 3
   },
   "file_extension": ".py",
   "mimetype": "text/x-python",
   "name": "python",
   "nbconvert_exporter": "python",
   "pygments_lexer": "ipython3",
   "version": "3.7.6-final"
  }
 },
 "nbformat": 4,
 "nbformat_minor": 2
}