{
 "cells": [
  {
   "cell_type": "markdown",
   "metadata": {},
   "source": [
    "# Описание проекта\n",
    "\n",
    "Компания разрабатывает решения для эффективной работы промышленных предприятий.\n",
    "\n",
    "Модель должна предсказать коэффициент восстановления золота из золотосодержащей руды. В вашем распоряжении данные с параметрами добычи и очистки. \n",
    "\n",
    "Модель поможет оптимизировать производство, чтобы не запускать предприятие с убыточными характеристиками.\n",
    "\n",
    "Вам нужно:\n",
    "\n",
    "1. Подготовить данные;\n",
    "2. Провести исследовательский анализ данных;\n",
    "3. Построить и обучить модель.\n",
    "\n",
    "Чтобы выполнить проект, обращайтесь к библиотекам *pandas*, *matplotlib* и *sklearn.* Вам поможет их документация."
   ]
  },
  {
   "cell_type": "markdown",
   "metadata": {},
   "source": [
    "# 1. Подготовка данных\n",
    "\n",
    "Наш план по подготовке будет состоять из следующих шагов:\n",
    "\n",
    "- Откроем файлы и изучим их.\n",
    "- Проверим, что эффективность обогащения рассчитана правильно. Вычислим её на обучающей выборке для признака `rougher.output.recovery`. Найдём *MAE* между нашими расчётами и значением признака. Краткий вывод.\n",
    "- Проанализируем признаки, недоступные в тестовой выборке. Что это за параметры? К какому типу относятся?\n",
    "- Предобработка данных\n",
    "\n",
    "Для начала посмотрим на наши данные.\n",
    "\n",
    "- gold_recovery_train.csv — обучающая выборка;\n",
    "- gold_recovery_test.csv — тестовая выборка;\n",
    "- gold_recovery_full.csv — исходные данные."
   ]
  },
  {
   "cell_type": "code",
   "execution_count": 1,
   "metadata": {},
   "outputs": [],
   "source": [
    "import pandas as pd\n",
    "import warnings\n",
    "warnings.filterwarnings('ignore')\n",
    "\n",
    "pd.set_option('mode.chained_assignment', None)\n",
    "\n",
    "df = pd.read_csv('/datasets/gold_recovery_full.csv')\n",
    "df_train = pd.read_csv('/datasets/gold_recovery_train.csv')\n",
    "df_test = pd.read_csv('/datasets/gold_recovery_test.csv')"
   ]
  },
  {
   "cell_type": "code",
   "execution_count": 2,
   "metadata": {},
   "outputs": [
    {
     "data": {
      "text/plain": [
       "((22716, 87), (16860, 87), (5856, 53))"
      ]
     },
     "execution_count": 2,
     "metadata": {},
     "output_type": "execute_result"
    }
   ],
   "source": [
    "df.shape ,\\\n",
    "df_train.shape ,\\\n",
    "df_test.shape"
   ]
  },
  {
   "cell_type": "markdown",
   "metadata": {},
   "source": [
    "Видно, что при разделении не были утеряны данные. Также мы видим, что кол-во признаков в тестовой выборке меньше, чем в обучающей и исходной. \n",
    "\n",
    "Это связано с тем, что некоторые параметры недоступны и замеряются / рассчитываются позже. \n",
    "    "
   ]
  },
  {
   "cell_type": "markdown",
   "metadata": {},
   "source": [
    "Посмотрим, каких признаков у нас нет в тестовой сборке"
   ]
  },
  {
   "cell_type": "code",
   "execution_count": 3,
   "metadata": {},
   "outputs": [
    {
     "data": {
      "text/html": [
       "<div>\n",
       "<style scoped>\n",
       "    .dataframe tbody tr th:only-of-type {\n",
       "        vertical-align: middle;\n",
       "    }\n",
       "\n",
       "    .dataframe tbody tr th {\n",
       "        vertical-align: top;\n",
       "    }\n",
       "\n",
       "    .dataframe thead th {\n",
       "        text-align: right;\n",
       "    }\n",
       "</style>\n",
       "<table border=\"1\" class=\"dataframe\">\n",
       "  <thead>\n",
       "    <tr style=\"text-align: right;\">\n",
       "      <th></th>\n",
       "      <th>Этап</th>\n",
       "      <th>Тип параметра</th>\n",
       "      <th>Название параметра</th>\n",
       "    </tr>\n",
       "  </thead>\n",
       "  <tbody>\n",
       "    <tr>\n",
       "      <td>0</td>\n",
       "      <td>final</td>\n",
       "      <td>output</td>\n",
       "      <td>concentrate_ag</td>\n",
       "    </tr>\n",
       "    <tr>\n",
       "      <td>1</td>\n",
       "      <td>final</td>\n",
       "      <td>output</td>\n",
       "      <td>concentrate_pb</td>\n",
       "    </tr>\n",
       "    <tr>\n",
       "      <td>2</td>\n",
       "      <td>final</td>\n",
       "      <td>output</td>\n",
       "      <td>concentrate_sol</td>\n",
       "    </tr>\n",
       "    <tr>\n",
       "      <td>3</td>\n",
       "      <td>final</td>\n",
       "      <td>output</td>\n",
       "      <td>concentrate_au</td>\n",
       "    </tr>\n",
       "    <tr>\n",
       "      <td>4</td>\n",
       "      <td>final</td>\n",
       "      <td>output</td>\n",
       "      <td>recovery</td>\n",
       "    </tr>\n",
       "    <tr>\n",
       "      <td>5</td>\n",
       "      <td>final</td>\n",
       "      <td>output</td>\n",
       "      <td>tail_ag</td>\n",
       "    </tr>\n",
       "    <tr>\n",
       "      <td>6</td>\n",
       "      <td>final</td>\n",
       "      <td>output</td>\n",
       "      <td>tail_pb</td>\n",
       "    </tr>\n",
       "    <tr>\n",
       "      <td>7</td>\n",
       "      <td>final</td>\n",
       "      <td>output</td>\n",
       "      <td>tail_sol</td>\n",
       "    </tr>\n",
       "    <tr>\n",
       "      <td>8</td>\n",
       "      <td>final</td>\n",
       "      <td>output</td>\n",
       "      <td>tail_au</td>\n",
       "    </tr>\n",
       "    <tr>\n",
       "      <td>9</td>\n",
       "      <td>primary_cleaner</td>\n",
       "      <td>output</td>\n",
       "      <td>concentrate_ag</td>\n",
       "    </tr>\n",
       "    <tr>\n",
       "      <td>10</td>\n",
       "      <td>primary_cleaner</td>\n",
       "      <td>output</td>\n",
       "      <td>concentrate_pb</td>\n",
       "    </tr>\n",
       "    <tr>\n",
       "      <td>11</td>\n",
       "      <td>primary_cleaner</td>\n",
       "      <td>output</td>\n",
       "      <td>concentrate_sol</td>\n",
       "    </tr>\n",
       "    <tr>\n",
       "      <td>12</td>\n",
       "      <td>primary_cleaner</td>\n",
       "      <td>output</td>\n",
       "      <td>concentrate_au</td>\n",
       "    </tr>\n",
       "    <tr>\n",
       "      <td>13</td>\n",
       "      <td>primary_cleaner</td>\n",
       "      <td>output</td>\n",
       "      <td>tail_ag</td>\n",
       "    </tr>\n",
       "    <tr>\n",
       "      <td>14</td>\n",
       "      <td>primary_cleaner</td>\n",
       "      <td>output</td>\n",
       "      <td>tail_pb</td>\n",
       "    </tr>\n",
       "    <tr>\n",
       "      <td>15</td>\n",
       "      <td>primary_cleaner</td>\n",
       "      <td>output</td>\n",
       "      <td>tail_sol</td>\n",
       "    </tr>\n",
       "    <tr>\n",
       "      <td>16</td>\n",
       "      <td>primary_cleaner</td>\n",
       "      <td>output</td>\n",
       "      <td>tail_au</td>\n",
       "    </tr>\n",
       "    <tr>\n",
       "      <td>17</td>\n",
       "      <td>rougher</td>\n",
       "      <td>calculation</td>\n",
       "      <td>sulfate_to_au_concentrate</td>\n",
       "    </tr>\n",
       "    <tr>\n",
       "      <td>18</td>\n",
       "      <td>rougher</td>\n",
       "      <td>calculation</td>\n",
       "      <td>floatbank10_sulfate_to_au_feed</td>\n",
       "    </tr>\n",
       "    <tr>\n",
       "      <td>19</td>\n",
       "      <td>rougher</td>\n",
       "      <td>calculation</td>\n",
       "      <td>floatbank11_sulfate_to_au_feed</td>\n",
       "    </tr>\n",
       "    <tr>\n",
       "      <td>20</td>\n",
       "      <td>rougher</td>\n",
       "      <td>calculation</td>\n",
       "      <td>au_pb_ratio</td>\n",
       "    </tr>\n",
       "    <tr>\n",
       "      <td>21</td>\n",
       "      <td>rougher</td>\n",
       "      <td>output</td>\n",
       "      <td>concentrate_ag</td>\n",
       "    </tr>\n",
       "    <tr>\n",
       "      <td>22</td>\n",
       "      <td>rougher</td>\n",
       "      <td>output</td>\n",
       "      <td>concentrate_pb</td>\n",
       "    </tr>\n",
       "    <tr>\n",
       "      <td>23</td>\n",
       "      <td>rougher</td>\n",
       "      <td>output</td>\n",
       "      <td>concentrate_sol</td>\n",
       "    </tr>\n",
       "    <tr>\n",
       "      <td>24</td>\n",
       "      <td>rougher</td>\n",
       "      <td>output</td>\n",
       "      <td>concentrate_au</td>\n",
       "    </tr>\n",
       "    <tr>\n",
       "      <td>25</td>\n",
       "      <td>rougher</td>\n",
       "      <td>output</td>\n",
       "      <td>recovery</td>\n",
       "    </tr>\n",
       "    <tr>\n",
       "      <td>26</td>\n",
       "      <td>rougher</td>\n",
       "      <td>output</td>\n",
       "      <td>tail_ag</td>\n",
       "    </tr>\n",
       "    <tr>\n",
       "      <td>27</td>\n",
       "      <td>rougher</td>\n",
       "      <td>output</td>\n",
       "      <td>tail_pb</td>\n",
       "    </tr>\n",
       "    <tr>\n",
       "      <td>28</td>\n",
       "      <td>rougher</td>\n",
       "      <td>output</td>\n",
       "      <td>tail_sol</td>\n",
       "    </tr>\n",
       "    <tr>\n",
       "      <td>29</td>\n",
       "      <td>rougher</td>\n",
       "      <td>output</td>\n",
       "      <td>tail_au</td>\n",
       "    </tr>\n",
       "    <tr>\n",
       "      <td>30</td>\n",
       "      <td>secondary_cleaner</td>\n",
       "      <td>output</td>\n",
       "      <td>tail_ag</td>\n",
       "    </tr>\n",
       "    <tr>\n",
       "      <td>31</td>\n",
       "      <td>secondary_cleaner</td>\n",
       "      <td>output</td>\n",
       "      <td>tail_pb</td>\n",
       "    </tr>\n",
       "    <tr>\n",
       "      <td>32</td>\n",
       "      <td>secondary_cleaner</td>\n",
       "      <td>output</td>\n",
       "      <td>tail_sol</td>\n",
       "    </tr>\n",
       "    <tr>\n",
       "      <td>33</td>\n",
       "      <td>secondary_cleaner</td>\n",
       "      <td>output</td>\n",
       "      <td>tail_au</td>\n",
       "    </tr>\n",
       "  </tbody>\n",
       "</table>\n",
       "</div>"
      ],
      "text/plain": [
       "                 Этап Тип параметра              Название параметра\n",
       "0               final        output                  concentrate_ag\n",
       "1               final        output                  concentrate_pb\n",
       "2               final        output                 concentrate_sol\n",
       "3               final        output                  concentrate_au\n",
       "4               final        output                        recovery\n",
       "5               final        output                         tail_ag\n",
       "6               final        output                         tail_pb\n",
       "7               final        output                        tail_sol\n",
       "8               final        output                         tail_au\n",
       "9     primary_cleaner        output                  concentrate_ag\n",
       "10    primary_cleaner        output                  concentrate_pb\n",
       "11    primary_cleaner        output                 concentrate_sol\n",
       "12    primary_cleaner        output                  concentrate_au\n",
       "13    primary_cleaner        output                         tail_ag\n",
       "14    primary_cleaner        output                         tail_pb\n",
       "15    primary_cleaner        output                        tail_sol\n",
       "16    primary_cleaner        output                         tail_au\n",
       "17            rougher   calculation       sulfate_to_au_concentrate\n",
       "18            rougher   calculation  floatbank10_sulfate_to_au_feed\n",
       "19            rougher   calculation  floatbank11_sulfate_to_au_feed\n",
       "20            rougher   calculation                     au_pb_ratio\n",
       "21            rougher        output                  concentrate_ag\n",
       "22            rougher        output                  concentrate_pb\n",
       "23            rougher        output                 concentrate_sol\n",
       "24            rougher        output                  concentrate_au\n",
       "25            rougher        output                        recovery\n",
       "26            rougher        output                         tail_ag\n",
       "27            rougher        output                         tail_pb\n",
       "28            rougher        output                        tail_sol\n",
       "29            rougher        output                         tail_au\n",
       "30  secondary_cleaner        output                         tail_ag\n",
       "31  secondary_cleaner        output                         tail_pb\n",
       "32  secondary_cleaner        output                        tail_sol\n",
       "33  secondary_cleaner        output                         tail_au"
      ]
     },
     "execution_count": 3,
     "metadata": {},
     "output_type": "execute_result"
    }
   ],
   "source": [
    "diff = []\n",
    "\n",
    "for ft in df.columns:\n",
    "    if ft not in list(df_test.columns):\n",
    "        diff.append(ft)\n",
    "new_diff = []\n",
    "for ft in diff:\n",
    "    new_diff.append(ft.split('.'))\n",
    "\n",
    "train_params = pd.DataFrame(columns = ['Этап', 'Тип параметра', 'Название параметра'])    \n",
    "i = 0\n",
    "for params in new_diff:\n",
    "    train_params.loc[i] = params\n",
    "    i+=1\n",
    "train_params"
   ]
  },
  {
   "cell_type": "markdown",
   "metadata": {},
   "source": [
    "У нас имеется список с отсутствующими данными. Большинство из этих признаков относятся к типу параметра `output`, то есть к параметр продукта. В них указаным следующие параметры:\n",
    "\n",
    "- Отвальные хвосты (`tail_*`)\n",
    "- Концетраты на разных этапах (`concectrate_*`)\n",
    "- Эффективность обогащения для этапов `rougher` и `final`. Эти величины и являются целевыми и их отсутствие в тестовой выборке оправдано. \n",
    "- `calculation` - расчётные характеристики. "
   ]
  },
  {
   "cell_type": "markdown",
   "metadata": {},
   "source": [
    "Проверим, что эффективность обогащения рассчитана правильно. Проверку будем производить на обучающей выборке для признака `rougher.output.recovery`\n",
    "\n",
    "Формула для расчёта:\n",
    "\n",
    "$$\n",
    "Recovery = \\frac{C * (F-T)}{F*(C-T)} * 100\n",
    "$$\n",
    "\n",
    "где:\n",
    "\n",
    "- *C* — доля золота в концентрате после флотации/очистки; (`rougher.output.concentrate_au`)\n",
    "- *F* — доля золота в сырье/концентрате до флотации/очистки; (`rougher.input.feed_au`)\n",
    "- *T* — доля золота в отвальных хвостах после флотации/очистки. (`rougher.output.tail_au`)\n"
   ]
  },
  {
   "cell_type": "code",
   "execution_count": 4,
   "metadata": {},
   "outputs": [
    {
     "data": {
      "text/html": [
       "<div>\n",
       "<style scoped>\n",
       "    .dataframe tbody tr th:only-of-type {\n",
       "        vertical-align: middle;\n",
       "    }\n",
       "\n",
       "    .dataframe tbody tr th {\n",
       "        vertical-align: top;\n",
       "    }\n",
       "\n",
       "    .dataframe thead th {\n",
       "        text-align: right;\n",
       "    }\n",
       "</style>\n",
       "<table border=\"1\" class=\"dataframe\">\n",
       "  <thead>\n",
       "    <tr style=\"text-align: right;\">\n",
       "      <th></th>\n",
       "      <th>rougher.output.recovery_calc</th>\n",
       "      <th>rougher.output.recovery</th>\n",
       "    </tr>\n",
       "  </thead>\n",
       "  <tbody>\n",
       "    <tr>\n",
       "      <td>0</td>\n",
       "      <td>87.107763</td>\n",
       "      <td>87.107763</td>\n",
       "    </tr>\n",
       "    <tr>\n",
       "      <td>1</td>\n",
       "      <td>86.843261</td>\n",
       "      <td>86.843261</td>\n",
       "    </tr>\n",
       "    <tr>\n",
       "      <td>2</td>\n",
       "      <td>86.842308</td>\n",
       "      <td>86.842308</td>\n",
       "    </tr>\n",
       "    <tr>\n",
       "      <td>3</td>\n",
       "      <td>87.226430</td>\n",
       "      <td>87.226430</td>\n",
       "    </tr>\n",
       "    <tr>\n",
       "      <td>4</td>\n",
       "      <td>86.688794</td>\n",
       "      <td>86.688794</td>\n",
       "    </tr>\n",
       "    <tr>\n",
       "      <td>...</td>\n",
       "      <td>...</td>\n",
       "      <td>...</td>\n",
       "    </tr>\n",
       "    <tr>\n",
       "      <td>16855</td>\n",
       "      <td>89.574376</td>\n",
       "      <td>89.574376</td>\n",
       "    </tr>\n",
       "    <tr>\n",
       "      <td>16856</td>\n",
       "      <td>87.724007</td>\n",
       "      <td>87.724007</td>\n",
       "    </tr>\n",
       "    <tr>\n",
       "      <td>16857</td>\n",
       "      <td>88.890579</td>\n",
       "      <td>88.890579</td>\n",
       "    </tr>\n",
       "    <tr>\n",
       "      <td>16858</td>\n",
       "      <td>89.858126</td>\n",
       "      <td>89.858126</td>\n",
       "    </tr>\n",
       "    <tr>\n",
       "      <td>16859</td>\n",
       "      <td>89.514960</td>\n",
       "      <td>89.514960</td>\n",
       "    </tr>\n",
       "  </tbody>\n",
       "</table>\n",
       "<p>16860 rows × 2 columns</p>\n",
       "</div>"
      ],
      "text/plain": [
       "       rougher.output.recovery_calc  rougher.output.recovery\n",
       "0                         87.107763                87.107763\n",
       "1                         86.843261                86.843261\n",
       "2                         86.842308                86.842308\n",
       "3                         87.226430                87.226430\n",
       "4                         86.688794                86.688794\n",
       "...                             ...                      ...\n",
       "16855                     89.574376                89.574376\n",
       "16856                     87.724007                87.724007\n",
       "16857                     88.890579                88.890579\n",
       "16858                     89.858126                89.858126\n",
       "16859                     89.514960                89.514960\n",
       "\n",
       "[16860 rows x 2 columns]"
      ]
     },
     "execution_count": 4,
     "metadata": {},
     "output_type": "execute_result"
    }
   ],
   "source": [
    "c = df_train['rougher.output.concentrate_au']\n",
    "f = df_train['rougher.input.feed_au']\n",
    "t = df_train['rougher.output.tail_au']\n",
    "\n",
    "\n",
    "df_train['rougher.output.recovery_calc'] = (c * (f-t)/(f * (c-t))) * 100 \n",
    "df_train[['rougher.output.recovery_calc','rougher.output.recovery']] "
   ]
  },
  {
   "cell_type": "markdown",
   "metadata": {},
   "source": [
    "В нашей тестовой таблице теперь имеется столбец с рассчётными значениями эффективности. Проверим, имеется ли отрицательная эффективность."
   ]
  },
  {
   "cell_type": "code",
   "execution_count": 5,
   "metadata": {},
   "outputs": [
    {
     "data": {
      "text/plain": [
       "(165, 0)"
      ]
     },
     "execution_count": 5,
     "metadata": {},
     "output_type": "execute_result"
    }
   ],
   "source": [
    "calc = df_train['rougher.output.recovery_calc']\n",
    "source = df_train['rougher.output.recovery']\n",
    "\n",
    "(calc < 0).sum(), \\\n",
    "(source < 0).sum(), "
   ]
  },
  {
   "cell_type": "markdown",
   "metadata": {},
   "source": [
    "Действительно. Имеются такие данные. Так как пользы такая обработка не приносит, то заменим значения на нули. "
   ]
  },
  {
   "cell_type": "code",
   "execution_count": 6,
   "metadata": {},
   "outputs": [],
   "source": [
    "calc.where(calc > 0, 0, inplace = True)"
   ]
  },
  {
   "cell_type": "markdown",
   "metadata": {},
   "source": [
    "Теперь мы можем посчитать ошибку рассчётных данных и предоставленных. Единственный момент, который можем нам помешать, это наличие пропусков в *Recovery*. Провреим оба датафрейма на наличие пропусков."
   ]
  },
  {
   "cell_type": "code",
   "execution_count": 7,
   "metadata": {},
   "outputs": [
    {
     "data": {
      "text/plain": [
       "(2573,\n",
       " 0,\n",
       " Series([], Name: rougher.output.recovery, dtype: float64),\n",
       " 4034    inf\n",
       " Name: rougher.output.recovery_calc, dtype: float64)"
      ]
     },
     "execution_count": 7,
     "metadata": {},
     "output_type": "execute_result"
    }
   ],
   "source": [
    "import numpy as np\n",
    "\n",
    "source.isna().sum() ,\\\n",
    "calc.isna().sum() ,\\\n",
    "source[np.isinf(source)] ,\\\n",
    "calc[np.isinf(calc)]"
   ]
  },
  {
   "cell_type": "markdown",
   "metadata": {},
   "source": [
    "Получилась интересная ситуация. В изначальных данных имеется 2.5 тыс пропусков, а также после расчётов получили одно значение = *inf* (4034 строка). Это возможно, когда при расчёте формулы в делителе имеются нули. Произведём замену бесконечности на нули. "
   ]
  },
  {
   "cell_type": "code",
   "execution_count": 8,
   "metadata": {},
   "outputs": [],
   "source": [
    "source.fillna(0, inplace = True)\n",
    "calc[np.isinf(calc)] = 0"
   ]
  },
  {
   "cell_type": "markdown",
   "metadata": {},
   "source": [
    "Посчитаем *MAE*."
   ]
  },
  {
   "cell_type": "code",
   "execution_count": 9,
   "metadata": {},
   "outputs": [
    {
     "data": {
      "text/plain": [
       "3.0098401978151137"
      ]
     },
     "execution_count": 9,
     "metadata": {},
     "output_type": "execute_result"
    }
   ],
   "source": [
    "from sklearn.metrics import mean_absolute_error\n",
    "\n",
    "mean_absolute_error(calc, source)"
   ]
  },
  {
   "cell_type": "markdown",
   "metadata": {},
   "source": [
    "Мы получили MAE = 3. Это может говорить о погрешности показаний и изначальных результатов. "
   ]
  },
  {
   "cell_type": "markdown",
   "metadata": {},
   "source": [
    "#### Предобработка данных\n",
    "\n",
    "\n",
    "Отбросим данные, которые нам не потребуются для дальнейшей обработки. \n",
    "- Дата является идентификатором и не несет пользы для расчётов. \n",
    "- Не все признаки имеются в тестовой выборке. В связи с этим восстановим тестовые данные из полного. "
   ]
  },
  {
   "cell_type": "code",
   "execution_count": 10,
   "metadata": {},
   "outputs": [
    {
     "data": {
      "text/html": [
       "<div>\n",
       "<style scoped>\n",
       "    .dataframe tbody tr th:only-of-type {\n",
       "        vertical-align: middle;\n",
       "    }\n",
       "\n",
       "    .dataframe tbody tr th {\n",
       "        vertical-align: top;\n",
       "    }\n",
       "\n",
       "    .dataframe thead th {\n",
       "        text-align: right;\n",
       "    }\n",
       "</style>\n",
       "<table border=\"1\" class=\"dataframe\">\n",
       "  <thead>\n",
       "    <tr style=\"text-align: right;\">\n",
       "      <th></th>\n",
       "      <th>final.output.concentrate_ag</th>\n",
       "      <th>final.output.concentrate_pb</th>\n",
       "      <th>final.output.concentrate_sol</th>\n",
       "      <th>final.output.concentrate_au</th>\n",
       "      <th>final.output.recovery</th>\n",
       "      <th>final.output.tail_ag</th>\n",
       "      <th>final.output.tail_pb</th>\n",
       "      <th>final.output.tail_sol</th>\n",
       "      <th>final.output.tail_au</th>\n",
       "      <th>primary_cleaner.input.sulfate</th>\n",
       "      <th>...</th>\n",
       "      <th>secondary_cleaner.state.floatbank4_a_air</th>\n",
       "      <th>secondary_cleaner.state.floatbank4_a_level</th>\n",
       "      <th>secondary_cleaner.state.floatbank4_b_air</th>\n",
       "      <th>secondary_cleaner.state.floatbank4_b_level</th>\n",
       "      <th>secondary_cleaner.state.floatbank5_a_air</th>\n",
       "      <th>secondary_cleaner.state.floatbank5_a_level</th>\n",
       "      <th>secondary_cleaner.state.floatbank5_b_air</th>\n",
       "      <th>secondary_cleaner.state.floatbank5_b_level</th>\n",
       "      <th>secondary_cleaner.state.floatbank6_a_air</th>\n",
       "      <th>secondary_cleaner.state.floatbank6_a_level</th>\n",
       "    </tr>\n",
       "    <tr>\n",
       "      <th>date</th>\n",
       "      <th></th>\n",
       "      <th></th>\n",
       "      <th></th>\n",
       "      <th></th>\n",
       "      <th></th>\n",
       "      <th></th>\n",
       "      <th></th>\n",
       "      <th></th>\n",
       "      <th></th>\n",
       "      <th></th>\n",
       "      <th></th>\n",
       "      <th></th>\n",
       "      <th></th>\n",
       "      <th></th>\n",
       "      <th></th>\n",
       "      <th></th>\n",
       "      <th></th>\n",
       "      <th></th>\n",
       "      <th></th>\n",
       "      <th></th>\n",
       "      <th></th>\n",
       "    </tr>\n",
       "  </thead>\n",
       "  <tbody>\n",
       "    <tr>\n",
       "      <td>2016-09-01 00:59:59</td>\n",
       "      <td>7.578381</td>\n",
       "      <td>10.466295</td>\n",
       "      <td>11.990938</td>\n",
       "      <td>40.743891</td>\n",
       "      <td>70.273583</td>\n",
       "      <td>12.688885</td>\n",
       "      <td>3.844413</td>\n",
       "      <td>11.075686</td>\n",
       "      <td>4.537988</td>\n",
       "      <td>210.800909</td>\n",
       "      <td>...</td>\n",
       "      <td>12.023554</td>\n",
       "      <td>-497.795834</td>\n",
       "      <td>8.016656</td>\n",
       "      <td>-501.289139</td>\n",
       "      <td>7.946562</td>\n",
       "      <td>-432.317850</td>\n",
       "      <td>4.872511</td>\n",
       "      <td>-500.037437</td>\n",
       "      <td>26.705889</td>\n",
       "      <td>-499.709414</td>\n",
       "    </tr>\n",
       "    <tr>\n",
       "      <td>2016-09-01 01:59:59</td>\n",
       "      <td>7.813838</td>\n",
       "      <td>10.581152</td>\n",
       "      <td>12.216172</td>\n",
       "      <td>39.604292</td>\n",
       "      <td>68.910432</td>\n",
       "      <td>12.829171</td>\n",
       "      <td>3.918901</td>\n",
       "      <td>11.132824</td>\n",
       "      <td>4.675117</td>\n",
       "      <td>215.392455</td>\n",
       "      <td>...</td>\n",
       "      <td>12.058140</td>\n",
       "      <td>-498.695773</td>\n",
       "      <td>8.130979</td>\n",
       "      <td>-499.634209</td>\n",
       "      <td>7.958270</td>\n",
       "      <td>-525.839648</td>\n",
       "      <td>4.878850</td>\n",
       "      <td>-500.162375</td>\n",
       "      <td>25.019940</td>\n",
       "      <td>-499.819438</td>\n",
       "    </tr>\n",
       "    <tr>\n",
       "      <td>2016-09-01 02:59:59</td>\n",
       "      <td>7.623392</td>\n",
       "      <td>10.424024</td>\n",
       "      <td>12.313710</td>\n",
       "      <td>40.724190</td>\n",
       "      <td>68.143213</td>\n",
       "      <td>12.977846</td>\n",
       "      <td>4.026561</td>\n",
       "      <td>10.990134</td>\n",
       "      <td>4.828907</td>\n",
       "      <td>215.259946</td>\n",
       "      <td>...</td>\n",
       "      <td>11.962366</td>\n",
       "      <td>-498.767484</td>\n",
       "      <td>8.096893</td>\n",
       "      <td>-500.827423</td>\n",
       "      <td>8.071056</td>\n",
       "      <td>-500.801673</td>\n",
       "      <td>4.905125</td>\n",
       "      <td>-499.828510</td>\n",
       "      <td>24.994862</td>\n",
       "      <td>-500.622559</td>\n",
       "    </tr>\n",
       "    <tr>\n",
       "      <td>2016-09-01 03:59:59</td>\n",
       "      <td>8.552457</td>\n",
       "      <td>10.503229</td>\n",
       "      <td>13.074570</td>\n",
       "      <td>39.290997</td>\n",
       "      <td>67.776393</td>\n",
       "      <td>12.451947</td>\n",
       "      <td>3.780702</td>\n",
       "      <td>11.155935</td>\n",
       "      <td>4.969620</td>\n",
       "      <td>215.336236</td>\n",
       "      <td>...</td>\n",
       "      <td>12.033091</td>\n",
       "      <td>-498.350935</td>\n",
       "      <td>8.074946</td>\n",
       "      <td>-499.474407</td>\n",
       "      <td>7.897085</td>\n",
       "      <td>-500.868509</td>\n",
       "      <td>4.931400</td>\n",
       "      <td>-499.963623</td>\n",
       "      <td>24.948919</td>\n",
       "      <td>-498.709987</td>\n",
       "    </tr>\n",
       "    <tr>\n",
       "      <td>2016-09-01 04:59:59</td>\n",
       "      <td>8.078781</td>\n",
       "      <td>10.222788</td>\n",
       "      <td>12.475427</td>\n",
       "      <td>40.254524</td>\n",
       "      <td>61.467078</td>\n",
       "      <td>11.827846</td>\n",
       "      <td>3.632272</td>\n",
       "      <td>11.403663</td>\n",
       "      <td>5.256806</td>\n",
       "      <td>199.099327</td>\n",
       "      <td>...</td>\n",
       "      <td>12.025367</td>\n",
       "      <td>-500.786497</td>\n",
       "      <td>8.054678</td>\n",
       "      <td>-500.397500</td>\n",
       "      <td>8.107890</td>\n",
       "      <td>-509.526725</td>\n",
       "      <td>4.957674</td>\n",
       "      <td>-500.360026</td>\n",
       "      <td>25.003331</td>\n",
       "      <td>-500.856333</td>\n",
       "    </tr>\n",
       "  </tbody>\n",
       "</table>\n",
       "<p>5 rows × 86 columns</p>\n",
       "</div>"
      ],
      "text/plain": [
       "                     final.output.concentrate_ag  final.output.concentrate_pb  \\\n",
       "date                                                                            \n",
       "2016-09-01 00:59:59                     7.578381                    10.466295   \n",
       "2016-09-01 01:59:59                     7.813838                    10.581152   \n",
       "2016-09-01 02:59:59                     7.623392                    10.424024   \n",
       "2016-09-01 03:59:59                     8.552457                    10.503229   \n",
       "2016-09-01 04:59:59                     8.078781                    10.222788   \n",
       "\n",
       "                     final.output.concentrate_sol  \\\n",
       "date                                                \n",
       "2016-09-01 00:59:59                     11.990938   \n",
       "2016-09-01 01:59:59                     12.216172   \n",
       "2016-09-01 02:59:59                     12.313710   \n",
       "2016-09-01 03:59:59                     13.074570   \n",
       "2016-09-01 04:59:59                     12.475427   \n",
       "\n",
       "                     final.output.concentrate_au  final.output.recovery  \\\n",
       "date                                                                      \n",
       "2016-09-01 00:59:59                    40.743891              70.273583   \n",
       "2016-09-01 01:59:59                    39.604292              68.910432   \n",
       "2016-09-01 02:59:59                    40.724190              68.143213   \n",
       "2016-09-01 03:59:59                    39.290997              67.776393   \n",
       "2016-09-01 04:59:59                    40.254524              61.467078   \n",
       "\n",
       "                     final.output.tail_ag  final.output.tail_pb  \\\n",
       "date                                                              \n",
       "2016-09-01 00:59:59             12.688885              3.844413   \n",
       "2016-09-01 01:59:59             12.829171              3.918901   \n",
       "2016-09-01 02:59:59             12.977846              4.026561   \n",
       "2016-09-01 03:59:59             12.451947              3.780702   \n",
       "2016-09-01 04:59:59             11.827846              3.632272   \n",
       "\n",
       "                     final.output.tail_sol  final.output.tail_au  \\\n",
       "date                                                               \n",
       "2016-09-01 00:59:59              11.075686              4.537988   \n",
       "2016-09-01 01:59:59              11.132824              4.675117   \n",
       "2016-09-01 02:59:59              10.990134              4.828907   \n",
       "2016-09-01 03:59:59              11.155935              4.969620   \n",
       "2016-09-01 04:59:59              11.403663              5.256806   \n",
       "\n",
       "                     primary_cleaner.input.sulfate  ...  \\\n",
       "date                                                ...   \n",
       "2016-09-01 00:59:59                     210.800909  ...   \n",
       "2016-09-01 01:59:59                     215.392455  ...   \n",
       "2016-09-01 02:59:59                     215.259946  ...   \n",
       "2016-09-01 03:59:59                     215.336236  ...   \n",
       "2016-09-01 04:59:59                     199.099327  ...   \n",
       "\n",
       "                     secondary_cleaner.state.floatbank4_a_air  \\\n",
       "date                                                            \n",
       "2016-09-01 00:59:59                                 12.023554   \n",
       "2016-09-01 01:59:59                                 12.058140   \n",
       "2016-09-01 02:59:59                                 11.962366   \n",
       "2016-09-01 03:59:59                                 12.033091   \n",
       "2016-09-01 04:59:59                                 12.025367   \n",
       "\n",
       "                     secondary_cleaner.state.floatbank4_a_level  \\\n",
       "date                                                              \n",
       "2016-09-01 00:59:59                                 -497.795834   \n",
       "2016-09-01 01:59:59                                 -498.695773   \n",
       "2016-09-01 02:59:59                                 -498.767484   \n",
       "2016-09-01 03:59:59                                 -498.350935   \n",
       "2016-09-01 04:59:59                                 -500.786497   \n",
       "\n",
       "                     secondary_cleaner.state.floatbank4_b_air  \\\n",
       "date                                                            \n",
       "2016-09-01 00:59:59                                  8.016656   \n",
       "2016-09-01 01:59:59                                  8.130979   \n",
       "2016-09-01 02:59:59                                  8.096893   \n",
       "2016-09-01 03:59:59                                  8.074946   \n",
       "2016-09-01 04:59:59                                  8.054678   \n",
       "\n",
       "                     secondary_cleaner.state.floatbank4_b_level  \\\n",
       "date                                                              \n",
       "2016-09-01 00:59:59                                 -501.289139   \n",
       "2016-09-01 01:59:59                                 -499.634209   \n",
       "2016-09-01 02:59:59                                 -500.827423   \n",
       "2016-09-01 03:59:59                                 -499.474407   \n",
       "2016-09-01 04:59:59                                 -500.397500   \n",
       "\n",
       "                     secondary_cleaner.state.floatbank5_a_air  \\\n",
       "date                                                            \n",
       "2016-09-01 00:59:59                                  7.946562   \n",
       "2016-09-01 01:59:59                                  7.958270   \n",
       "2016-09-01 02:59:59                                  8.071056   \n",
       "2016-09-01 03:59:59                                  7.897085   \n",
       "2016-09-01 04:59:59                                  8.107890   \n",
       "\n",
       "                     secondary_cleaner.state.floatbank5_a_level  \\\n",
       "date                                                              \n",
       "2016-09-01 00:59:59                                 -432.317850   \n",
       "2016-09-01 01:59:59                                 -525.839648   \n",
       "2016-09-01 02:59:59                                 -500.801673   \n",
       "2016-09-01 03:59:59                                 -500.868509   \n",
       "2016-09-01 04:59:59                                 -509.526725   \n",
       "\n",
       "                     secondary_cleaner.state.floatbank5_b_air  \\\n",
       "date                                                            \n",
       "2016-09-01 00:59:59                                  4.872511   \n",
       "2016-09-01 01:59:59                                  4.878850   \n",
       "2016-09-01 02:59:59                                  4.905125   \n",
       "2016-09-01 03:59:59                                  4.931400   \n",
       "2016-09-01 04:59:59                                  4.957674   \n",
       "\n",
       "                     secondary_cleaner.state.floatbank5_b_level  \\\n",
       "date                                                              \n",
       "2016-09-01 00:59:59                                 -500.037437   \n",
       "2016-09-01 01:59:59                                 -500.162375   \n",
       "2016-09-01 02:59:59                                 -499.828510   \n",
       "2016-09-01 03:59:59                                 -499.963623   \n",
       "2016-09-01 04:59:59                                 -500.360026   \n",
       "\n",
       "                     secondary_cleaner.state.floatbank6_a_air  \\\n",
       "date                                                            \n",
       "2016-09-01 00:59:59                                 26.705889   \n",
       "2016-09-01 01:59:59                                 25.019940   \n",
       "2016-09-01 02:59:59                                 24.994862   \n",
       "2016-09-01 03:59:59                                 24.948919   \n",
       "2016-09-01 04:59:59                                 25.003331   \n",
       "\n",
       "                     secondary_cleaner.state.floatbank6_a_level  \n",
       "date                                                             \n",
       "2016-09-01 00:59:59                                 -499.709414  \n",
       "2016-09-01 01:59:59                                 -499.819438  \n",
       "2016-09-01 02:59:59                                 -500.622559  \n",
       "2016-09-01 03:59:59                                 -498.709987  \n",
       "2016-09-01 04:59:59                                 -500.856333  \n",
       "\n",
       "[5 rows x 86 columns]"
      ]
     },
     "execution_count": 10,
     "metadata": {},
     "output_type": "execute_result"
    }
   ],
   "source": [
    "# Сохраним даты как индексы тестовой выборки\n",
    "test_index = df_test.set_index('date').index\n",
    "\n",
    "# Возьмем данные из полной выборке по индексам.\n",
    "df_test_rest = df.set_index('date').loc[test_index]\n",
    "df_test_rest.head(5)"
   ]
  },
  {
   "cell_type": "markdown",
   "metadata": {},
   "source": [
    "При анализе изначальной выборки мы увидели, что во многих столбцах имеются пропуски. Заполним их медианными значениями. "
   ]
  },
  {
   "cell_type": "code",
   "execution_count": 11,
   "metadata": {},
   "outputs": [],
   "source": [
    "df.fillna(df.median(), inplace = True)\n",
    "df_test_rest.fillna(df_test_rest.median(), inplace = True)\n",
    "df_train.fillna(df_train.median(), inplace = True)"
   ]
  },
  {
   "cell_type": "markdown",
   "metadata": {},
   "source": [
    "# 2. Анализ данных"
   ]
  },
  {
   "cell_type": "markdown",
   "metadata": {},
   "source": [
    "## Концетрация металлов на этапах"
   ]
  },
  {
   "cell_type": "code",
   "execution_count": 12,
   "metadata": {},
   "outputs": [],
   "source": [
    "import seaborn as sns\n",
    "import matplotlib.pyplot as plt\n",
    "\n",
    "# \n",
    "\n",
    "final = df[['final.output.concentrate_ag',\n",
    "       'final.output.concentrate_pb',\n",
    "       'final.output.concentrate_au']]\n",
    "final.columns = ['Ag', 'Pb','Au']\n",
    "rougher = df[['rougher.output.concentrate_ag',\n",
    "       'rougher.output.concentrate_pb',\n",
    "       'rougher.output.concentrate_au']]\n",
    "rougher.columns = ['Ag', 'Pb','Au']\n",
    "primary_cleaner = df[['primary_cleaner.output.concentrate_ag',\n",
    "       'primary_cleaner.output.concentrate_pb',\n",
    "       'primary_cleaner.output.concentrate_au']]\n",
    "primary_cleaner.columns = ['Ag', 'Pb','Au']"
   ]
  },
  {
   "cell_type": "code",
   "execution_count": 13,
   "metadata": {},
   "outputs": [
    {
     "data": {
      "text/plain": [
       "<matplotlib.axes._subplots.AxesSubplot at 0x7f0f219c7c50>"
      ]
     },
     "execution_count": 13,
     "metadata": {},
     "output_type": "execute_result"
    },
    {
     "data": {
      "image/png": "[encoded data removed]",
      "text/plain": [
       "<Figure size 432x288 with 3 Axes>"
      ]
     },
     "metadata": {
      "needs_background": "light"
     },
     "output_type": "display_data"
    }
   ],
   "source": [
    "fig, axs = plt.subplots(ncols=3)\n",
    "\n",
    "sns.barplot(data=rougher, ax=axs[0])\n",
    "sns.barplot(data=primary_cleaner, ax=axs[1])\n",
    "sns.barplot(data=final, ax=axs[2])"
   ]
  },
  {
   "cell_type": "markdown",
   "metadata": {},
   "source": [
    "#### Вывод\n",
    "\n",
    "По построенному распределнию можно сделать выводы:\n",
    "- Концетрация золота вырастает более чем в два раза (в процессе обработки)\n",
    "- Концетрация серебра уменьшается в два раза\n",
    "- Концетрация свинца не меняется. Это может быть обусловлено диффузией металлов (золота и свинца)"
   ]
  },
  {
   "cell_type": "markdown",
   "metadata": {},
   "source": [
    "## Сравните распределения размеров гранул сырья на обучающей и тестовой выборках.\n",
    "\n",
    "За размер гранул у нас отвечает признак *feed_size*. "
   ]
  },
  {
   "cell_type": "code",
   "execution_count": 14,
   "metadata": {
    "scrolled": true
   },
   "outputs": [],
   "source": [
    "test_feed_size = df_test_rest[['primary_cleaner.input.feed_size', 'rougher.input.feed_size']]\n",
    "train_feed_size = df_train[['date','primary_cleaner.input.feed_size', 'rougher.input.feed_size']].set_index('date')"
   ]
  },
  {
   "cell_type": "code",
   "execution_count": 15,
   "metadata": {},
   "outputs": [
    {
     "data": {
      "text/plain": [
       "<matplotlib.axes._subplots.AxesSubplot at 0x7f0f211dc438>"
      ]
     },
     "execution_count": 15,
     "metadata": {},
     "output_type": "execute_result"
    },
    {
     "data": {
      "image/png": "[encoded data removed]",
      "text/plain": [
       "<Figure size 432x288 with 1 Axes>"
      ]
     },
     "metadata": {
      "needs_background": "light"
     },
     "output_type": "display_data"
    },
    {
     "data": {
      "image/png": "[encoded data removed]",
      "text/plain": [
       "<Figure size 432x288 with 1 Axes>"
      ]
     },
     "metadata": {
      "needs_background": "light"
     },
     "output_type": "display_data"
    }
   ],
   "source": [
    "test = pd.DataFrame(test_feed_size)\n",
    "train = pd.DataFrame(train_feed_size)\n",
    "\n",
    "test.reset_index().plot()\n",
    "train.reset_index().plot()"
   ]
  },
  {
   "cell_type": "markdown",
   "metadata": {},
   "source": [
    "По данному распределению видно, что на этап *rougher* попадают гранулы, сильно отличающиеся по размеру. Наблюдается множество пиков, однако основная масса находится в границах 0-100. Это актуально для двух выборок. \n",
    "\n",
    "На этапе первичной очистки гранулы уже нормализованны и разнообразие размером сглажено. \n",
    "\n",
    "Мы можем сказать, что размеры гранул в двух выборках схожи и по таким данным можно строить модели. "
   ]
  },
  {
   "cell_type": "markdown",
   "metadata": {},
   "source": [
    "## Исследование суммарной концетрации всех веществ на разных стадиях. \n",
    "\n",
    "На данном этапе анализа нам необходим выявить аномальные значения в суммарном распределении. В случае, если такие значения имеются - удалить их. \n",
    "\n",
    "Под аномальными мы подразумеваем сверхвысокие / сверхнизкие значения.  "
   ]
  },
  {
   "cell_type": "code",
   "execution_count": 16,
   "metadata": {},
   "outputs": [],
   "source": [
    "def split_stage(df):\n",
    "    \n",
    "    elements = ['Ag','Pb','Sol','Au','sum']\n",
    "    final_conc = df[['final.output.concentrate_ag',\n",
    "                 'final.output.concentrate_pb',\n",
    "                 'final.output.concentrate_sol',\n",
    "                 'final.output.concentrate_au']]\n",
    "    final_conc['sum'] = final_conc.sum(axis=1)\n",
    "    final_conc.columns = elements\n",
    "    \n",
    "\n",
    "    rough_conc = df[['rougher.output.concentrate_ag',\n",
    "                 'rougher.output.concentrate_pb',\n",
    "                 'rougher.output.concentrate_sol',\n",
    "                 'rougher.output.concentrate_au']]\n",
    "    \n",
    "    rough_conc['sum'] = rough_conc.sum(axis=1)\n",
    "    rough_conc.columns = elements\n",
    "\n",
    "    prim_clean_conc = df[['primary_cleaner.output.concentrate_ag',\n",
    "                 'primary_cleaner.output.concentrate_pb',\n",
    "                 'primary_cleaner.output.concentrate_sol',\n",
    "                 'primary_cleaner.output.concentrate_au']]\n",
    "    prim_clean_conc['sum'] = prim_clean_conc.sum(axis=1)\n",
    "    prim_clean_conc.columns = elements\n",
    "    \n",
    "    \n",
    "    \n",
    "    return rough_conc, prim_clean_conc, final_conc"
   ]
  },
  {
   "cell_type": "code",
   "execution_count": 17,
   "metadata": {},
   "outputs": [],
   "source": [
    "train_rough, train_prim, train_final = split_stage(df_train.set_index('date'))\n",
    "test_rough, test_prim, test_final = split_stage(df_test_rest)\n",
    "\n",
    "train = [train_rough, train_prim, train_final]\n",
    "test = [test_rough, test_prim, test_final]"
   ]
  },
  {
   "cell_type": "code",
   "execution_count": 18,
   "metadata": {},
   "outputs": [
    {
     "data": {
      "text/plain": [
       "<matplotlib.axes._subplots.AxesSubplot at 0x7f0f211b5518>"
      ]
     },
     "execution_count": 18,
     "metadata": {},
     "output_type": "execute_result"
    },
    {
     "data": {
      "image/png": "[encoded data removed]",
      "text/plain": [
       "<Figure size 1080x504 with 1 Axes>"
      ]
     },
     "metadata": {
      "needs_background": "light"
     },
     "output_type": "display_data"
    }
   ],
   "source": [
    "plt.figure(figsize = (15,7))\n",
    "plt.title('Train / Test')\n",
    "plt.xlabel('Sum')\n",
    "\n",
    "sns.distplot(train_rough['sum'], kde_kws={'label':'Train Rough'})\n",
    "sns.distplot(train_prim['sum'], kde_kws={'label':'Train Primary clean'})\n",
    "sns.distplot(train_final['sum'], kde_kws={'label':'Train Final'})\n",
    "\n",
    "\n",
    "sns.distplot(test_rough['sum'], kde_kws={'label':'Test Rough'})\n",
    "sns.distplot(test_prim['sum'], kde_kws={'label':'Test Primary clean'})\n",
    "sns.distplot(test_final['sum'], kde_kws={'label':'Test Final'})"
   ]
  },
  {
   "cell_type": "markdown",
   "metadata": {},
   "source": [
    "Исходя из данного распределения видно, что у нас имеется множество значений равных 0. Такое возможно, если все концетрации веществ равны нулю. Такое возможно только при холостой работе. \n",
    "\n",
    "Из тестовой и тренировочной выборки удалим значения равные нулю. "
   ]
  },
  {
   "cell_type": "code",
   "execution_count": 19,
   "metadata": {},
   "outputs": [],
   "source": [
    "# Сохраняем уникальные значения индекса (даты) для train и test. Учитываются только те строки, где суммарная концетрация = 0. \n",
    "train_0_conc = train_rough[train_rough['sum']==0].index.append(train_prim[train_prim['sum']==0].index).append(train_final[train_final['sum']==0].index).unique()\n",
    "test_0_conc = test_rough[test_rough['sum']==0].index.append(test_prim[test_prim['sum']==0].index).append(test_final[test_final['sum']==0].index).unique()"
   ]
  },
  {
   "cell_type": "code",
   "execution_count": 20,
   "metadata": {},
   "outputs": [],
   "source": [
    "df_test_upd = df_test_rest.drop(test_0_conc)\n",
    "df_train_upd = df_train.set_index('date').drop(train_0_conc, errors = 'ignore')"
   ]
  },
  {
   "cell_type": "code",
   "execution_count": 21,
   "metadata": {},
   "outputs": [
    {
     "data": {
      "text/plain": [
       "((5278, 86), (15111, 87))"
      ]
     },
     "execution_count": 21,
     "metadata": {},
     "output_type": "execute_result"
    }
   ],
   "source": [
    "df_test_upd.shape,\\\n",
    "df_train_upd.shape"
   ]
  },
  {
   "cell_type": "markdown",
   "metadata": {},
   "source": [
    "## Вывод\n",
    "\n",
    "В процессе анализа данных было выяснено:\n",
    "\n",
    "- Концентрация золота из этапа в этап увеличивается. Концентрация серебра уменьшается, однако свинец остаётся на уровне. Может быть связано с диффузией металлов\n",
    "- На этапе флотации встречаются гранулы различных вариантов и присутствует сильный разброс, однако после первичной обработки размер гранул стабилизируется. Это актуально как для обучающей, так и для тестовой выборки.\n",
    "- При анализе распределения концентраций на этапах было установлено, что имеется множество значений с концентрацией равной 0, что возможно при условии,  что концентрация всех элементов равна нулю. Такие записи могут привести к ошибкам в данных и значения были удалены."
   ]
  },
  {
   "cell_type": "markdown",
   "metadata": {},
   "source": [
    "# 3. Модель\n",
    "\n",
    "- Напишите функцию для вычисления итоговой *sMAPE*.\n",
    "\n",
    "- Обучите разные модели и оцените их качество кросс-валидацией. Выберите лучшую модель и проверьте её на тестовой выборке. Опишите выводы."
   ]
  },
  {
   "cell_type": "markdown",
   "metadata": {},
   "source": [
    "Для расчёта итоговой метрики используем две функции."
   ]
  },
  {
   "cell_type": "code",
   "execution_count": 22,
   "metadata": {},
   "outputs": [],
   "source": [
    "from sklearn.metrics import make_scorer\n",
    "\n",
    "# Calc sMAPE\n",
    "    \n",
    "def smape(y_true, y_pred):\n",
    "    denominator = (np.abs(y_true) + np.abs(y_pred)) / 200.0\n",
    "    diff = np.abs(y_true - y_pred) / denominator\n",
    "    diff[denominator == 0] = 0.0\n",
    "    return np.nanmean(diff)\n",
    "\n",
    "# 1/len(A) * np.sum((np.abs(A-F))/(np.abs(A) + np.abs(F))/2) * 100\n",
    "\n",
    "smape_scorer = make_scorer(smape, greater_is_better = False)\n",
    "\n",
    "#Calc final sMAPE\n",
    "def fin_smape(smapeRough, smapeFinal):\n",
    "    return 0.25 * smapeRough + 0.75 * smapeFinal"
   ]
  },
  {
   "cell_type": "markdown",
   "metadata": {},
   "source": [
    "Произведём разделение наших выборок и подготовку перед обучением моделей. \n"
   ]
  },
  {
   "cell_type": "code",
   "execution_count": 23,
   "metadata": {},
   "outputs": [],
   "source": [
    "X_train = df_train_upd.drop(['final.output.recovery',\n",
    "                       'rougher.output.recovery',\n",
    "                       'rougher.output.recovery_calc'],\n",
    "                      axis = 1).reset_index(drop = True)\n",
    "X_test = df_test_upd.drop(['final.output.recovery',\n",
    "                       'rougher.output.recovery'],\n",
    "                      axis = 1).reset_index(drop = True)\n",
    "# Train y\n",
    "y_1_train = df_train_upd['rougher.output.recovery'].reset_index(drop = True)\n",
    "y_2_train = df_train_upd['final.output.recovery'].reset_index(drop = True)\n",
    "\n",
    "# Test y\n",
    "y_1_test = df_test_upd['rougher.output.recovery'].reset_index(drop = True)\n",
    "y_2_test = df_test_upd['final.output.recovery'].reset_index(drop = True)"
   ]
  },
  {
   "cell_type": "markdown",
   "metadata": {},
   "source": [
    "Для упрощения подсчёта итоговой метрики создадим функцию, которая будет возвращать предсказания по кросс-валидации для двух этапов. "
   ]
  },
  {
   "cell_type": "code",
   "execution_count": 24,
   "metadata": {},
   "outputs": [],
   "source": [
    "from sklearn.model_selection import cross_val_predict\n",
    "\n",
    "def cross_val_smape(model):\n",
    "    \n",
    "    rougher = cross_val_predict (model, X_train, y_1_train, cv = 3)\n",
    "    final = cross_val_predict (model, X_train, y_2_train, cv = 3)\n",
    "       \n",
    "    return rougher, final"
   ]
  },
  {
   "cell_type": "code",
   "execution_count": 25,
   "metadata": {},
   "outputs": [],
   "source": [
    "from sklearn.linear_model import LinearRegression\n",
    "\n",
    "lr = LinearRegression()\n",
    "\n",
    "\n",
    "cv = cross_val_smape(lr)"
   ]
  },
  {
   "cell_type": "code",
   "execution_count": 26,
   "metadata": {},
   "outputs": [
    {
     "data": {
      "text/plain": [
       "13.311054570929576"
      ]
     },
     "execution_count": 26,
     "metadata": {},
     "output_type": "execute_result"
    }
   ],
   "source": [
    "smape(y_1_train, cv[0])\n",
    "smape(y_2_train, cv[1])\n",
    "\n",
    "\n",
    "fin_smape(smape(y_1_train, cv[0]),smape(y_2_train, cv[1]))"
   ]
  },
  {
   "cell_type": "markdown",
   "metadata": {},
   "source": [
    "### LinearRegression"
   ]
  },
  {
   "cell_type": "markdown",
   "metadata": {},
   "source": [
    "На кросс валидации у нас получился итоговый sMAPE = 2.78, а на тестовых данных = 1.37. Это может говорить об переобучении модели. Проверим работу RandomForestRegressor. "
   ]
  },
  {
   "cell_type": "markdown",
   "metadata": {},
   "source": [
    "### RandomForestRegressor"
   ]
  },
  {
   "cell_type": "code",
   "execution_count": 27,
   "metadata": {},
   "outputs": [],
   "source": [
    "from sklearn.ensemble import RandomForestRegressor\n",
    "\n",
    "rnd = RandomForestRegressor(random_state = 42, n_estimators = 100, max_depth = 4)\n",
    "\n",
    "cvR = cross_val_smape(rnd)"
   ]
  },
  {
   "cell_type": "code",
   "execution_count": 28,
   "metadata": {
    "scrolled": true
   },
   "outputs": [
    {
     "data": {
      "text/plain": [
       "12.897029030952364"
      ]
     },
     "execution_count": 28,
     "metadata": {},
     "output_type": "execute_result"
    }
   ],
   "source": [
    "fin_smape(smape(y_1_train, cvR[0]),smape(y_2_train, cvR[1]))"
   ]
  },
  {
   "cell_type": "markdown",
   "metadata": {},
   "source": [
    "Модель случайного леса на кросс-валидации получила значение итогового sMAPE = 12.89, что лучше чем модель линейной регрессии. Проверим данную модель на тестовых данных. "
   ]
  },
  {
   "cell_type": "code",
   "execution_count": 29,
   "metadata": {},
   "outputs": [
    {
     "data": {
      "text/plain": [
       "RandomForestRegressor(bootstrap=True, criterion='mse', max_depth=4,\n",
       "                      max_features='auto', max_leaf_nodes=None,\n",
       "                      min_impurity_decrease=0.0, min_impurity_split=None,\n",
       "                      min_samples_leaf=1, min_samples_split=2,\n",
       "                      min_weight_fraction_leaf=0.0, n_estimators=100,\n",
       "                      n_jobs=None, oob_score=False, random_state=42, verbose=0,\n",
       "                      warm_start=False)"
      ]
     },
     "execution_count": 29,
     "metadata": {},
     "output_type": "execute_result"
    }
   ],
   "source": [
    "model = RandomForestRegressor(random_state = 42, \n",
    "                             n_estimators = 100,\n",
    "                             max_depth = 4)\n",
    "\n",
    "model.fit(X_train,y_1_train)"
   ]
  },
  {
   "cell_type": "code",
   "execution_count": 30,
   "metadata": {},
   "outputs": [],
   "source": [
    "# Для первого этапа\n",
    "rougher = model.predict(X_test)\n",
    "\n",
    "# Для финального этапа\n",
    "final = model.fit(X_train,y_2_train).predict(X_test)"
   ]
  },
  {
   "cell_type": "code",
   "execution_count": 31,
   "metadata": {},
   "outputs": [
    {
     "data": {
      "text/plain": [
       "6.4112403037306045"
      ]
     },
     "execution_count": 31,
     "metadata": {},
     "output_type": "execute_result"
    }
   ],
   "source": [
    "rougher_smape = smape(y_1_test, rougher)\n",
    "final_smape = smape(y_2_test, final)\n",
    "\n",
    "fin_smape(rougher_smape, final_smape)"
   ]
  },
  {
   "cell_type": "markdown",
   "metadata": {},
   "source": [
    "На тестовых данных мы смогли получить итоговый sMAPE = 6.4. \n",
    "\n",
    "# Выводы\n",
    "\n",
    "При выполнении данного проекта были сделаны следующие пункты:\n",
    "- Проверена формула эффективного обогащения\n",
    "    - *Показания эффеткивности на тестовой и обучающей выборке имеют небольшую погрешность.*\n",
    "- Проанализированы признаки, недоступные в тестовой выборке\n",
    "    - *Недостающие признаки были восстановлены по полной выборке*\n",
    "- Проведена предобработка данных\n",
    "\n",
    "*Анализ данных*:\n",
    "- Исследовано изменение концетрации элементов\n",
    "    - Была найдена прогрессия в концетрации золота из этапа в этап. \n",
    "- Проанализированы распределения гранул сырья на выборках\n",
    "    - Концетрации на тестовой и обучающей выборке примерно равны. \n",
    "- Исследована суммарная концетрация всех веществ на разных стадиях.\n",
    "    - Были выявлены нулевые значения концетрации, что может сказать о некорректном процессе обработки или получении данных. Аномальные величины удалены\n",
    "\n",
    "*Построение модели*\n",
    "- Была построена модель для вычисления *final sMAPE*\n",
    "- Для обучения были использованы две модели - линейная регрессия и ```RandomForestRegression```. При проверке на кросс-валидации модель леса выдала лучшее качество."
   ]
  }
 ],
 "metadata": {
  "kernelspec": {
   "display_name": "Python 3",
   "language": "python",
   "name": "python3"
  },
  "language_info": {
   "codemirror_mode": {
    "name": "ipython",
    "version": 3
   },
   "file_extension": ".py",
   "mimetype": "text/x-python",
   "name": "python",
   "nbconvert_exporter": "python",
   "pygments_lexer": "ipython3",
   "version": "3.7.6"
  }
 },
 "nbformat": 4,
 "nbformat_minor": 2
}
