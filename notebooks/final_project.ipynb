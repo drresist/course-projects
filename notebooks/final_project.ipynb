{
 "cells": [
  {
   "cell_type": "markdown",
   "metadata": {},
   "source": [
    "# Предсказание оттока"
   ]
  },
  {
   "cell_type": "markdown",
   "metadata": {},
   "source": [
    "### Описание услуг\n",
    "\n",
    "Оператор предоставляет два основных типа услуг: \n",
    "\n",
    "1. Стационарную телефонную связь. Возможно подключение телефонного аппарата к нескольким линиям одновременно.\n",
    "2. Интернет. Подключение может быть двух типов: через телефонную линию (DSL*,* от англ. *digital subscriber line*, «цифровая абонентская линия») или оптоволоконный кабель (*Fiber optic*).  \n",
    "\n",
    "Также доступны такие услуги:\n",
    "\n",
    "- Интернет-безопасность: антивирус (*DeviceProtection*) и блокировка небезопасных сайтов (*OnlineSecurity*);\n",
    "- Выделенная линия технической поддержки (*TechSupport*);\n",
    "- Облачное хранилище файлов для резервного копирования данных (*OnlineBackup*);\n",
    "- Стриминговое телевидение (*StreamingTV*) и каталог фильмов (*StreamingMovies*).\n",
    "\n",
    "За услуги клиенты могут платить каждый месяц или заключить договор на 1–2 года. Доступны различные способы расчёта и возможность получения электронного чека.\n",
    "\n",
    "### Описание данных\n",
    "\n",
    "Данные состоят из файлов, полученных из разных источников:\n",
    "\n",
    "- `contract.csv` — информация о договоре;\n",
    "- `personal.csv` — персональные данные клиента;\n",
    "- `internet.csv` — информация об интернет-услугах;\n",
    "- `phone.csv` — информация об услугах телефонии.\n",
    "\n",
    "Во всех файлах столбец `customerID` содержит код клиента.\n",
    "\n",
    "Информация о договорах актуальна на 1 февраля 2020."
   ]
  },
  {
   "cell_type": "markdown",
   "metadata": {},
   "source": [
    "### План работы:\n",
    "\n",
    "\n",
    "\n",
    "1. Preprocessing данных:\n",
    "\n",
    "    1. Первичное исслеодование признаков,\n",
    "\n",
    "    2. Поиск повторяющихся записей, \n",
    "\n",
    "    3. Поиск и заполнение пропусков, \n",
    "\n",
    "    4. Конвертация типов данных\n",
    "\n",
    "2. EDA: \n",
    "\n",
    "    1. Анализ категориальных признаков,\n",
    "\n",
    "    2. Анализ non-категориальных признаков, \n",
    "\n",
    "    3. Исследование целевой переменной,\n",
    "\n",
    "3. Построение модели:\n",
    "\n",
    "\t1. Работа с признаками:\n",
    "\t\t* Использование даты,\n",
    "\t\t* Удаление ненужных признаков,\n",
    "\t2. Построение модели:\n",
    "\t\t* Тестирование моделей и их сравнение,\n",
    "\t\t* Preprocessing - поиск оптимальных параметров предобработки данных,\n",
    "\t\t* Ансамблирование\n",
    "\t\t* Анализ полученных результатов\n",
    "\t3. Тестирование модели\n",
    "\n",
    "4. Вывод\n",
    "\n"
   ]
  },
  {
   "cell_type": "markdown",
   "metadata": {},
   "source": [
    "## 1. Preprocessing\n",
    "\n",
    "### 1.1. Первичное исследование признаков"
   ]
  },
  {
   "cell_type": "code",
   "execution_count": 1,
   "metadata": {},
   "outputs": [],
   "source": [
    "import pandas as pd\n",
    "from pprint import pprint\n",
    "import warnings\n",
    "warnings.filterwarnings('ignore')"
   ]
  },
  {
   "cell_type": "code",
   "execution_count": 2,
   "metadata": {},
   "outputs": [],
   "source": [
    "contract = pd.read_csv('contract.csv', index_col= 'customerID')\n",
    "personal = pd.read_csv('personal.csv', index_col= 'customerID')\n",
    "internet = pd.read_csv('internet.csv', index_col= 'customerID')\n",
    "phone = pd.read_csv('phone.csv', index_col= 'customerID')"
   ]
  },
  {
   "cell_type": "markdown",
   "metadata": {},
   "source": [
    "Строим единый датасет, где Primal Key - `customerID`"
   ]
  },
  {
   "cell_type": "code",
   "execution_count": 3,
   "metadata": {},
   "outputs": [],
   "source": [
    "frames = [contract, personal, internet, phone]"
   ]
  },
  {
   "cell_type": "code",
   "execution_count": 4,
   "metadata": {},
   "outputs": [
    {
     "name": "stdout",
     "output_type": "stream",
     "text": [
      "(7043, 7)\n",
      "(7043, 4)\n",
      "(5517, 7)\n",
      "(6361, 1)\n"
     ]
    }
   ],
   "source": [
    "for f in frames:\n",
    "    print(f.shape)"
   ]
  },
  {
   "cell_type": "markdown",
   "metadata": {},
   "source": [
    "Произведём присоединение данных - приосединяем к большей таблице меньшие, дабы не потерять информацию. "
   ]
  },
  {
   "cell_type": "code",
   "execution_count": 5,
   "metadata": {},
   "outputs": [],
   "source": [
    "df = contract.join(personal).join(internet).join(phone)"
   ]
  },
  {
   "cell_type": "markdown",
   "metadata": {},
   "source": [
    "Посмотрим информацию о признаках в наших данных."
   ]
  },
  {
   "cell_type": "code",
   "execution_count": 6,
   "metadata": {
    "scrolled": true
   },
   "outputs": [
    {
     "name": "stdout",
     "output_type": "stream",
     "text": [
      "<class 'pandas.core.frame.DataFrame'>\n",
      "Index: 7043 entries, 7590-VHVEG to 3186-AJIEK\n",
      "Data columns (total 19 columns):\n",
      " #   Column            Non-Null Count  Dtype  \n",
      "---  ------            --------------  -----  \n",
      " 0   BeginDate         7043 non-null   object \n",
      " 1   EndDate           7043 non-null   object \n",
      " 2   Type              7043 non-null   object \n",
      " 3   PaperlessBilling  7043 non-null   object \n",
      " 4   PaymentMethod     7043 non-null   object \n",
      " 5   MonthlyCharges    7043 non-null   float64\n",
      " 6   TotalCharges      7043 non-null   object \n",
      " 7   gender            7043 non-null   object \n",
      " 8   SeniorCitizen     7043 non-null   int64  \n",
      " 9   Partner           7043 non-null   object \n",
      " 10  Dependents        7043 non-null   object \n",
      " 11  InternetService   5517 non-null   object \n",
      " 12  OnlineSecurity    5517 non-null   object \n",
      " 13  OnlineBackup      5517 non-null   object \n",
      " 14  DeviceProtection  5517 non-null   object \n",
      " 15  TechSupport       5517 non-null   object \n",
      " 16  StreamingTV       5517 non-null   object \n",
      " 17  StreamingMovies   5517 non-null   object \n",
      " 18  MultipleLines     6361 non-null   object \n",
      "dtypes: float64(1), int64(1), object(17)\n",
      "memory usage: 1.4+ MB\n"
     ]
    }
   ],
   "source": [
    "df.info()"
   ]
  },
  {
   "cell_type": "code",
   "execution_count": 7,
   "metadata": {},
   "outputs": [],
   "source": [
    "# Приведение наименований признаков к нижнему регистру \n",
    "\n",
    "df.columns = [f.lower() for f in list(df.columns)]"
   ]
  },
  {
   "cell_type": "code",
   "execution_count": 8,
   "metadata": {},
   "outputs": [],
   "source": [
    "# Сохраняем наимнование признаков в массив\n",
    "\n",
    "cols = list(df.columns)"
   ]
  },
  {
   "cell_type": "code",
   "execution_count": 9,
   "metadata": {},
   "outputs": [
    {
     "data": {
      "text/plain": [
       "array(['Month-to-month', 'One year', 'Two year'], dtype=object)"
      ]
     },
     "execution_count": 9,
     "metadata": {},
     "output_type": "execute_result"
    }
   ],
   "source": [
    "df['type'].unique()"
   ]
  },
  {
   "cell_type": "code",
   "execution_count": 10,
   "metadata": {
    "scrolled": false
   },
   "outputs": [
    {
     "name": "stdout",
     "output_type": "stream",
     "text": [
      "Feature: type ->  ['Month-to-month' 'One year' 'Two year'], Nan count: 0\n",
      "\n",
      "Feature: paperlessbilling ->  ['Yes' 'No'], Nan count: 0\n",
      "\n",
      "Feature: paymentmethod ->  ['Electronic check' 'Mailed check' 'Bank transfer (automatic)'\n",
      " 'Credit card (automatic)'], Nan count: 0\n",
      "\n",
      "Feature: monthlycharges ->  [29.85 56.95 53.85 ... 63.1  44.2  78.7 ], Nan count: 0\n",
      "\n",
      "Feature: totalcharges ->  ['29.85' '1889.5' '108.15' ... '346.45' '306.6' '6844.5'], Nan count: 0\n",
      "\n",
      "Feature: gender ->  ['Female' 'Male'], Nan count: 0\n",
      "\n",
      "Feature: seniorcitizen ->  [0 1], Nan count: 0\n",
      "\n",
      "Feature: partner ->  ['Yes' 'No'], Nan count: 0\n",
      "\n",
      "Feature: dependents ->  ['No' 'Yes'], Nan count: 0\n",
      "\n",
      "Feature: internetservice ->  ['DSL' 'Fiber optic' nan], Nan count: 1526\n",
      "\n",
      "Feature: onlinesecurity ->  ['No' 'Yes' nan], Nan count: 1526\n",
      "\n",
      "Feature: onlinebackup ->  ['Yes' 'No' nan], Nan count: 1526\n",
      "\n",
      "Feature: deviceprotection ->  ['No' 'Yes' nan], Nan count: 1526\n",
      "\n",
      "Feature: techsupport ->  ['No' 'Yes' nan], Nan count: 1526\n",
      "\n",
      "Feature: streamingtv ->  ['No' 'Yes' nan], Nan count: 1526\n",
      "\n",
      "Feature: streamingmovies ->  ['No' 'Yes' nan], Nan count: 1526\n",
      "\n",
      "Feature: multiplelines ->  [nan 'No' 'Yes'], Nan count: 682\n",
      "\n"
     ]
    }
   ],
   "source": [
    "# Выводим уникальные значения для каждого признака (кроме дат) и кол-во пропусков.\n",
    "\n",
    "for c in cols[2:]:\n",
    "    print(f\"Feature: {c} ->  {df[c].unique()}, Nan count: {df[c].isna().sum()}\\n\")\n",
    "    "
   ]
  },
  {
   "cell_type": "markdown",
   "metadata": {},
   "source": [
    "У нас имеется 7043 записей о пользователях, где имеются следующие признаки:\n",
    "* BeginDate / EndDate - дата составления договора и его окончание. Если договор действующий - EndDate не указан. \n",
    "* Type - тип договора. Может быть следующими значениями:\n",
    "    * Помесячная оплата (Month-to-month)\n",
    "    * Годовая (One year)\n",
    "    * Раз в два года (Two year)\n",
    "* PaperlessBilling - оплата производится по платёжным документам или через электонный счёт. \n",
    "* PaymentMethod - вид оплаты. Указыват на тип оплаты - через банковский перевод, кредитной картой, электронный счёт, счёт на почту. \n",
    "* monthlycharges / totalcharges - абонентская плата. Сколько клиент платит в месяц / сколько всего заплатил. \n",
    "* gender - пол абонента\n",
    "* seniorcitizen - является ли пожилым абонентом\n",
    "* partner - находится ли абонент в отношениях\n",
    "* dependents - является ли иждивенцем \n",
    "\n",
    "Следующие признаки относятся к дополнительным услугам, подключенным клиенту. В данной категории присутствуют пропуски, природу которых мы разберём ниже:\n",
    "* internetservice - тип подключения: \n",
    "    * DSL \n",
    "    * Оптическое волокно (Fiber optic)\n",
    "* onlinesecurity - защита от вредоносных сайтов\n",
    "* onlinebackup - имеется ли услуга Онлайн-бэкапа данных. \n",
    "* deviceprotection - антивирус\n",
    "* techsupport - оплачена услуга поддержки (выделенная линия)\n",
    "* streamingtv - услуга стримингово ТВ\n",
    "* streamingmovies - услуга просмотра фильмов онлайн\n",
    "* multiplelines - имеет несколько выделенных линий. \n",
    "\n",
    "\n",
    "Последний признак по большей части относится к телефонному подключению. \n",
    "\n",
    "\n",
    "Среди данных отсутствует целевой признак - `churn`, однако мы его можем получить по данным из даты окончания договора. Если договор закончился - клиент ушёл. Создадим целевое значение: \n",
    "    * 0 - если действующий клиент\n",
    "    * 1 - если ушёл"
   ]
  },
  {
   "cell_type": "code",
   "execution_count": 11,
   "metadata": {},
   "outputs": [],
   "source": [
    "def create_churn(dataframe):\n",
    "    \"\"\"\n",
    "    Create churn target with enddate information\n",
    "    \"\"\"\n",
    "    # Create empty churn col\n",
    "    dataframe['churn'] = 0\n",
    "    churn_list = []\n",
    "    \n",
    "    for i in range(dataframe.shape[0]):\n",
    "        enddate = dataframe.iloc[i].enddate\n",
    "        churn = dataframe.iloc[i].churn\n",
    "        \n",
    "        if enddate == 'No':\n",
    "            churn = 'No'\n",
    "        else: \n",
    "            churn = 'Yes'\n",
    "        churn_list.append(churn)\n",
    "    return churn_list\n",
    "               \n",
    "df['churn'] = create_churn(df)"
   ]
  },
  {
   "cell_type": "code",
   "execution_count": 12,
   "metadata": {},
   "outputs": [
    {
     "data": {
      "text/html": [
       "<div>\n",
       "<style scoped>\n",
       "    .dataframe tbody tr th:only-of-type {\n",
       "        vertical-align: middle;\n",
       "    }\n",
       "\n",
       "    .dataframe tbody tr th {\n",
       "        vertical-align: top;\n",
       "    }\n",
       "\n",
       "    .dataframe thead th {\n",
       "        text-align: right;\n",
       "    }\n",
       "</style>\n",
       "<table border=\"1\" class=\"dataframe\">\n",
       "  <thead>\n",
       "    <tr style=\"text-align: right;\">\n",
       "      <th></th>\n",
       "      <th>begindate</th>\n",
       "      <th>enddate</th>\n",
       "      <th>type</th>\n",
       "      <th>paperlessbilling</th>\n",
       "      <th>paymentmethod</th>\n",
       "      <th>monthlycharges</th>\n",
       "      <th>totalcharges</th>\n",
       "      <th>gender</th>\n",
       "      <th>seniorcitizen</th>\n",
       "      <th>partner</th>\n",
       "      <th>dependents</th>\n",
       "      <th>internetservice</th>\n",
       "      <th>onlinesecurity</th>\n",
       "      <th>onlinebackup</th>\n",
       "      <th>deviceprotection</th>\n",
       "      <th>techsupport</th>\n",
       "      <th>streamingtv</th>\n",
       "      <th>streamingmovies</th>\n",
       "      <th>multiplelines</th>\n",
       "      <th>churn</th>\n",
       "    </tr>\n",
       "    <tr>\n",
       "      <th>customerID</th>\n",
       "      <th></th>\n",
       "      <th></th>\n",
       "      <th></th>\n",
       "      <th></th>\n",
       "      <th></th>\n",
       "      <th></th>\n",
       "      <th></th>\n",
       "      <th></th>\n",
       "      <th></th>\n",
       "      <th></th>\n",
       "      <th></th>\n",
       "      <th></th>\n",
       "      <th></th>\n",
       "      <th></th>\n",
       "      <th></th>\n",
       "      <th></th>\n",
       "      <th></th>\n",
       "      <th></th>\n",
       "      <th></th>\n",
       "      <th></th>\n",
       "    </tr>\n",
       "  </thead>\n",
       "  <tbody>\n",
       "    <tr>\n",
       "      <th>7590-VHVEG</th>\n",
       "      <td>2020-01-01</td>\n",
       "      <td>No</td>\n",
       "      <td>Month-to-month</td>\n",
       "      <td>Yes</td>\n",
       "      <td>Electronic check</td>\n",
       "      <td>29.85</td>\n",
       "      <td>29.85</td>\n",
       "      <td>Female</td>\n",
       "      <td>0</td>\n",
       "      <td>Yes</td>\n",
       "      <td>No</td>\n",
       "      <td>DSL</td>\n",
       "      <td>No</td>\n",
       "      <td>Yes</td>\n",
       "      <td>No</td>\n",
       "      <td>No</td>\n",
       "      <td>No</td>\n",
       "      <td>No</td>\n",
       "      <td>NaN</td>\n",
       "      <td>No</td>\n",
       "    </tr>\n",
       "    <tr>\n",
       "      <th>5575-GNVDE</th>\n",
       "      <td>2017-04-01</td>\n",
       "      <td>No</td>\n",
       "      <td>One year</td>\n",
       "      <td>No</td>\n",
       "      <td>Mailed check</td>\n",
       "      <td>56.95</td>\n",
       "      <td>1889.5</td>\n",
       "      <td>Male</td>\n",
       "      <td>0</td>\n",
       "      <td>No</td>\n",
       "      <td>No</td>\n",
       "      <td>DSL</td>\n",
       "      <td>Yes</td>\n",
       "      <td>No</td>\n",
       "      <td>Yes</td>\n",
       "      <td>No</td>\n",
       "      <td>No</td>\n",
       "      <td>No</td>\n",
       "      <td>No</td>\n",
       "      <td>No</td>\n",
       "    </tr>\n",
       "    <tr>\n",
       "      <th>3668-QPYBK</th>\n",
       "      <td>2019-10-01</td>\n",
       "      <td>2019-12-01 00:00:00</td>\n",
       "      <td>Month-to-month</td>\n",
       "      <td>Yes</td>\n",
       "      <td>Mailed check</td>\n",
       "      <td>53.85</td>\n",
       "      <td>108.15</td>\n",
       "      <td>Male</td>\n",
       "      <td>0</td>\n",
       "      <td>No</td>\n",
       "      <td>No</td>\n",
       "      <td>DSL</td>\n",
       "      <td>Yes</td>\n",
       "      <td>Yes</td>\n",
       "      <td>No</td>\n",
       "      <td>No</td>\n",
       "      <td>No</td>\n",
       "      <td>No</td>\n",
       "      <td>No</td>\n",
       "      <td>Yes</td>\n",
       "    </tr>\n",
       "    <tr>\n",
       "      <th>7795-CFOCW</th>\n",
       "      <td>2016-05-01</td>\n",
       "      <td>No</td>\n",
       "      <td>One year</td>\n",
       "      <td>No</td>\n",
       "      <td>Bank transfer (automatic)</td>\n",
       "      <td>42.30</td>\n",
       "      <td>1840.75</td>\n",
       "      <td>Male</td>\n",
       "      <td>0</td>\n",
       "      <td>No</td>\n",
       "      <td>No</td>\n",
       "      <td>DSL</td>\n",
       "      <td>Yes</td>\n",
       "      <td>No</td>\n",
       "      <td>Yes</td>\n",
       "      <td>Yes</td>\n",
       "      <td>No</td>\n",
       "      <td>No</td>\n",
       "      <td>NaN</td>\n",
       "      <td>No</td>\n",
       "    </tr>\n",
       "    <tr>\n",
       "      <th>9237-HQITU</th>\n",
       "      <td>2019-09-01</td>\n",
       "      <td>2019-11-01 00:00:00</td>\n",
       "      <td>Month-to-month</td>\n",
       "      <td>Yes</td>\n",
       "      <td>Electronic check</td>\n",
       "      <td>70.70</td>\n",
       "      <td>151.65</td>\n",
       "      <td>Female</td>\n",
       "      <td>0</td>\n",
       "      <td>No</td>\n",
       "      <td>No</td>\n",
       "      <td>Fiber optic</td>\n",
       "      <td>No</td>\n",
       "      <td>No</td>\n",
       "      <td>No</td>\n",
       "      <td>No</td>\n",
       "      <td>No</td>\n",
       "      <td>No</td>\n",
       "      <td>No</td>\n",
       "      <td>Yes</td>\n",
       "    </tr>\n",
       "  </tbody>\n",
       "</table>\n",
       "</div>"
      ],
      "text/plain": [
       "             begindate              enddate            type paperlessbilling  \\\n",
       "customerID                                                                     \n",
       "7590-VHVEG  2020-01-01                   No  Month-to-month              Yes   \n",
       "5575-GNVDE  2017-04-01                   No        One year               No   \n",
       "3668-QPYBK  2019-10-01  2019-12-01 00:00:00  Month-to-month              Yes   \n",
       "7795-CFOCW  2016-05-01                   No        One year               No   \n",
       "9237-HQITU  2019-09-01  2019-11-01 00:00:00  Month-to-month              Yes   \n",
       "\n",
       "                        paymentmethod  monthlycharges totalcharges  gender  \\\n",
       "customerID                                                                   \n",
       "7590-VHVEG           Electronic check           29.85        29.85  Female   \n",
       "5575-GNVDE               Mailed check           56.95       1889.5    Male   \n",
       "3668-QPYBK               Mailed check           53.85       108.15    Male   \n",
       "7795-CFOCW  Bank transfer (automatic)           42.30      1840.75    Male   \n",
       "9237-HQITU           Electronic check           70.70       151.65  Female   \n",
       "\n",
       "            seniorcitizen partner dependents internetservice onlinesecurity  \\\n",
       "customerID                                                                    \n",
       "7590-VHVEG              0     Yes         No             DSL             No   \n",
       "5575-GNVDE              0      No         No             DSL            Yes   \n",
       "3668-QPYBK              0      No         No             DSL            Yes   \n",
       "7795-CFOCW              0      No         No             DSL            Yes   \n",
       "9237-HQITU              0      No         No     Fiber optic             No   \n",
       "\n",
       "           onlinebackup deviceprotection techsupport streamingtv  \\\n",
       "customerID                                                         \n",
       "7590-VHVEG          Yes               No          No          No   \n",
       "5575-GNVDE           No              Yes          No          No   \n",
       "3668-QPYBK          Yes               No          No          No   \n",
       "7795-CFOCW           No              Yes         Yes          No   \n",
       "9237-HQITU           No               No          No          No   \n",
       "\n",
       "           streamingmovies multiplelines churn  \n",
       "customerID                                      \n",
       "7590-VHVEG              No           NaN    No  \n",
       "5575-GNVDE              No            No    No  \n",
       "3668-QPYBK              No            No   Yes  \n",
       "7795-CFOCW              No           NaN    No  \n",
       "9237-HQITU              No            No   Yes  "
      ]
     },
     "execution_count": 12,
     "metadata": {},
     "output_type": "execute_result"
    }
   ],
   "source": [
    "df.head()"
   ]
  },
  {
   "cell_type": "markdown",
   "metadata": {},
   "source": [
    "### 1.2 Проверка на повторяющиеся значения."
   ]
  },
  {
   "cell_type": "code",
   "execution_count": 13,
   "metadata": {},
   "outputs": [
    {
     "data": {
      "text/plain": [
       "13"
      ]
     },
     "execution_count": 13,
     "metadata": {},
     "output_type": "execute_result"
    }
   ],
   "source": [
    "# Кол-во повторов\n",
    "\n",
    "df.duplicated().sum()"
   ]
  },
  {
   "cell_type": "code",
   "execution_count": 14,
   "metadata": {},
   "outputs": [
    {
     "data": {
      "text/plain": [
       "0"
      ]
     },
     "execution_count": 14,
     "metadata": {},
     "output_type": "execute_result"
    }
   ],
   "source": [
    "# Удаляем повторы\n",
    "\n",
    "df = df.drop_duplicates()\n",
    "df.duplicated().sum()"
   ]
  },
  {
   "cell_type": "markdown",
   "metadata": {},
   "source": [
    "### 1.3 Поиск и заполнение пропусков\n",
    "\n",
    "Исходя из первичного анализа мы увидели, что у нас много пропусков в \"дополнительных услугах\" (~1500). Они могли появиться при объединении таблиц. Для того, чтобы избавиться от пропусков добавим новые категории - \"No phone\" для пользователей только интернета и \"No int\" для пользователей телефона. "
   ]
  },
  {
   "cell_type": "code",
   "execution_count": 15,
   "metadata": {},
   "outputs": [
    {
     "data": {
      "text/plain": [
       "begindate              0\n",
       "enddate                0\n",
       "type                   0\n",
       "paperlessbilling       0\n",
       "paymentmethod          0\n",
       "monthlycharges         0\n",
       "totalcharges           0\n",
       "gender                 0\n",
       "seniorcitizen          0\n",
       "partner                0\n",
       "dependents             0\n",
       "internetservice     1515\n",
       "onlinesecurity      1515\n",
       "onlinebackup        1515\n",
       "deviceprotection    1515\n",
       "techsupport         1515\n",
       "streamingtv         1515\n",
       "streamingmovies     1515\n",
       "multiplelines        682\n",
       "churn                  0\n",
       "dtype: int64"
      ]
     },
     "execution_count": 15,
     "metadata": {},
     "output_type": "execute_result"
    }
   ],
   "source": [
    "df.isna().sum()"
   ]
  },
  {
   "cell_type": "code",
   "execution_count": 16,
   "metadata": {},
   "outputs": [
    {
     "data": {
      "text/plain": [
       "begindate              0\n",
       "enddate                0\n",
       "type                   0\n",
       "paperlessbilling       0\n",
       "paymentmethod          0\n",
       "monthlycharges         0\n",
       "totalcharges           0\n",
       "gender                 0\n",
       "seniorcitizen          0\n",
       "partner                0\n",
       "dependents             0\n",
       "internetservice     1515\n",
       "onlinesecurity      1515\n",
       "onlinebackup        1515\n",
       "deviceprotection    1515\n",
       "techsupport         1515\n",
       "streamingtv         1515\n",
       "streamingmovies     1515\n",
       "multiplelines          0\n",
       "churn                  0\n",
       "dtype: int64"
      ]
     },
     "execution_count": 16,
     "metadata": {},
     "output_type": "execute_result"
    }
   ],
   "source": [
    "df.multiplelines.fillna(\"No phone\", inplace = True)\n",
    "df.isna().sum()"
   ]
  },
  {
   "cell_type": "code",
   "execution_count": 17,
   "metadata": {},
   "outputs": [
    {
     "data": {
      "text/plain": [
       "begindate           0\n",
       "enddate             0\n",
       "type                0\n",
       "paperlessbilling    0\n",
       "paymentmethod       0\n",
       "monthlycharges      0\n",
       "totalcharges        0\n",
       "gender              0\n",
       "seniorcitizen       0\n",
       "partner             0\n",
       "dependents          0\n",
       "internetservice     0\n",
       "onlinesecurity      0\n",
       "onlinebackup        0\n",
       "deviceprotection    0\n",
       "techsupport         0\n",
       "streamingtv         0\n",
       "streamingmovies     0\n",
       "multiplelines       0\n",
       "churn               0\n",
       "dtype: int64"
      ]
     },
     "execution_count": 17,
     "metadata": {},
     "output_type": "execute_result"
    }
   ],
   "source": [
    "df.fillna('No internet', inplace = True)\n",
    "df.isna().sum()"
   ]
  },
  {
   "cell_type": "markdown",
   "metadata": {},
   "source": [
    "### 1.3 Приведение данных к нужному типу. "
   ]
  },
  {
   "cell_type": "code",
   "execution_count": 18,
   "metadata": {},
   "outputs": [
    {
     "name": "stdout",
     "output_type": "stream",
     "text": [
      "<class 'pandas.core.frame.DataFrame'>\n",
      "Index: 7030 entries, 7590-VHVEG to 3186-AJIEK\n",
      "Data columns (total 20 columns):\n",
      " #   Column            Non-Null Count  Dtype  \n",
      "---  ------            --------------  -----  \n",
      " 0   begindate         7030 non-null   object \n",
      " 1   enddate           7030 non-null   object \n",
      " 2   type              7030 non-null   object \n",
      " 3   paperlessbilling  7030 non-null   object \n",
      " 4   paymentmethod     7030 non-null   object \n",
      " 5   monthlycharges    7030 non-null   float64\n",
      " 6   totalcharges      7030 non-null   object \n",
      " 7   gender            7030 non-null   object \n",
      " 8   seniorcitizen     7030 non-null   int64  \n",
      " 9   partner           7030 non-null   object \n",
      " 10  dependents        7030 non-null   object \n",
      " 11  internetservice   7030 non-null   object \n",
      " 12  onlinesecurity    7030 non-null   object \n",
      " 13  onlinebackup      7030 non-null   object \n",
      " 14  deviceprotection  7030 non-null   object \n",
      " 15  techsupport       7030 non-null   object \n",
      " 16  streamingtv       7030 non-null   object \n",
      " 17  streamingmovies   7030 non-null   object \n",
      " 18  multiplelines     7030 non-null   object \n",
      " 19  churn             7030 non-null   object \n",
      "dtypes: float64(1), int64(1), object(18)\n",
      "memory usage: 1.1+ MB\n"
     ]
    }
   ],
   "source": [
    "df.info()"
   ]
  },
  {
   "cell_type": "code",
   "execution_count": 19,
   "metadata": {},
   "outputs": [],
   "source": [
    "# BeginDate to datetime\n",
    "# EndDate fill No values with specific data (1994-01-01) and convert to datetime\n",
    "\n",
    "df.begindate = pd.to_datetime(df['begindate'])\n",
    "df.enddate = df.enddate.replace('No','1994-01-01 00:00:00')\n",
    "df.enddate = pd.to_datetime(df['enddate'], errors= 'coerce')"
   ]
  },
  {
   "cell_type": "code",
   "execution_count": 20,
   "metadata": {},
   "outputs": [],
   "source": [
    "# Convert SeniorCitizen to \"Yes No\"\n",
    "\n",
    "df.loc[df.seniorcitizen==1, ('seniorcitizen')] = 'Yes'\n",
    "df.loc[df.seniorcitizen==0, ('seniorcitizen')] = 'No'"
   ]
  },
  {
   "cell_type": "code",
   "execution_count": 21,
   "metadata": {},
   "outputs": [],
   "source": [
    "# totalcharges To numeric. Fill uncorrect data to NaT -> fill totalcharges median. \n",
    "\n",
    "df.monthlycharges = pd.to_numeric(df.monthlycharges, downcast='float', errors='coerce')\n",
    "df.totalcharges = pd.to_numeric(df.totalcharges, downcast='float', errors='coerce')"
   ]
  },
  {
   "cell_type": "code",
   "execution_count": 22,
   "metadata": {},
   "outputs": [
    {
     "name": "stdout",
     "output_type": "stream",
     "text": [
      "<class 'pandas.core.frame.DataFrame'>\n",
      "Index: 7030 entries, 7590-VHVEG to 3186-AJIEK\n",
      "Data columns (total 20 columns):\n",
      " #   Column            Non-Null Count  Dtype         \n",
      "---  ------            --------------  -----         \n",
      " 0   begindate         7030 non-null   datetime64[ns]\n",
      " 1   enddate           7030 non-null   datetime64[ns]\n",
      " 2   type              7030 non-null   object        \n",
      " 3   paperlessbilling  7030 non-null   object        \n",
      " 4   paymentmethod     7030 non-null   object        \n",
      " 5   monthlycharges    7030 non-null   float32       \n",
      " 6   totalcharges      7019 non-null   float32       \n",
      " 7   gender            7030 non-null   object        \n",
      " 8   seniorcitizen     7030 non-null   object        \n",
      " 9   partner           7030 non-null   object        \n",
      " 10  dependents        7030 non-null   object        \n",
      " 11  internetservice   7030 non-null   object        \n",
      " 12  onlinesecurity    7030 non-null   object        \n",
      " 13  onlinebackup      7030 non-null   object        \n",
      " 14  deviceprotection  7030 non-null   object        \n",
      " 15  techsupport       7030 non-null   object        \n",
      " 16  streamingtv       7030 non-null   object        \n",
      " 17  streamingmovies   7030 non-null   object        \n",
      " 18  multiplelines     7030 non-null   object        \n",
      " 19  churn             7030 non-null   object        \n",
      "dtypes: datetime64[ns](2), float32(2), object(16)\n",
      "memory usage: 1.1+ MB\n"
     ]
    }
   ],
   "source": [
    "df.info()"
   ]
  },
  {
   "cell_type": "markdown",
   "metadata": {},
   "source": [
    "После перевода у нас появились пропуски в totalcharges. Заполним их медианными значениями."
   ]
  },
  {
   "cell_type": "code",
   "execution_count": 23,
   "metadata": {},
   "outputs": [],
   "source": [
    "df.totalcharges.fillna(df.totalcharges.median(), inplace = True)"
   ]
  },
  {
   "cell_type": "markdown",
   "metadata": {},
   "source": [
    "### Выводы по предобработке:\n",
    "\n",
    "* Нам даны 4 таблицы, в которых хранятся информация о клиентах, их тарифах и об услугах\n",
    "* В процессе обработки таблицы были объединены, в результате чего появились пропуски в данных. \n",
    "    Данные пропуски говорят о том, что есть пользователи без интернета / без телефона. Для таких пользователей были выделены отдельные категории. \n",
    "* Наблюдались дублирующиеся данные (13 строк), которые были удалены. \n",
    "* Была произведена конвертация признаков исходя из их значений. TotalCharges | MonthCharges приведелны к float64."
   ]
  },
  {
   "cell_type": "markdown",
   "metadata": {},
   "source": [
    "## 2. EDA\n",
    "\n",
    "### 2.1 Анализ категориальных признаков\n",
    "\n",
    "\n",
    "Для начала выделим эти признаки при помощи функции."
   ]
  },
  {
   "cell_type": "code",
   "execution_count": 24,
   "metadata": {},
   "outputs": [
    {
     "name": "stdout",
     "output_type": "stream",
     "text": [
      "['type',\n",
      " 'paperlessbilling',\n",
      " 'paymentmethod',\n",
      " 'gender',\n",
      " 'seniorcitizen',\n",
      " 'partner',\n",
      " 'dependents',\n",
      " 'internetservice',\n",
      " 'onlinesecurity',\n",
      " 'onlinebackup',\n",
      " 'deviceprotection',\n",
      " 'techsupport',\n",
      " 'streamingtv',\n",
      " 'streamingmovies',\n",
      " 'multiplelines',\n",
      " 'churn']\n"
     ]
    }
   ],
   "source": [
    "def cat_creator(dataframe):\n",
    "    \"\"\"\n",
    "    input: dataframe\n",
    "    process: calculate unique values in all columns -> if more then 5 - it's categorical\n",
    "    output: list of category features\n",
    "    \"\"\"\n",
    "    cats = []\n",
    "    cols = list(dataframe.columns)\n",
    "    for c in cols:\n",
    "        if dataframe[c].nunique() < 5:\n",
    "            cats.append(c)\n",
    "            \n",
    "    return cats\n",
    "\n",
    "\n",
    "cats = cat_creator(df)\n",
    "pprint(cats)"
   ]
  },
  {
   "cell_type": "markdown",
   "metadata": {},
   "source": [
    "Большая часть из наших признаков являются категориальными. \n",
    "\n",
    "#### Пол и возраст (seniorcitizen)"
   ]
  },
  {
   "cell_type": "code",
   "execution_count": 25,
   "metadata": {},
   "outputs": [
    {
     "data": {
      "image/png": "[encoded data removed]",
      "text/plain": [
       "<Figure size 432x288 with 1 Axes>"
      ]
     },
     "metadata": {
      "needs_background": "light"
     },
     "output_type": "display_data"
    }
   ],
   "source": [
    "import seaborn as sns\n",
    "\n",
    "\n",
    "\n",
    "def barplot_percentages(feature, orient='v', axis_name=\"percentage of customers\"):\n",
    "    # Create table with cat / churn relations\n",
    "    g = df.groupby(feature)[\"churn\"].value_counts().to_frame()\n",
    "    g = g.rename({\"churn\": axis_name}, axis=1).reset_index()\n",
    "    \n",
    "    # Create X with coefs\n",
    "    g[axis_name] = g[axis_name]/len(df)\n",
    "    \n",
    "    \n",
    "    # Choose orientation of plot\n",
    "    if orient == 'v':\n",
    "        ax = sns.barplot(x=feature, y= axis_name, hue='churn', data=g, orient=orient)\n",
    "        ax.set_yticklabels(['{:,.0%}'.format(y) for y in ax.get_yticks()])\n",
    "    else:\n",
    "        ax = sns.barplot(x= axis_name, y=feature, hue='churn', data=g, orient=orient)\n",
    "        ax.set_xticklabels(['{:,.0%}'.format(x) for x in ax.get_xticks()])\n",
    "    ax.plot()\n",
    "    \n",
    "    \n",
    "barplot_percentages(\"seniorcitizen\")"
   ]
  },
  {
   "cell_type": "code",
   "execution_count": 26,
   "metadata": {},
   "outputs": [
    {
     "data": {
      "image/png": "[encoded data removed]",
      "text/plain": [
       "<Figure size 576x288 with 2 Axes>"
      ]
     },
     "metadata": {
      "needs_background": "light"
     },
     "output_type": "display_data"
    }
   ],
   "source": [
    "df['churn_rate'] = df['churn'].replace(\"No\", 0).replace(\"Yes\", 1)\n",
    "g = sns.FacetGrid(df, col=\"seniorcitizen\", height=4)\n",
    "ax = g.map(sns.barplot, \"gender\", \"churn_rate\", order= ['Female', 'Male'])"
   ]
  },
  {
   "cell_type": "markdown",
   "metadata": {},
   "source": [
    "* Пол не является важным признаком\n",
    "* Пожилые люди являются малой частью от клиентов, но у них сильно выше процент оттока\n",
    "\n",
    "#### Partners, dependents"
   ]
  },
  {
   "cell_type": "code",
   "execution_count": 27,
   "metadata": {},
   "outputs": [
    {
     "data": {
      "image/png": "[encoded data removed]",
      "text/plain": [
       "<Figure size 432x288 with 1 Axes>"
      ]
     },
     "metadata": {
      "needs_background": "light"
     },
     "output_type": "display_data"
    }
   ],
   "source": [
    "barplot_percentages(\"partner\")"
   ]
  },
  {
   "cell_type": "code",
   "execution_count": 28,
   "metadata": {},
   "outputs": [
    {
     "data": {
      "image/png": "[encoded data removed]",
      "text/plain": [
       "<Figure size 432x288 with 1 Axes>"
      ]
     },
     "metadata": {
      "needs_background": "light"
     },
     "output_type": "display_data"
    }
   ],
   "source": [
    "barplot_percentages(\"dependents\")"
   ]
  },
  {
   "cell_type": "markdown",
   "metadata": {},
   "source": [
    "\n",
    "* Клиенты, у которых нет партнеров, с большей вероятностью могут отказаться от услуг.\n",
    "* Клиенты без иждивенцев также более склонны к уходу. \n"
   ]
  },
  {
   "cell_type": "markdown",
   "metadata": {},
   "source": [
    "#### Phone and Internet services"
   ]
  },
  {
   "cell_type": "code",
   "execution_count": 29,
   "metadata": {},
   "outputs": [
    {
     "data": {
      "image/png": "[encoded data removed]",
      "text/plain": [
       "<Figure size 432x288 with 1 Axes>"
      ]
     },
     "metadata": {
      "needs_background": "light"
     },
     "output_type": "display_data"
    }
   ],
   "source": [
    "barplot_percentages(\"multiplelines\")"
   ]
  },
  {
   "cell_type": "markdown",
   "metadata": {},
   "source": [
    "* Малая часть клиентов не использует телефон"
   ]
  },
  {
   "cell_type": "code",
   "execution_count": 30,
   "metadata": {},
   "outputs": [
    {
     "data": {
      "image/png": "[encoded data removed]",
      "text/plain": [
       "<Figure size 432x288 with 1 Axes>"
      ]
     },
     "metadata": {
      "needs_background": "light"
     },
     "output_type": "display_data"
    }
   ],
   "source": [
    "barplot_percentages(\"internetservice\")"
   ]
  },
  {
   "cell_type": "markdown",
   "metadata": {},
   "source": [
    "* Люди, использующие оптическое волокно, чаще уходят. Может быть связано с высокой конкуренцией, так как в доме могут быть несколько операторов,\n",
    "* Клиенты без интернета имеют очень маленький процент оттока.\n",
    "\n",
    "#### Анализ сервисов "
   ]
  },
  {
   "cell_type": "code",
   "execution_count": 31,
   "metadata": {},
   "outputs": [
    {
     "data": {
      "image/png": "[encoded data removed]",
      "text/plain": [
       "<Figure size 720x324 with 1 Axes>"
      ]
     },
     "metadata": {
      "needs_background": "light"
     },
     "output_type": "display_data"
    }
   ],
   "source": [
    "import matplotlib.pyplot as plt\n",
    "\n",
    "cols = [\"onlinesecurity\", \"onlinebackup\", \"deviceprotection\", \"techsupport\", \"streamingtv\", \"streamingmovies\"]\n",
    "df1 = pd.melt(df[df[\"internetservice\"] != \"No\"][cols]).rename({'value': 'Has service'}, axis=1)\n",
    "plt.figure(figsize=(10, 4.5))\n",
    "df1 = df[(df.internetservice != \"No\") & (df.churn == \"Yes\")]\n",
    "df1 = pd.melt(df1[cols]).rename({'value': 'Has service'}, axis=1)\n",
    "ax = sns.countplot(data=df1, x='variable', hue='Has service', hue_order=['No', 'Yes'])\n",
    "ax.set(xlabel='Additional service', ylabel='Num of churns')\n",
    "plt.show()"
   ]
  },
  {
   "cell_type": "markdown",
   "metadata": {},
   "source": [
    "* Стриминговые сервисы не сильно влияют на отток\n",
    "* Клиенты, использующие остальные сервисы реже уходят. \n",
    "\n",
    "\n",
    "#### Payment info\n"
   ]
  },
  {
   "cell_type": "code",
   "execution_count": 32,
   "metadata": {},
   "outputs": [
    {
     "data": {
      "image/png": "[encoded data removed]",
      "text/plain": [
       "<Figure size 720x288 with 1 Axes>"
      ]
     },
     "metadata": {
      "needs_background": "light"
     },
     "output_type": "display_data"
    }
   ],
   "source": [
    "plt.figure(figsize = (10,4))\n",
    "barplot_percentages(\"paymentmethod\")"
   ]
  },
  {
   "cell_type": "code",
   "execution_count": 33,
   "metadata": {},
   "outputs": [
    {
     "data": {
      "image/png": "[encoded data removed]",
      "text/plain": [
       "<Figure size 720x288 with 1 Axes>"
      ]
     },
     "metadata": {
      "needs_background": "light"
     },
     "output_type": "display_data"
    }
   ],
   "source": [
    "plt.figure(figsize = (10,4))\n",
    "barplot_percentages(\"paperlessbilling\", orient = 'h')"
   ]
  },
  {
   "cell_type": "code",
   "execution_count": 34,
   "metadata": {},
   "outputs": [
    {
     "data": {
      "image/png": "[encoded data removed]",
      "text/plain": [
       "<Figure size 720x288 with 1 Axes>"
      ]
     },
     "metadata": {
      "needs_background": "light"
     },
     "output_type": "display_data"
    }
   ],
   "source": [
    "plt.figure(figsize = (10,4))\n",
    "barplot_percentages(\"type\", orient = 'v')"
   ]
  },
  {
   "cell_type": "markdown",
   "metadata": {},
   "source": [
    "* Самый высокий процент оттока у клиентов с электронной оплатой (electronic check)\n",
    "* Клиенты, использующий электронный документооборот, чаще отказываются от услуг\n",
    "* Переход к ежегодной оплате за услуги процент оттока сильно снижается (с 25% до >5%)\n",
    "\n",
    "\n",
    "### 2.2 Non-категориальные признаки\n",
    "\n",
    "У нас имеется всего два признака, в которых не категориальные признаки - сумма месячной оплаты и общая сумма."
   ]
  },
  {
   "cell_type": "code",
   "execution_count": 35,
   "metadata": {},
   "outputs": [
    {
     "data": {
      "image/png": "[encoded data removed]",
      "text/plain": [
       "<Figure size 648x288 with 1 Axes>"
      ]
     },
     "metadata": {
      "needs_background": "light"
     },
     "output_type": "display_data"
    },
    {
     "data": {
      "image/png": "[encoded data removed]",
      "text/plain": [
       "<Figure size 648x288 with 1 Axes>"
      ]
     },
     "metadata": {
      "needs_background": "light"
     },
     "output_type": "display_data"
    }
   ],
   "source": [
    "def kdeplot(feature):\n",
    "    plt.figure(figsize=(9, 4))\n",
    "    plt.title(\"KDE for {}\".format(feature))\n",
    "    ax0 = sns.kdeplot(df[df['churn'] == 'No'][feature].dropna(), color= 'navy', label= 'Churn: No')\n",
    "    ax1 = sns.kdeplot(df[df['churn'] == 'Yes'][feature].dropna(), color= 'orange', label= 'Churn: Yes')\n",
    "    \n",
    "kdeplot('monthlycharges')\n",
    "kdeplot('totalcharges')"
   ]
  },
  {
   "cell_type": "markdown",
   "metadata": {},
   "source": [
    "На основании полученного распределения можно сказать, что основным признаком, по которому можно предсказать отток, является величина месечной платы. \n",
    "\n",
    "Это видно на двух пиках первого распределения - no churn на величине ~ 20 и churn на величине оплаты более 70. "
   ]
  },
  {
   "cell_type": "markdown",
   "metadata": {},
   "source": [
    "### 2.3 Распределение целевого признака.\n",
    "\n",
    "Посмотрим на баланс целевого признака (отто|ка)."
   ]
  },
  {
   "cell_type": "code",
   "execution_count": 36,
   "metadata": {
    "scrolled": true
   },
   "outputs": [
    {
     "data": {
      "image/png": "[encoded data removed]",
      "text/plain": [
       "<Figure size 432x288 with 1 Axes>"
      ]
     },
     "metadata": {
      "needs_background": "light"
     },
     "output_type": "display_data"
    }
   ],
   "source": [
    "barplot_percentages('churn_rate')"
   ]
  },
  {
   "cell_type": "markdown",
   "metadata": {},
   "source": [
    "Соотношение класов ~ 75 к 30."
   ]
  },
  {
   "cell_type": "markdown",
   "metadata": {},
   "source": [
    "## 3. Построение модели.\n",
    "\n",
    "### 3.1 Работа с признаками\n",
    "#### Использование даты\n",
    "\n",
    "Для выбора лучшей модели мы используем библиотеку PyCaret.\n",
    "\n",
    "Для начала, добавим новый признак к нашим данным - сколько лет / месяцев абонент \"с нами\".\n",
    "\n",
    "Наши данные актуальны на февраль 2020.\n"
   ]
  },
  {
   "cell_type": "code",
   "execution_count": 86,
   "metadata": {},
   "outputs": [],
   "source": [
    "# Текущая дата\n",
    "\n",
    "import numpy as np\n",
    "\n",
    "curr_date = pd.DataFrame(index = df.index, \n",
    "                            data = [\n",
    "                                pd.Series('2020-02-01', dtype='datetime64[ns]') for x in range(len(df))\n",
    "                            ])\n",
    "current_series = pd.Series('2020-02-01', dtype='datetime64[ns]')"
   ]
  },
  {
   "cell_type": "code",
   "execution_count": 87,
   "metadata": {
    "scrolled": true
   },
   "outputs": [],
   "source": [
    "def with_us(dataframe):\n",
    "    \n",
    "    # arr of new days\n",
    "    days = []\n",
    "    \n",
    "    for i in range(len(dataframe)):\n",
    "        \n",
    "        #BeginDate\n",
    "        b_date = dataframe.begindate.dt.date[i]\n",
    "        \n",
    "        #EndDate\n",
    "        e_date = dataframe.enddate.dt.date[i]\n",
    "        \n",
    "        #Если дата окончания договора не наступила (клиент не ушёл), то вычитаем из текущей\n",
    "        if str(e_date) == '1994-01-01':\n",
    "            day_count = (current_series.dt.date - b_date)\n",
    "        # Иначе вычитаем из даты окончания\n",
    "        else:\n",
    "            day_count = (e_date - b_date)\n",
    "            \n",
    "        try:\n",
    "            days.append(day_count.days)\n",
    "        except:\n",
    "            days.append(day_count[0].days)\n",
    "            \n",
    "    return days\n",
    "        \n",
    "    \n",
    "        \n",
    "df['with_us'] = with_us(df)"
   ]
  },
  {
   "cell_type": "code",
   "execution_count": 88,
   "metadata": {
    "scrolled": false
   },
   "outputs": [
    {
     "data": {
      "text/html": [
       "<div>\n",
       "<style scoped>\n",
       "    .dataframe tbody tr th:only-of-type {\n",
       "        vertical-align: middle;\n",
       "    }\n",
       "\n",
       "    .dataframe tbody tr th {\n",
       "        vertical-align: top;\n",
       "    }\n",
       "\n",
       "    .dataframe thead th {\n",
       "        text-align: right;\n",
       "    }\n",
       "</style>\n",
       "<table border=\"1\" class=\"dataframe\">\n",
       "  <thead>\n",
       "    <tr style=\"text-align: right;\">\n",
       "      <th></th>\n",
       "      <th>begindate</th>\n",
       "      <th>enddate</th>\n",
       "      <th>type</th>\n",
       "      <th>paperlessbilling</th>\n",
       "      <th>paymentmethod</th>\n",
       "      <th>monthlycharges</th>\n",
       "      <th>totalcharges</th>\n",
       "      <th>gender</th>\n",
       "      <th>seniorcitizen</th>\n",
       "      <th>partner</th>\n",
       "      <th>...</th>\n",
       "      <th>onlinesecurity</th>\n",
       "      <th>onlinebackup</th>\n",
       "      <th>deviceprotection</th>\n",
       "      <th>techsupport</th>\n",
       "      <th>streamingtv</th>\n",
       "      <th>streamingmovies</th>\n",
       "      <th>multiplelines</th>\n",
       "      <th>churn</th>\n",
       "      <th>churn_rate</th>\n",
       "      <th>with_us</th>\n",
       "    </tr>\n",
       "    <tr>\n",
       "      <th>customerID</th>\n",
       "      <th></th>\n",
       "      <th></th>\n",
       "      <th></th>\n",
       "      <th></th>\n",
       "      <th></th>\n",
       "      <th></th>\n",
       "      <th></th>\n",
       "      <th></th>\n",
       "      <th></th>\n",
       "      <th></th>\n",
       "      <th></th>\n",
       "      <th></th>\n",
       "      <th></th>\n",
       "      <th></th>\n",
       "      <th></th>\n",
       "      <th></th>\n",
       "      <th></th>\n",
       "      <th></th>\n",
       "      <th></th>\n",
       "      <th></th>\n",
       "      <th></th>\n",
       "    </tr>\n",
       "  </thead>\n",
       "  <tbody>\n",
       "    <tr>\n",
       "      <th>7590-VHVEG</th>\n",
       "      <td>2020-01-01</td>\n",
       "      <td>1994-01-01</td>\n",
       "      <td>Month-to-month</td>\n",
       "      <td>Yes</td>\n",
       "      <td>Electronic check</td>\n",
       "      <td>29.850000</td>\n",
       "      <td>29.850000</td>\n",
       "      <td>Female</td>\n",
       "      <td>No</td>\n",
       "      <td>Yes</td>\n",
       "      <td>...</td>\n",
       "      <td>No</td>\n",
       "      <td>Yes</td>\n",
       "      <td>No</td>\n",
       "      <td>No</td>\n",
       "      <td>No</td>\n",
       "      <td>No</td>\n",
       "      <td>No phone</td>\n",
       "      <td>No</td>\n",
       "      <td>0</td>\n",
       "      <td>31</td>\n",
       "    </tr>\n",
       "    <tr>\n",
       "      <th>5575-GNVDE</th>\n",
       "      <td>2017-04-01</td>\n",
       "      <td>1994-01-01</td>\n",
       "      <td>One year</td>\n",
       "      <td>No</td>\n",
       "      <td>Mailed check</td>\n",
       "      <td>56.950001</td>\n",
       "      <td>1889.500000</td>\n",
       "      <td>Male</td>\n",
       "      <td>No</td>\n",
       "      <td>No</td>\n",
       "      <td>...</td>\n",
       "      <td>Yes</td>\n",
       "      <td>No</td>\n",
       "      <td>Yes</td>\n",
       "      <td>No</td>\n",
       "      <td>No</td>\n",
       "      <td>No</td>\n",
       "      <td>No</td>\n",
       "      <td>No</td>\n",
       "      <td>0</td>\n",
       "      <td>1036</td>\n",
       "    </tr>\n",
       "    <tr>\n",
       "      <th>3668-QPYBK</th>\n",
       "      <td>2019-10-01</td>\n",
       "      <td>2019-12-01</td>\n",
       "      <td>Month-to-month</td>\n",
       "      <td>Yes</td>\n",
       "      <td>Mailed check</td>\n",
       "      <td>53.849998</td>\n",
       "      <td>108.150002</td>\n",
       "      <td>Male</td>\n",
       "      <td>No</td>\n",
       "      <td>No</td>\n",
       "      <td>...</td>\n",
       "      <td>Yes</td>\n",
       "      <td>Yes</td>\n",
       "      <td>No</td>\n",
       "      <td>No</td>\n",
       "      <td>No</td>\n",
       "      <td>No</td>\n",
       "      <td>No</td>\n",
       "      <td>Yes</td>\n",
       "      <td>1</td>\n",
       "      <td>61</td>\n",
       "    </tr>\n",
       "    <tr>\n",
       "      <th>7795-CFOCW</th>\n",
       "      <td>2016-05-01</td>\n",
       "      <td>1994-01-01</td>\n",
       "      <td>One year</td>\n",
       "      <td>No</td>\n",
       "      <td>Bank transfer (automatic)</td>\n",
       "      <td>42.299999</td>\n",
       "      <td>1840.750000</td>\n",
       "      <td>Male</td>\n",
       "      <td>No</td>\n",
       "      <td>No</td>\n",
       "      <td>...</td>\n",
       "      <td>Yes</td>\n",
       "      <td>No</td>\n",
       "      <td>Yes</td>\n",
       "      <td>Yes</td>\n",
       "      <td>No</td>\n",
       "      <td>No</td>\n",
       "      <td>No phone</td>\n",
       "      <td>No</td>\n",
       "      <td>0</td>\n",
       "      <td>1371</td>\n",
       "    </tr>\n",
       "    <tr>\n",
       "      <th>9237-HQITU</th>\n",
       "      <td>2019-09-01</td>\n",
       "      <td>2019-11-01</td>\n",
       "      <td>Month-to-month</td>\n",
       "      <td>Yes</td>\n",
       "      <td>Electronic check</td>\n",
       "      <td>70.699997</td>\n",
       "      <td>151.649994</td>\n",
       "      <td>Female</td>\n",
       "      <td>No</td>\n",
       "      <td>No</td>\n",
       "      <td>...</td>\n",
       "      <td>No</td>\n",
       "      <td>No</td>\n",
       "      <td>No</td>\n",
       "      <td>No</td>\n",
       "      <td>No</td>\n",
       "      <td>No</td>\n",
       "      <td>No</td>\n",
       "      <td>Yes</td>\n",
       "      <td>1</td>\n",
       "      <td>61</td>\n",
       "    </tr>\n",
       "  </tbody>\n",
       "</table>\n",
       "<p>5 rows × 22 columns</p>\n",
       "</div>"
      ],
      "text/plain": [
       "            begindate    enddate            type paperlessbilling  \\\n",
       "customerID                                                          \n",
       "7590-VHVEG 2020-01-01 1994-01-01  Month-to-month              Yes   \n",
       "5575-GNVDE 2017-04-01 1994-01-01        One year               No   \n",
       "3668-QPYBK 2019-10-01 2019-12-01  Month-to-month              Yes   \n",
       "7795-CFOCW 2016-05-01 1994-01-01        One year               No   \n",
       "9237-HQITU 2019-09-01 2019-11-01  Month-to-month              Yes   \n",
       "\n",
       "                        paymentmethod  monthlycharges  totalcharges  gender  \\\n",
       "customerID                                                                    \n",
       "7590-VHVEG           Electronic check       29.850000     29.850000  Female   \n",
       "5575-GNVDE               Mailed check       56.950001   1889.500000    Male   \n",
       "3668-QPYBK               Mailed check       53.849998    108.150002    Male   \n",
       "7795-CFOCW  Bank transfer (automatic)       42.299999   1840.750000    Male   \n",
       "9237-HQITU           Electronic check       70.699997    151.649994  Female   \n",
       "\n",
       "           seniorcitizen partner  ... onlinesecurity onlinebackup  \\\n",
       "customerID                        ...                               \n",
       "7590-VHVEG            No     Yes  ...             No          Yes   \n",
       "5575-GNVDE            No      No  ...            Yes           No   \n",
       "3668-QPYBK            No      No  ...            Yes          Yes   \n",
       "7795-CFOCW            No      No  ...            Yes           No   \n",
       "9237-HQITU            No      No  ...             No           No   \n",
       "\n",
       "           deviceprotection techsupport streamingtv streamingmovies  \\\n",
       "customerID                                                            \n",
       "7590-VHVEG               No          No          No              No   \n",
       "5575-GNVDE              Yes          No          No              No   \n",
       "3668-QPYBK               No          No          No              No   \n",
       "7795-CFOCW              Yes         Yes          No              No   \n",
       "9237-HQITU               No          No          No              No   \n",
       "\n",
       "           multiplelines churn churn_rate with_us  \n",
       "customerID                                         \n",
       "7590-VHVEG      No phone    No          0      31  \n",
       "5575-GNVDE            No    No          0    1036  \n",
       "3668-QPYBK            No   Yes          1      61  \n",
       "7795-CFOCW      No phone    No          0    1371  \n",
       "9237-HQITU            No   Yes          1      61  \n",
       "\n",
       "[5 rows x 22 columns]"
      ]
     },
     "execution_count": 88,
     "metadata": {},
     "output_type": "execute_result"
    }
   ],
   "source": [
    "df.head(5)"
   ]
  },
  {
   "cell_type": "markdown",
   "metadata": {},
   "source": [
    "#### Удаление признаков"
   ]
  },
  {
   "cell_type": "code",
   "execution_count": 43,
   "metadata": {},
   "outputs": [],
   "source": [
    "# Удаляем даты, churn_rate\n",
    "clean_df = df.drop(['churn_rate','begindate','enddate'], axis = 1)"
   ]
  },
  {
   "cell_type": "code",
   "execution_count": 44,
   "metadata": {},
   "outputs": [],
   "source": [
    "clean_df['churn'].replace(to_replace='Yes', value=1, inplace=True)\n",
    "clean_df['churn'].replace(to_replace='No',  value=0, inplace=True)"
   ]
  },
  {
   "cell_type": "markdown",
   "metadata": {},
   "source": [
    "## 3.2 Построение модели\n",
    "\n",
    "Для дальнейшей работы мы будем использовать библиотеку PyCaret, которая позволяет быстро сравнить модели, а также оптимизировать её параметры. "
   ]
  },
  {
   "cell_type": "markdown",
   "metadata": {},
   "source": [
    "### Тестирование моделей"
   ]
  },
  {
   "cell_type": "markdown",
   "metadata": {},
   "source": [
    "Импортируем библиотеку PyCaret"
   ]
  },
  {
   "cell_type": "code",
   "execution_count": 89,
   "metadata": {},
   "outputs": [],
   "source": [
    "from pycaret.classification import *"
   ]
  },
  {
   "cell_type": "code",
   "execution_count": 107,
   "metadata": {
    "scrolled": true
   },
   "outputs": [
    {
     "name": "stdout",
     "output_type": "stream",
     "text": [
      " \n",
      "Setup Succesfully Completed!\n"
     ]
    },
    {
     "data": {
      "text/html": [
       "<style  type=\"text/css\" >\n",
       "</style><table id=\"T_15c5e762_9c25_11ea_a5c7_1b83fafe0255\" ><thead>    <tr>        <th class=\"blank level0\" ></th>        <th class=\"col_heading level0 col0\" >Description</th>        <th class=\"col_heading level0 col1\" >Value</th>    </tr></thead><tbody>\n",
       "                <tr>\n",
       "                        <th id=\"T_15c5e762_9c25_11ea_a5c7_1b83fafe0255level0_row0\" class=\"row_heading level0 row0\" >0</th>\n",
       "                        <td id=\"T_15c5e762_9c25_11ea_a5c7_1b83fafe0255row0_col0\" class=\"data row0 col0\" >session_id</td>\n",
       "                        <td id=\"T_15c5e762_9c25_11ea_a5c7_1b83fafe0255row0_col1\" class=\"data row0 col1\" >3732</td>\n",
       "            </tr>\n",
       "            <tr>\n",
       "                        <th id=\"T_15c5e762_9c25_11ea_a5c7_1b83fafe0255level0_row1\" class=\"row_heading level0 row1\" >1</th>\n",
       "                        <td id=\"T_15c5e762_9c25_11ea_a5c7_1b83fafe0255row1_col0\" class=\"data row1 col0\" >Target Type</td>\n",
       "                        <td id=\"T_15c5e762_9c25_11ea_a5c7_1b83fafe0255row1_col1\" class=\"data row1 col1\" >Binary</td>\n",
       "            </tr>\n",
       "            <tr>\n",
       "                        <th id=\"T_15c5e762_9c25_11ea_a5c7_1b83fafe0255level0_row2\" class=\"row_heading level0 row2\" >2</th>\n",
       "                        <td id=\"T_15c5e762_9c25_11ea_a5c7_1b83fafe0255row2_col0\" class=\"data row2 col0\" >Label Encoded</td>\n",
       "                        <td id=\"T_15c5e762_9c25_11ea_a5c7_1b83fafe0255row2_col1\" class=\"data row2 col1\" >None</td>\n",
       "            </tr>\n",
       "            <tr>\n",
       "                        <th id=\"T_15c5e762_9c25_11ea_a5c7_1b83fafe0255level0_row3\" class=\"row_heading level0 row3\" >3</th>\n",
       "                        <td id=\"T_15c5e762_9c25_11ea_a5c7_1b83fafe0255row3_col0\" class=\"data row3 col0\" >Original Data</td>\n",
       "                        <td id=\"T_15c5e762_9c25_11ea_a5c7_1b83fafe0255row3_col1\" class=\"data row3 col1\" >(7030, 19)</td>\n",
       "            </tr>\n",
       "            <tr>\n",
       "                        <th id=\"T_15c5e762_9c25_11ea_a5c7_1b83fafe0255level0_row4\" class=\"row_heading level0 row4\" >4</th>\n",
       "                        <td id=\"T_15c5e762_9c25_11ea_a5c7_1b83fafe0255row4_col0\" class=\"data row4 col0\" >Missing Values </td>\n",
       "                        <td id=\"T_15c5e762_9c25_11ea_a5c7_1b83fafe0255row4_col1\" class=\"data row4 col1\" >False</td>\n",
       "            </tr>\n",
       "            <tr>\n",
       "                        <th id=\"T_15c5e762_9c25_11ea_a5c7_1b83fafe0255level0_row5\" class=\"row_heading level0 row5\" >5</th>\n",
       "                        <td id=\"T_15c5e762_9c25_11ea_a5c7_1b83fafe0255row5_col0\" class=\"data row5 col0\" >Numeric Features </td>\n",
       "                        <td id=\"T_15c5e762_9c25_11ea_a5c7_1b83fafe0255row5_col1\" class=\"data row5 col1\" >3</td>\n",
       "            </tr>\n",
       "            <tr>\n",
       "                        <th id=\"T_15c5e762_9c25_11ea_a5c7_1b83fafe0255level0_row6\" class=\"row_heading level0 row6\" >6</th>\n",
       "                        <td id=\"T_15c5e762_9c25_11ea_a5c7_1b83fafe0255row6_col0\" class=\"data row6 col0\" >Categorical Features </td>\n",
       "                        <td id=\"T_15c5e762_9c25_11ea_a5c7_1b83fafe0255row6_col1\" class=\"data row6 col1\" >15</td>\n",
       "            </tr>\n",
       "            <tr>\n",
       "                        <th id=\"T_15c5e762_9c25_11ea_a5c7_1b83fafe0255level0_row7\" class=\"row_heading level0 row7\" >7</th>\n",
       "                        <td id=\"T_15c5e762_9c25_11ea_a5c7_1b83fafe0255row7_col0\" class=\"data row7 col0\" >Ordinal Features </td>\n",
       "                        <td id=\"T_15c5e762_9c25_11ea_a5c7_1b83fafe0255row7_col1\" class=\"data row7 col1\" >False</td>\n",
       "            </tr>\n",
       "            <tr>\n",
       "                        <th id=\"T_15c5e762_9c25_11ea_a5c7_1b83fafe0255level0_row8\" class=\"row_heading level0 row8\" >8</th>\n",
       "                        <td id=\"T_15c5e762_9c25_11ea_a5c7_1b83fafe0255row8_col0\" class=\"data row8 col0\" >High Cardinality Features </td>\n",
       "                        <td id=\"T_15c5e762_9c25_11ea_a5c7_1b83fafe0255row8_col1\" class=\"data row8 col1\" >False</td>\n",
       "            </tr>\n",
       "            <tr>\n",
       "                        <th id=\"T_15c5e762_9c25_11ea_a5c7_1b83fafe0255level0_row9\" class=\"row_heading level0 row9\" >9</th>\n",
       "                        <td id=\"T_15c5e762_9c25_11ea_a5c7_1b83fafe0255row9_col0\" class=\"data row9 col0\" >High Cardinality Method </td>\n",
       "                        <td id=\"T_15c5e762_9c25_11ea_a5c7_1b83fafe0255row9_col1\" class=\"data row9 col1\" >None</td>\n",
       "            </tr>\n",
       "            <tr>\n",
       "                        <th id=\"T_15c5e762_9c25_11ea_a5c7_1b83fafe0255level0_row10\" class=\"row_heading level0 row10\" >10</th>\n",
       "                        <td id=\"T_15c5e762_9c25_11ea_a5c7_1b83fafe0255row10_col0\" class=\"data row10 col0\" >Sampled Data</td>\n",
       "                        <td id=\"T_15c5e762_9c25_11ea_a5c7_1b83fafe0255row10_col1\" class=\"data row10 col1\" >(7030, 19)</td>\n",
       "            </tr>\n",
       "            <tr>\n",
       "                        <th id=\"T_15c5e762_9c25_11ea_a5c7_1b83fafe0255level0_row11\" class=\"row_heading level0 row11\" >11</th>\n",
       "                        <td id=\"T_15c5e762_9c25_11ea_a5c7_1b83fafe0255row11_col0\" class=\"data row11 col0\" >Transformed Train Set</td>\n",
       "                        <td id=\"T_15c5e762_9c25_11ea_a5c7_1b83fafe0255row11_col1\" class=\"data row11 col1\" >(5624, 33)</td>\n",
       "            </tr>\n",
       "            <tr>\n",
       "                        <th id=\"T_15c5e762_9c25_11ea_a5c7_1b83fafe0255level0_row12\" class=\"row_heading level0 row12\" >12</th>\n",
       "                        <td id=\"T_15c5e762_9c25_11ea_a5c7_1b83fafe0255row12_col0\" class=\"data row12 col0\" >Transformed Test Set</td>\n",
       "                        <td id=\"T_15c5e762_9c25_11ea_a5c7_1b83fafe0255row12_col1\" class=\"data row12 col1\" >(1406, 33)</td>\n",
       "            </tr>\n",
       "            <tr>\n",
       "                        <th id=\"T_15c5e762_9c25_11ea_a5c7_1b83fafe0255level0_row13\" class=\"row_heading level0 row13\" >13</th>\n",
       "                        <td id=\"T_15c5e762_9c25_11ea_a5c7_1b83fafe0255row13_col0\" class=\"data row13 col0\" >Numeric Imputer </td>\n",
       "                        <td id=\"T_15c5e762_9c25_11ea_a5c7_1b83fafe0255row13_col1\" class=\"data row13 col1\" >mean</td>\n",
       "            </tr>\n",
       "            <tr>\n",
       "                        <th id=\"T_15c5e762_9c25_11ea_a5c7_1b83fafe0255level0_row14\" class=\"row_heading level0 row14\" >14</th>\n",
       "                        <td id=\"T_15c5e762_9c25_11ea_a5c7_1b83fafe0255row14_col0\" class=\"data row14 col0\" >Categorical Imputer </td>\n",
       "                        <td id=\"T_15c5e762_9c25_11ea_a5c7_1b83fafe0255row14_col1\" class=\"data row14 col1\" >constant</td>\n",
       "            </tr>\n",
       "            <tr>\n",
       "                        <th id=\"T_15c5e762_9c25_11ea_a5c7_1b83fafe0255level0_row15\" class=\"row_heading level0 row15\" >15</th>\n",
       "                        <td id=\"T_15c5e762_9c25_11ea_a5c7_1b83fafe0255row15_col0\" class=\"data row15 col0\" >Normalize </td>\n",
       "                        <td id=\"T_15c5e762_9c25_11ea_a5c7_1b83fafe0255row15_col1\" class=\"data row15 col1\" >False</td>\n",
       "            </tr>\n",
       "            <tr>\n",
       "                        <th id=\"T_15c5e762_9c25_11ea_a5c7_1b83fafe0255level0_row16\" class=\"row_heading level0 row16\" >16</th>\n",
       "                        <td id=\"T_15c5e762_9c25_11ea_a5c7_1b83fafe0255row16_col0\" class=\"data row16 col0\" >Normalize Method </td>\n",
       "                        <td id=\"T_15c5e762_9c25_11ea_a5c7_1b83fafe0255row16_col1\" class=\"data row16 col1\" >None</td>\n",
       "            </tr>\n",
       "            <tr>\n",
       "                        <th id=\"T_15c5e762_9c25_11ea_a5c7_1b83fafe0255level0_row17\" class=\"row_heading level0 row17\" >17</th>\n",
       "                        <td id=\"T_15c5e762_9c25_11ea_a5c7_1b83fafe0255row17_col0\" class=\"data row17 col0\" >Transformation </td>\n",
       "                        <td id=\"T_15c5e762_9c25_11ea_a5c7_1b83fafe0255row17_col1\" class=\"data row17 col1\" >False</td>\n",
       "            </tr>\n",
       "            <tr>\n",
       "                        <th id=\"T_15c5e762_9c25_11ea_a5c7_1b83fafe0255level0_row18\" class=\"row_heading level0 row18\" >18</th>\n",
       "                        <td id=\"T_15c5e762_9c25_11ea_a5c7_1b83fafe0255row18_col0\" class=\"data row18 col0\" >Transformation Method </td>\n",
       "                        <td id=\"T_15c5e762_9c25_11ea_a5c7_1b83fafe0255row18_col1\" class=\"data row18 col1\" >None</td>\n",
       "            </tr>\n",
       "            <tr>\n",
       "                        <th id=\"T_15c5e762_9c25_11ea_a5c7_1b83fafe0255level0_row19\" class=\"row_heading level0 row19\" >19</th>\n",
       "                        <td id=\"T_15c5e762_9c25_11ea_a5c7_1b83fafe0255row19_col0\" class=\"data row19 col0\" >PCA </td>\n",
       "                        <td id=\"T_15c5e762_9c25_11ea_a5c7_1b83fafe0255row19_col1\" class=\"data row19 col1\" >False</td>\n",
       "            </tr>\n",
       "            <tr>\n",
       "                        <th id=\"T_15c5e762_9c25_11ea_a5c7_1b83fafe0255level0_row20\" class=\"row_heading level0 row20\" >20</th>\n",
       "                        <td id=\"T_15c5e762_9c25_11ea_a5c7_1b83fafe0255row20_col0\" class=\"data row20 col0\" >PCA Method </td>\n",
       "                        <td id=\"T_15c5e762_9c25_11ea_a5c7_1b83fafe0255row20_col1\" class=\"data row20 col1\" >None</td>\n",
       "            </tr>\n",
       "            <tr>\n",
       "                        <th id=\"T_15c5e762_9c25_11ea_a5c7_1b83fafe0255level0_row21\" class=\"row_heading level0 row21\" >21</th>\n",
       "                        <td id=\"T_15c5e762_9c25_11ea_a5c7_1b83fafe0255row21_col0\" class=\"data row21 col0\" >PCA Components </td>\n",
       "                        <td id=\"T_15c5e762_9c25_11ea_a5c7_1b83fafe0255row21_col1\" class=\"data row21 col1\" >None</td>\n",
       "            </tr>\n",
       "            <tr>\n",
       "                        <th id=\"T_15c5e762_9c25_11ea_a5c7_1b83fafe0255level0_row22\" class=\"row_heading level0 row22\" >22</th>\n",
       "                        <td id=\"T_15c5e762_9c25_11ea_a5c7_1b83fafe0255row22_col0\" class=\"data row22 col0\" >Ignore Low Variance </td>\n",
       "                        <td id=\"T_15c5e762_9c25_11ea_a5c7_1b83fafe0255row22_col1\" class=\"data row22 col1\" >False</td>\n",
       "            </tr>\n",
       "            <tr>\n",
       "                        <th id=\"T_15c5e762_9c25_11ea_a5c7_1b83fafe0255level0_row23\" class=\"row_heading level0 row23\" >23</th>\n",
       "                        <td id=\"T_15c5e762_9c25_11ea_a5c7_1b83fafe0255row23_col0\" class=\"data row23 col0\" >Combine Rare Levels </td>\n",
       "                        <td id=\"T_15c5e762_9c25_11ea_a5c7_1b83fafe0255row23_col1\" class=\"data row23 col1\" >False</td>\n",
       "            </tr>\n",
       "            <tr>\n",
       "                        <th id=\"T_15c5e762_9c25_11ea_a5c7_1b83fafe0255level0_row24\" class=\"row_heading level0 row24\" >24</th>\n",
       "                        <td id=\"T_15c5e762_9c25_11ea_a5c7_1b83fafe0255row24_col0\" class=\"data row24 col0\" >Rare Level Threshold </td>\n",
       "                        <td id=\"T_15c5e762_9c25_11ea_a5c7_1b83fafe0255row24_col1\" class=\"data row24 col1\" >None</td>\n",
       "            </tr>\n",
       "            <tr>\n",
       "                        <th id=\"T_15c5e762_9c25_11ea_a5c7_1b83fafe0255level0_row25\" class=\"row_heading level0 row25\" >25</th>\n",
       "                        <td id=\"T_15c5e762_9c25_11ea_a5c7_1b83fafe0255row25_col0\" class=\"data row25 col0\" >Numeric Binning </td>\n",
       "                        <td id=\"T_15c5e762_9c25_11ea_a5c7_1b83fafe0255row25_col1\" class=\"data row25 col1\" >False</td>\n",
       "            </tr>\n",
       "            <tr>\n",
       "                        <th id=\"T_15c5e762_9c25_11ea_a5c7_1b83fafe0255level0_row26\" class=\"row_heading level0 row26\" >26</th>\n",
       "                        <td id=\"T_15c5e762_9c25_11ea_a5c7_1b83fafe0255row26_col0\" class=\"data row26 col0\" >Remove Outliers </td>\n",
       "                        <td id=\"T_15c5e762_9c25_11ea_a5c7_1b83fafe0255row26_col1\" class=\"data row26 col1\" >False</td>\n",
       "            </tr>\n",
       "            <tr>\n",
       "                        <th id=\"T_15c5e762_9c25_11ea_a5c7_1b83fafe0255level0_row27\" class=\"row_heading level0 row27\" >27</th>\n",
       "                        <td id=\"T_15c5e762_9c25_11ea_a5c7_1b83fafe0255row27_col0\" class=\"data row27 col0\" >Outliers Threshold </td>\n",
       "                        <td id=\"T_15c5e762_9c25_11ea_a5c7_1b83fafe0255row27_col1\" class=\"data row27 col1\" >None</td>\n",
       "            </tr>\n",
       "            <tr>\n",
       "                        <th id=\"T_15c5e762_9c25_11ea_a5c7_1b83fafe0255level0_row28\" class=\"row_heading level0 row28\" >28</th>\n",
       "                        <td id=\"T_15c5e762_9c25_11ea_a5c7_1b83fafe0255row28_col0\" class=\"data row28 col0\" >Remove Multicollinearity </td>\n",
       "                        <td id=\"T_15c5e762_9c25_11ea_a5c7_1b83fafe0255row28_col1\" class=\"data row28 col1\" >False</td>\n",
       "            </tr>\n",
       "            <tr>\n",
       "                        <th id=\"T_15c5e762_9c25_11ea_a5c7_1b83fafe0255level0_row29\" class=\"row_heading level0 row29\" >29</th>\n",
       "                        <td id=\"T_15c5e762_9c25_11ea_a5c7_1b83fafe0255row29_col0\" class=\"data row29 col0\" >Multicollinearity Threshold </td>\n",
       "                        <td id=\"T_15c5e762_9c25_11ea_a5c7_1b83fafe0255row29_col1\" class=\"data row29 col1\" >None</td>\n",
       "            </tr>\n",
       "            <tr>\n",
       "                        <th id=\"T_15c5e762_9c25_11ea_a5c7_1b83fafe0255level0_row30\" class=\"row_heading level0 row30\" >30</th>\n",
       "                        <td id=\"T_15c5e762_9c25_11ea_a5c7_1b83fafe0255row30_col0\" class=\"data row30 col0\" >Clustering </td>\n",
       "                        <td id=\"T_15c5e762_9c25_11ea_a5c7_1b83fafe0255row30_col1\" class=\"data row30 col1\" >False</td>\n",
       "            </tr>\n",
       "            <tr>\n",
       "                        <th id=\"T_15c5e762_9c25_11ea_a5c7_1b83fafe0255level0_row31\" class=\"row_heading level0 row31\" >31</th>\n",
       "                        <td id=\"T_15c5e762_9c25_11ea_a5c7_1b83fafe0255row31_col0\" class=\"data row31 col0\" >Clustering Iteration </td>\n",
       "                        <td id=\"T_15c5e762_9c25_11ea_a5c7_1b83fafe0255row31_col1\" class=\"data row31 col1\" >None</td>\n",
       "            </tr>\n",
       "            <tr>\n",
       "                        <th id=\"T_15c5e762_9c25_11ea_a5c7_1b83fafe0255level0_row32\" class=\"row_heading level0 row32\" >32</th>\n",
       "                        <td id=\"T_15c5e762_9c25_11ea_a5c7_1b83fafe0255row32_col0\" class=\"data row32 col0\" >Polynomial Features </td>\n",
       "                        <td id=\"T_15c5e762_9c25_11ea_a5c7_1b83fafe0255row32_col1\" class=\"data row32 col1\" >False</td>\n",
       "            </tr>\n",
       "            <tr>\n",
       "                        <th id=\"T_15c5e762_9c25_11ea_a5c7_1b83fafe0255level0_row33\" class=\"row_heading level0 row33\" >33</th>\n",
       "                        <td id=\"T_15c5e762_9c25_11ea_a5c7_1b83fafe0255row33_col0\" class=\"data row33 col0\" >Polynomial Degree </td>\n",
       "                        <td id=\"T_15c5e762_9c25_11ea_a5c7_1b83fafe0255row33_col1\" class=\"data row33 col1\" >None</td>\n",
       "            </tr>\n",
       "            <tr>\n",
       "                        <th id=\"T_15c5e762_9c25_11ea_a5c7_1b83fafe0255level0_row34\" class=\"row_heading level0 row34\" >34</th>\n",
       "                        <td id=\"T_15c5e762_9c25_11ea_a5c7_1b83fafe0255row34_col0\" class=\"data row34 col0\" >Trignometry Features </td>\n",
       "                        <td id=\"T_15c5e762_9c25_11ea_a5c7_1b83fafe0255row34_col1\" class=\"data row34 col1\" >False</td>\n",
       "            </tr>\n",
       "            <tr>\n",
       "                        <th id=\"T_15c5e762_9c25_11ea_a5c7_1b83fafe0255level0_row35\" class=\"row_heading level0 row35\" >35</th>\n",
       "                        <td id=\"T_15c5e762_9c25_11ea_a5c7_1b83fafe0255row35_col0\" class=\"data row35 col0\" >Polynomial Threshold </td>\n",
       "                        <td id=\"T_15c5e762_9c25_11ea_a5c7_1b83fafe0255row35_col1\" class=\"data row35 col1\" >None</td>\n",
       "            </tr>\n",
       "            <tr>\n",
       "                        <th id=\"T_15c5e762_9c25_11ea_a5c7_1b83fafe0255level0_row36\" class=\"row_heading level0 row36\" >36</th>\n",
       "                        <td id=\"T_15c5e762_9c25_11ea_a5c7_1b83fafe0255row36_col0\" class=\"data row36 col0\" >Group Features </td>\n",
       "                        <td id=\"T_15c5e762_9c25_11ea_a5c7_1b83fafe0255row36_col1\" class=\"data row36 col1\" >False</td>\n",
       "            </tr>\n",
       "            <tr>\n",
       "                        <th id=\"T_15c5e762_9c25_11ea_a5c7_1b83fafe0255level0_row37\" class=\"row_heading level0 row37\" >37</th>\n",
       "                        <td id=\"T_15c5e762_9c25_11ea_a5c7_1b83fafe0255row37_col0\" class=\"data row37 col0\" >Feature Selection </td>\n",
       "                        <td id=\"T_15c5e762_9c25_11ea_a5c7_1b83fafe0255row37_col1\" class=\"data row37 col1\" >False</td>\n",
       "            </tr>\n",
       "            <tr>\n",
       "                        <th id=\"T_15c5e762_9c25_11ea_a5c7_1b83fafe0255level0_row38\" class=\"row_heading level0 row38\" >38</th>\n",
       "                        <td id=\"T_15c5e762_9c25_11ea_a5c7_1b83fafe0255row38_col0\" class=\"data row38 col0\" >Features Selection Threshold </td>\n",
       "                        <td id=\"T_15c5e762_9c25_11ea_a5c7_1b83fafe0255row38_col1\" class=\"data row38 col1\" >None</td>\n",
       "            </tr>\n",
       "            <tr>\n",
       "                        <th id=\"T_15c5e762_9c25_11ea_a5c7_1b83fafe0255level0_row39\" class=\"row_heading level0 row39\" >39</th>\n",
       "                        <td id=\"T_15c5e762_9c25_11ea_a5c7_1b83fafe0255row39_col0\" class=\"data row39 col0\" >Feature Interaction </td>\n",
       "                        <td id=\"T_15c5e762_9c25_11ea_a5c7_1b83fafe0255row39_col1\" class=\"data row39 col1\" >False</td>\n",
       "            </tr>\n",
       "            <tr>\n",
       "                        <th id=\"T_15c5e762_9c25_11ea_a5c7_1b83fafe0255level0_row40\" class=\"row_heading level0 row40\" >40</th>\n",
       "                        <td id=\"T_15c5e762_9c25_11ea_a5c7_1b83fafe0255row40_col0\" class=\"data row40 col0\" >Feature Ratio </td>\n",
       "                        <td id=\"T_15c5e762_9c25_11ea_a5c7_1b83fafe0255row40_col1\" class=\"data row40 col1\" >False</td>\n",
       "            </tr>\n",
       "            <tr>\n",
       "                        <th id=\"T_15c5e762_9c25_11ea_a5c7_1b83fafe0255level0_row41\" class=\"row_heading level0 row41\" >41</th>\n",
       "                        <td id=\"T_15c5e762_9c25_11ea_a5c7_1b83fafe0255row41_col0\" class=\"data row41 col0\" >Interaction Threshold </td>\n",
       "                        <td id=\"T_15c5e762_9c25_11ea_a5c7_1b83fafe0255row41_col1\" class=\"data row41 col1\" >None</td>\n",
       "            </tr>\n",
       "    </tbody></table>"
      ],
      "text/plain": [
       "<pandas.io.formats.style.Styler at 0x7f8d50dce850>"
      ]
     },
     "metadata": {},
     "output_type": "display_data"
    }
   ],
   "source": [
    "# Производим конфигурирование. \n",
    "# Обучающая выборка - 80%\n",
    "\n",
    "clf_1 = setup(\n",
    "    data = clean_df,\n",
    "    target='churn',\n",
    "    numeric_features=['monthlycharges', 'totalcharges','with_us'],\n",
    "    train_size = 0.8,\n",
    "    \n",
    ")"
   ]
  },
  {
   "cell_type": "code",
   "execution_count": 92,
   "metadata": {
    "scrolled": true
   },
   "outputs": [
    {
     "data": {
      "text/html": [
       "<style  type=\"text/css\" >\n",
       "    #T_825360e6_9c23_11ea_a5c7_1b83fafe0255 th {\n",
       "          text-align: left;\n",
       "    }    #T_825360e6_9c23_11ea_a5c7_1b83fafe0255row0_col0 {\n",
       "            text-align:  left;\n",
       "        }    #T_825360e6_9c23_11ea_a5c7_1b83fafe0255row0_col1 {\n",
       "            background-color:  yellow;\n",
       "            text-align:  left;\n",
       "        }    #T_825360e6_9c23_11ea_a5c7_1b83fafe0255row0_col2 {\n",
       "            background-color:  yellow;\n",
       "            text-align:  left;\n",
       "        }    #T_825360e6_9c23_11ea_a5c7_1b83fafe0255row0_col3 {\n",
       "            : ;\n",
       "            text-align:  left;\n",
       "        }    #T_825360e6_9c23_11ea_a5c7_1b83fafe0255row0_col4 {\n",
       "            background-color:  yellow;\n",
       "            text-align:  left;\n",
       "        }    #T_825360e6_9c23_11ea_a5c7_1b83fafe0255row0_col5 {\n",
       "            background-color:  yellow;\n",
       "            text-align:  left;\n",
       "        }    #T_825360e6_9c23_11ea_a5c7_1b83fafe0255row0_col6 {\n",
       "            background-color:  yellow;\n",
       "            text-align:  left;\n",
       "        }    #T_825360e6_9c23_11ea_a5c7_1b83fafe0255row1_col0 {\n",
       "            text-align:  left;\n",
       "        }    #T_825360e6_9c23_11ea_a5c7_1b83fafe0255row1_col1 {\n",
       "            : ;\n",
       "            text-align:  left;\n",
       "        }    #T_825360e6_9c23_11ea_a5c7_1b83fafe0255row1_col2 {\n",
       "            : ;\n",
       "            text-align:  left;\n",
       "        }    #T_825360e6_9c23_11ea_a5c7_1b83fafe0255row1_col3 {\n",
       "            : ;\n",
       "            text-align:  left;\n",
       "        }    #T_825360e6_9c23_11ea_a5c7_1b83fafe0255row1_col4 {\n",
       "            : ;\n",
       "            text-align:  left;\n",
       "        }    #T_825360e6_9c23_11ea_a5c7_1b83fafe0255row1_col5 {\n",
       "            : ;\n",
       "            text-align:  left;\n",
       "        }    #T_825360e6_9c23_11ea_a5c7_1b83fafe0255row1_col6 {\n",
       "            : ;\n",
       "            text-align:  left;\n",
       "        }    #T_825360e6_9c23_11ea_a5c7_1b83fafe0255row2_col0 {\n",
       "            text-align:  left;\n",
       "        }    #T_825360e6_9c23_11ea_a5c7_1b83fafe0255row2_col1 {\n",
       "            : ;\n",
       "            text-align:  left;\n",
       "        }    #T_825360e6_9c23_11ea_a5c7_1b83fafe0255row2_col2 {\n",
       "            : ;\n",
       "            text-align:  left;\n",
       "        }    #T_825360e6_9c23_11ea_a5c7_1b83fafe0255row2_col3 {\n",
       "            : ;\n",
       "            text-align:  left;\n",
       "        }    #T_825360e6_9c23_11ea_a5c7_1b83fafe0255row2_col4 {\n",
       "            : ;\n",
       "            text-align:  left;\n",
       "        }    #T_825360e6_9c23_11ea_a5c7_1b83fafe0255row2_col5 {\n",
       "            : ;\n",
       "            text-align:  left;\n",
       "        }    #T_825360e6_9c23_11ea_a5c7_1b83fafe0255row2_col6 {\n",
       "            : ;\n",
       "            text-align:  left;\n",
       "        }    #T_825360e6_9c23_11ea_a5c7_1b83fafe0255row3_col0 {\n",
       "            text-align:  left;\n",
       "        }    #T_825360e6_9c23_11ea_a5c7_1b83fafe0255row3_col1 {\n",
       "            : ;\n",
       "            text-align:  left;\n",
       "        }    #T_825360e6_9c23_11ea_a5c7_1b83fafe0255row3_col2 {\n",
       "            : ;\n",
       "            text-align:  left;\n",
       "        }    #T_825360e6_9c23_11ea_a5c7_1b83fafe0255row3_col3 {\n",
       "            : ;\n",
       "            text-align:  left;\n",
       "        }    #T_825360e6_9c23_11ea_a5c7_1b83fafe0255row3_col4 {\n",
       "            : ;\n",
       "            text-align:  left;\n",
       "        }    #T_825360e6_9c23_11ea_a5c7_1b83fafe0255row3_col5 {\n",
       "            : ;\n",
       "            text-align:  left;\n",
       "        }    #T_825360e6_9c23_11ea_a5c7_1b83fafe0255row3_col6 {\n",
       "            : ;\n",
       "            text-align:  left;\n",
       "        }    #T_825360e6_9c23_11ea_a5c7_1b83fafe0255row4_col0 {\n",
       "            text-align:  left;\n",
       "        }    #T_825360e6_9c23_11ea_a5c7_1b83fafe0255row4_col1 {\n",
       "            : ;\n",
       "            text-align:  left;\n",
       "        }    #T_825360e6_9c23_11ea_a5c7_1b83fafe0255row4_col2 {\n",
       "            : ;\n",
       "            text-align:  left;\n",
       "        }    #T_825360e6_9c23_11ea_a5c7_1b83fafe0255row4_col3 {\n",
       "            : ;\n",
       "            text-align:  left;\n",
       "        }    #T_825360e6_9c23_11ea_a5c7_1b83fafe0255row4_col4 {\n",
       "            : ;\n",
       "            text-align:  left;\n",
       "        }    #T_825360e6_9c23_11ea_a5c7_1b83fafe0255row4_col5 {\n",
       "            : ;\n",
       "            text-align:  left;\n",
       "        }    #T_825360e6_9c23_11ea_a5c7_1b83fafe0255row4_col6 {\n",
       "            : ;\n",
       "            text-align:  left;\n",
       "        }    #T_825360e6_9c23_11ea_a5c7_1b83fafe0255row5_col0 {\n",
       "            text-align:  left;\n",
       "        }    #T_825360e6_9c23_11ea_a5c7_1b83fafe0255row5_col1 {\n",
       "            : ;\n",
       "            text-align:  left;\n",
       "        }    #T_825360e6_9c23_11ea_a5c7_1b83fafe0255row5_col2 {\n",
       "            : ;\n",
       "            text-align:  left;\n",
       "        }    #T_825360e6_9c23_11ea_a5c7_1b83fafe0255row5_col3 {\n",
       "            : ;\n",
       "            text-align:  left;\n",
       "        }    #T_825360e6_9c23_11ea_a5c7_1b83fafe0255row5_col4 {\n",
       "            : ;\n",
       "            text-align:  left;\n",
       "        }    #T_825360e6_9c23_11ea_a5c7_1b83fafe0255row5_col5 {\n",
       "            : ;\n",
       "            text-align:  left;\n",
       "        }    #T_825360e6_9c23_11ea_a5c7_1b83fafe0255row5_col6 {\n",
       "            : ;\n",
       "            text-align:  left;\n",
       "        }    #T_825360e6_9c23_11ea_a5c7_1b83fafe0255row6_col0 {\n",
       "            text-align:  left;\n",
       "        }    #T_825360e6_9c23_11ea_a5c7_1b83fafe0255row6_col1 {\n",
       "            : ;\n",
       "            text-align:  left;\n",
       "        }    #T_825360e6_9c23_11ea_a5c7_1b83fafe0255row6_col2 {\n",
       "            : ;\n",
       "            text-align:  left;\n",
       "        }    #T_825360e6_9c23_11ea_a5c7_1b83fafe0255row6_col3 {\n",
       "            background-color:  yellow;\n",
       "            text-align:  left;\n",
       "        }    #T_825360e6_9c23_11ea_a5c7_1b83fafe0255row6_col4 {\n",
       "            : ;\n",
       "            text-align:  left;\n",
       "        }    #T_825360e6_9c23_11ea_a5c7_1b83fafe0255row6_col5 {\n",
       "            : ;\n",
       "            text-align:  left;\n",
       "        }    #T_825360e6_9c23_11ea_a5c7_1b83fafe0255row6_col6 {\n",
       "            : ;\n",
       "            text-align:  left;\n",
       "        }    #T_825360e6_9c23_11ea_a5c7_1b83fafe0255row7_col0 {\n",
       "            text-align:  left;\n",
       "        }    #T_825360e6_9c23_11ea_a5c7_1b83fafe0255row7_col1 {\n",
       "            : ;\n",
       "            text-align:  left;\n",
       "        }    #T_825360e6_9c23_11ea_a5c7_1b83fafe0255row7_col2 {\n",
       "            : ;\n",
       "            text-align:  left;\n",
       "        }    #T_825360e6_9c23_11ea_a5c7_1b83fafe0255row7_col3 {\n",
       "            : ;\n",
       "            text-align:  left;\n",
       "        }    #T_825360e6_9c23_11ea_a5c7_1b83fafe0255row7_col4 {\n",
       "            : ;\n",
       "            text-align:  left;\n",
       "        }    #T_825360e6_9c23_11ea_a5c7_1b83fafe0255row7_col5 {\n",
       "            : ;\n",
       "            text-align:  left;\n",
       "        }    #T_825360e6_9c23_11ea_a5c7_1b83fafe0255row7_col6 {\n",
       "            : ;\n",
       "            text-align:  left;\n",
       "        }    #T_825360e6_9c23_11ea_a5c7_1b83fafe0255row8_col0 {\n",
       "            text-align:  left;\n",
       "        }    #T_825360e6_9c23_11ea_a5c7_1b83fafe0255row8_col1 {\n",
       "            : ;\n",
       "            text-align:  left;\n",
       "        }    #T_825360e6_9c23_11ea_a5c7_1b83fafe0255row8_col2 {\n",
       "            : ;\n",
       "            text-align:  left;\n",
       "        }    #T_825360e6_9c23_11ea_a5c7_1b83fafe0255row8_col3 {\n",
       "            : ;\n",
       "            text-align:  left;\n",
       "        }    #T_825360e6_9c23_11ea_a5c7_1b83fafe0255row8_col4 {\n",
       "            : ;\n",
       "            text-align:  left;\n",
       "        }    #T_825360e6_9c23_11ea_a5c7_1b83fafe0255row8_col5 {\n",
       "            : ;\n",
       "            text-align:  left;\n",
       "        }    #T_825360e6_9c23_11ea_a5c7_1b83fafe0255row8_col6 {\n",
       "            : ;\n",
       "            text-align:  left;\n",
       "        }    #T_825360e6_9c23_11ea_a5c7_1b83fafe0255row9_col0 {\n",
       "            text-align:  left;\n",
       "        }    #T_825360e6_9c23_11ea_a5c7_1b83fafe0255row9_col1 {\n",
       "            : ;\n",
       "            text-align:  left;\n",
       "        }    #T_825360e6_9c23_11ea_a5c7_1b83fafe0255row9_col2 {\n",
       "            : ;\n",
       "            text-align:  left;\n",
       "        }    #T_825360e6_9c23_11ea_a5c7_1b83fafe0255row9_col3 {\n",
       "            : ;\n",
       "            text-align:  left;\n",
       "        }    #T_825360e6_9c23_11ea_a5c7_1b83fafe0255row9_col4 {\n",
       "            : ;\n",
       "            text-align:  left;\n",
       "        }    #T_825360e6_9c23_11ea_a5c7_1b83fafe0255row9_col5 {\n",
       "            : ;\n",
       "            text-align:  left;\n",
       "        }    #T_825360e6_9c23_11ea_a5c7_1b83fafe0255row9_col6 {\n",
       "            : ;\n",
       "            text-align:  left;\n",
       "        }    #T_825360e6_9c23_11ea_a5c7_1b83fafe0255row10_col0 {\n",
       "            text-align:  left;\n",
       "        }    #T_825360e6_9c23_11ea_a5c7_1b83fafe0255row10_col1 {\n",
       "            : ;\n",
       "            text-align:  left;\n",
       "        }    #T_825360e6_9c23_11ea_a5c7_1b83fafe0255row10_col2 {\n",
       "            : ;\n",
       "            text-align:  left;\n",
       "        }    #T_825360e6_9c23_11ea_a5c7_1b83fafe0255row10_col3 {\n",
       "            : ;\n",
       "            text-align:  left;\n",
       "        }    #T_825360e6_9c23_11ea_a5c7_1b83fafe0255row10_col4 {\n",
       "            : ;\n",
       "            text-align:  left;\n",
       "        }    #T_825360e6_9c23_11ea_a5c7_1b83fafe0255row10_col5 {\n",
       "            : ;\n",
       "            text-align:  left;\n",
       "        }    #T_825360e6_9c23_11ea_a5c7_1b83fafe0255row10_col6 {\n",
       "            : ;\n",
       "            text-align:  left;\n",
       "        }    #T_825360e6_9c23_11ea_a5c7_1b83fafe0255row11_col0 {\n",
       "            text-align:  left;\n",
       "        }    #T_825360e6_9c23_11ea_a5c7_1b83fafe0255row11_col1 {\n",
       "            : ;\n",
       "            text-align:  left;\n",
       "        }    #T_825360e6_9c23_11ea_a5c7_1b83fafe0255row11_col2 {\n",
       "            : ;\n",
       "            text-align:  left;\n",
       "        }    #T_825360e6_9c23_11ea_a5c7_1b83fafe0255row11_col3 {\n",
       "            : ;\n",
       "            text-align:  left;\n",
       "        }    #T_825360e6_9c23_11ea_a5c7_1b83fafe0255row11_col4 {\n",
       "            : ;\n",
       "            text-align:  left;\n",
       "        }    #T_825360e6_9c23_11ea_a5c7_1b83fafe0255row11_col5 {\n",
       "            : ;\n",
       "            text-align:  left;\n",
       "        }    #T_825360e6_9c23_11ea_a5c7_1b83fafe0255row11_col6 {\n",
       "            : ;\n",
       "            text-align:  left;\n",
       "        }    #T_825360e6_9c23_11ea_a5c7_1b83fafe0255row12_col0 {\n",
       "            text-align:  left;\n",
       "        }    #T_825360e6_9c23_11ea_a5c7_1b83fafe0255row12_col1 {\n",
       "            : ;\n",
       "            text-align:  left;\n",
       "        }    #T_825360e6_9c23_11ea_a5c7_1b83fafe0255row12_col2 {\n",
       "            : ;\n",
       "            text-align:  left;\n",
       "        }    #T_825360e6_9c23_11ea_a5c7_1b83fafe0255row12_col3 {\n",
       "            : ;\n",
       "            text-align:  left;\n",
       "        }    #T_825360e6_9c23_11ea_a5c7_1b83fafe0255row12_col4 {\n",
       "            : ;\n",
       "            text-align:  left;\n",
       "        }    #T_825360e6_9c23_11ea_a5c7_1b83fafe0255row12_col5 {\n",
       "            : ;\n",
       "            text-align:  left;\n",
       "        }    #T_825360e6_9c23_11ea_a5c7_1b83fafe0255row12_col6 {\n",
       "            : ;\n",
       "            text-align:  left;\n",
       "        }    #T_825360e6_9c23_11ea_a5c7_1b83fafe0255row13_col0 {\n",
       "            text-align:  left;\n",
       "        }    #T_825360e6_9c23_11ea_a5c7_1b83fafe0255row13_col1 {\n",
       "            : ;\n",
       "            text-align:  left;\n",
       "        }    #T_825360e6_9c23_11ea_a5c7_1b83fafe0255row13_col2 {\n",
       "            : ;\n",
       "            text-align:  left;\n",
       "        }    #T_825360e6_9c23_11ea_a5c7_1b83fafe0255row13_col3 {\n",
       "            : ;\n",
       "            text-align:  left;\n",
       "        }    #T_825360e6_9c23_11ea_a5c7_1b83fafe0255row13_col4 {\n",
       "            : ;\n",
       "            text-align:  left;\n",
       "        }    #T_825360e6_9c23_11ea_a5c7_1b83fafe0255row13_col5 {\n",
       "            : ;\n",
       "            text-align:  left;\n",
       "        }    #T_825360e6_9c23_11ea_a5c7_1b83fafe0255row13_col6 {\n",
       "            : ;\n",
       "            text-align:  left;\n",
       "        }    #T_825360e6_9c23_11ea_a5c7_1b83fafe0255row14_col0 {\n",
       "            text-align:  left;\n",
       "        }    #T_825360e6_9c23_11ea_a5c7_1b83fafe0255row14_col1 {\n",
       "            : ;\n",
       "            text-align:  left;\n",
       "        }    #T_825360e6_9c23_11ea_a5c7_1b83fafe0255row14_col2 {\n",
       "            : ;\n",
       "            text-align:  left;\n",
       "        }    #T_825360e6_9c23_11ea_a5c7_1b83fafe0255row14_col3 {\n",
       "            : ;\n",
       "            text-align:  left;\n",
       "        }    #T_825360e6_9c23_11ea_a5c7_1b83fafe0255row14_col4 {\n",
       "            : ;\n",
       "            text-align:  left;\n",
       "        }    #T_825360e6_9c23_11ea_a5c7_1b83fafe0255row14_col5 {\n",
       "            : ;\n",
       "            text-align:  left;\n",
       "        }    #T_825360e6_9c23_11ea_a5c7_1b83fafe0255row14_col6 {\n",
       "            : ;\n",
       "            text-align:  left;\n",
       "        }</style><table id=\"T_825360e6_9c23_11ea_a5c7_1b83fafe0255\" ><thead>    <tr>        <th class=\"blank level0\" ></th>        <th class=\"col_heading level0 col0\" >Model</th>        <th class=\"col_heading level0 col1\" >Accuracy</th>        <th class=\"col_heading level0 col2\" >AUC</th>        <th class=\"col_heading level0 col3\" >Recall</th>        <th class=\"col_heading level0 col4\" >Prec.</th>        <th class=\"col_heading level0 col5\" >F1</th>        <th class=\"col_heading level0 col6\" >Kappa</th>    </tr></thead><tbody>\n",
       "                <tr>\n",
       "                        <th id=\"T_825360e6_9c23_11ea_a5c7_1b83fafe0255level0_row0\" class=\"row_heading level0 row0\" >0</th>\n",
       "                        <td id=\"T_825360e6_9c23_11ea_a5c7_1b83fafe0255row0_col0\" class=\"data row0 col0\" >CatBoost Classifier</td>\n",
       "                        <td id=\"T_825360e6_9c23_11ea_a5c7_1b83fafe0255row0_col1\" class=\"data row0 col1\" >0.864700</td>\n",
       "                        <td id=\"T_825360e6_9c23_11ea_a5c7_1b83fafe0255row0_col2\" class=\"data row0 col2\" >0.908800</td>\n",
       "                        <td id=\"T_825360e6_9c23_11ea_a5c7_1b83fafe0255row0_col3\" class=\"data row0 col3\" >0.630300</td>\n",
       "                        <td id=\"T_825360e6_9c23_11ea_a5c7_1b83fafe0255row0_col4\" class=\"data row0 col4\" >0.818900</td>\n",
       "                        <td id=\"T_825360e6_9c23_11ea_a5c7_1b83fafe0255row0_col5\" class=\"data row0 col5\" >0.712000</td>\n",
       "                        <td id=\"T_825360e6_9c23_11ea_a5c7_1b83fafe0255row0_col6\" class=\"data row0 col6\" >0.625500</td>\n",
       "            </tr>\n",
       "            <tr>\n",
       "                        <th id=\"T_825360e6_9c23_11ea_a5c7_1b83fafe0255level0_row1\" class=\"row_heading level0 row1\" >1</th>\n",
       "                        <td id=\"T_825360e6_9c23_11ea_a5c7_1b83fafe0255row1_col0\" class=\"data row1 col0\" >Light Gradient Boosting Machine</td>\n",
       "                        <td id=\"T_825360e6_9c23_11ea_a5c7_1b83fafe0255row1_col1\" class=\"data row1 col1\" >0.848700</td>\n",
       "                        <td id=\"T_825360e6_9c23_11ea_a5c7_1b83fafe0255row1_col2\" class=\"data row1 col2\" >0.894000</td>\n",
       "                        <td id=\"T_825360e6_9c23_11ea_a5c7_1b83fafe0255row1_col3\" class=\"data row1 col3\" >0.612200</td>\n",
       "                        <td id=\"T_825360e6_9c23_11ea_a5c7_1b83fafe0255row1_col4\" class=\"data row1 col4\" >0.772700</td>\n",
       "                        <td id=\"T_825360e6_9c23_11ea_a5c7_1b83fafe0255row1_col5\" class=\"data row1 col5\" >0.682200</td>\n",
       "                        <td id=\"T_825360e6_9c23_11ea_a5c7_1b83fafe0255row1_col6\" class=\"data row1 col6\" >0.584700</td>\n",
       "            </tr>\n",
       "            <tr>\n",
       "                        <th id=\"T_825360e6_9c23_11ea_a5c7_1b83fafe0255level0_row2\" class=\"row_heading level0 row2\" >2</th>\n",
       "                        <td id=\"T_825360e6_9c23_11ea_a5c7_1b83fafe0255row2_col0\" class=\"data row2 col0\" >Gradient Boosting Classifier</td>\n",
       "                        <td id=\"T_825360e6_9c23_11ea_a5c7_1b83fafe0255row2_col1\" class=\"data row2 col1\" >0.843000</td>\n",
       "                        <td id=\"T_825360e6_9c23_11ea_a5c7_1b83fafe0255row2_col2\" class=\"data row2 col2\" >0.888900</td>\n",
       "                        <td id=\"T_825360e6_9c23_11ea_a5c7_1b83fafe0255row2_col3\" class=\"data row2 col3\" >0.580700</td>\n",
       "                        <td id=\"T_825360e6_9c23_11ea_a5c7_1b83fafe0255row2_col4\" class=\"data row2 col4\" >0.773800</td>\n",
       "                        <td id=\"T_825360e6_9c23_11ea_a5c7_1b83fafe0255row2_col5\" class=\"data row2 col5\" >0.662500</td>\n",
       "                        <td id=\"T_825360e6_9c23_11ea_a5c7_1b83fafe0255row2_col6\" class=\"data row2 col6\" >0.563000</td>\n",
       "            </tr>\n",
       "            <tr>\n",
       "                        <th id=\"T_825360e6_9c23_11ea_a5c7_1b83fafe0255level0_row3\" class=\"row_heading level0 row3\" >3</th>\n",
       "                        <td id=\"T_825360e6_9c23_11ea_a5c7_1b83fafe0255row3_col0\" class=\"data row3 col0\" >Extreme Gradient Boosting</td>\n",
       "                        <td id=\"T_825360e6_9c23_11ea_a5c7_1b83fafe0255row3_col1\" class=\"data row3 col1\" >0.831600</td>\n",
       "                        <td id=\"T_825360e6_9c23_11ea_a5c7_1b83fafe0255row3_col2\" class=\"data row3 col2\" >0.878000</td>\n",
       "                        <td id=\"T_825360e6_9c23_11ea_a5c7_1b83fafe0255row3_col3\" class=\"data row3 col3\" >0.547200</td>\n",
       "                        <td id=\"T_825360e6_9c23_11ea_a5c7_1b83fafe0255row3_col4\" class=\"data row3 col4\" >0.754100</td>\n",
       "                        <td id=\"T_825360e6_9c23_11ea_a5c7_1b83fafe0255row3_col5\" class=\"data row3 col5\" >0.633100</td>\n",
       "                        <td id=\"T_825360e6_9c23_11ea_a5c7_1b83fafe0255row3_col6\" class=\"data row3 col6\" >0.527500</td>\n",
       "            </tr>\n",
       "            <tr>\n",
       "                        <th id=\"T_825360e6_9c23_11ea_a5c7_1b83fafe0255level0_row4\" class=\"row_heading level0 row4\" >4</th>\n",
       "                        <td id=\"T_825360e6_9c23_11ea_a5c7_1b83fafe0255row4_col0\" class=\"data row4 col0\" >Ada Boost Classifier</td>\n",
       "                        <td id=\"T_825360e6_9c23_11ea_a5c7_1b83fafe0255row4_col1\" class=\"data row4 col1\" >0.827000</td>\n",
       "                        <td id=\"T_825360e6_9c23_11ea_a5c7_1b83fafe0255row4_col2\" class=\"data row4 col2\" >0.866700</td>\n",
       "                        <td id=\"T_825360e6_9c23_11ea_a5c7_1b83fafe0255row4_col3\" class=\"data row4 col3\" >0.562000</td>\n",
       "                        <td id=\"T_825360e6_9c23_11ea_a5c7_1b83fafe0255row4_col4\" class=\"data row4 col4\" >0.726700</td>\n",
       "                        <td id=\"T_825360e6_9c23_11ea_a5c7_1b83fafe0255row4_col5\" class=\"data row4 col5\" >0.632800</td>\n",
       "                        <td id=\"T_825360e6_9c23_11ea_a5c7_1b83fafe0255row4_col6\" class=\"data row4 col6\" >0.522200</td>\n",
       "            </tr>\n",
       "            <tr>\n",
       "                        <th id=\"T_825360e6_9c23_11ea_a5c7_1b83fafe0255level0_row5\" class=\"row_heading level0 row5\" >5</th>\n",
       "                        <td id=\"T_825360e6_9c23_11ea_a5c7_1b83fafe0255row5_col0\" class=\"data row5 col0\" >Logistic Regression</td>\n",
       "                        <td id=\"T_825360e6_9c23_11ea_a5c7_1b83fafe0255row5_col1\" class=\"data row5 col1\" >0.804400</td>\n",
       "                        <td id=\"T_825360e6_9c23_11ea_a5c7_1b83fafe0255row5_col2\" class=\"data row5 col2\" >0.841100</td>\n",
       "                        <td id=\"T_825360e6_9c23_11ea_a5c7_1b83fafe0255row5_col3\" class=\"data row5 col3\" >0.551200</td>\n",
       "                        <td id=\"T_825360e6_9c23_11ea_a5c7_1b83fafe0255row5_col4\" class=\"data row5 col4\" >0.657100</td>\n",
       "                        <td id=\"T_825360e6_9c23_11ea_a5c7_1b83fafe0255row5_col5\" class=\"data row5 col5\" >0.599000</td>\n",
       "                        <td id=\"T_825360e6_9c23_11ea_a5c7_1b83fafe0255row5_col6\" class=\"data row5 col6\" >0.471100</td>\n",
       "            </tr>\n",
       "            <tr>\n",
       "                        <th id=\"T_825360e6_9c23_11ea_a5c7_1b83fafe0255level0_row6\" class=\"row_heading level0 row6\" >6</th>\n",
       "                        <td id=\"T_825360e6_9c23_11ea_a5c7_1b83fafe0255row6_col0\" class=\"data row6 col0\" >Quadratic Discriminant Analysis</td>\n",
       "                        <td id=\"T_825360e6_9c23_11ea_a5c7_1b83fafe0255row6_col1\" class=\"data row6 col1\" >0.733600</td>\n",
       "                        <td id=\"T_825360e6_9c23_11ea_a5c7_1b83fafe0255row6_col2\" class=\"data row6 col2\" >0.838600</td>\n",
       "                        <td id=\"T_825360e6_9c23_11ea_a5c7_1b83fafe0255row6_col3\" class=\"data row6 col3\" >0.814400</td>\n",
       "                        <td id=\"T_825360e6_9c23_11ea_a5c7_1b83fafe0255row6_col4\" class=\"data row6 col4\" >0.499600</td>\n",
       "                        <td id=\"T_825360e6_9c23_11ea_a5c7_1b83fafe0255row6_col5\" class=\"data row6 col5\" >0.619000</td>\n",
       "                        <td id=\"T_825360e6_9c23_11ea_a5c7_1b83fafe0255row6_col6\" class=\"data row6 col6\" >0.432000</td>\n",
       "            </tr>\n",
       "            <tr>\n",
       "                        <th id=\"T_825360e6_9c23_11ea_a5c7_1b83fafe0255level0_row7\" class=\"row_heading level0 row7\" >7</th>\n",
       "                        <td id=\"T_825360e6_9c23_11ea_a5c7_1b83fafe0255row7_col0\" class=\"data row7 col0\" >Linear Discriminant Analysis</td>\n",
       "                        <td id=\"T_825360e6_9c23_11ea_a5c7_1b83fafe0255row7_col1\" class=\"data row7 col1\" >0.799600</td>\n",
       "                        <td id=\"T_825360e6_9c23_11ea_a5c7_1b83fafe0255row7_col2\" class=\"data row7 col2\" >0.837900</td>\n",
       "                        <td id=\"T_825360e6_9c23_11ea_a5c7_1b83fafe0255row7_col3\" class=\"data row7 col3\" >0.563300</td>\n",
       "                        <td id=\"T_825360e6_9c23_11ea_a5c7_1b83fafe0255row7_col4\" class=\"data row7 col4\" >0.640400</td>\n",
       "                        <td id=\"T_825360e6_9c23_11ea_a5c7_1b83fafe0255row7_col5\" class=\"data row7 col5\" >0.598500</td>\n",
       "                        <td id=\"T_825360e6_9c23_11ea_a5c7_1b83fafe0255row7_col6\" class=\"data row7 col6\" >0.465800</td>\n",
       "            </tr>\n",
       "            <tr>\n",
       "                        <th id=\"T_825360e6_9c23_11ea_a5c7_1b83fafe0255level0_row8\" class=\"row_heading level0 row8\" >8</th>\n",
       "                        <td id=\"T_825360e6_9c23_11ea_a5c7_1b83fafe0255row8_col0\" class=\"data row8 col0\" >Naive Bayes</td>\n",
       "                        <td id=\"T_825360e6_9c23_11ea_a5c7_1b83fafe0255row8_col1\" class=\"data row8 col1\" >0.740200</td>\n",
       "                        <td id=\"T_825360e6_9c23_11ea_a5c7_1b83fafe0255row8_col2\" class=\"data row8 col2\" >0.831800</td>\n",
       "                        <td id=\"T_825360e6_9c23_11ea_a5c7_1b83fafe0255row8_col3\" class=\"data row8 col3\" >0.795700</td>\n",
       "                        <td id=\"T_825360e6_9c23_11ea_a5c7_1b83fafe0255row8_col4\" class=\"data row8 col4\" >0.507900</td>\n",
       "                        <td id=\"T_825360e6_9c23_11ea_a5c7_1b83fafe0255row8_col5\" class=\"data row8 col5\" >0.619600</td>\n",
       "                        <td id=\"T_825360e6_9c23_11ea_a5c7_1b83fafe0255row8_col6\" class=\"data row8 col6\" >0.437000</td>\n",
       "            </tr>\n",
       "            <tr>\n",
       "                        <th id=\"T_825360e6_9c23_11ea_a5c7_1b83fafe0255level0_row9\" class=\"row_heading level0 row9\" >9</th>\n",
       "                        <td id=\"T_825360e6_9c23_11ea_a5c7_1b83fafe0255row9_col0\" class=\"data row9 col0\" >Extra Trees Classifier</td>\n",
       "                        <td id=\"T_825360e6_9c23_11ea_a5c7_1b83fafe0255row9_col1\" class=\"data row9 col1\" >0.783100</td>\n",
       "                        <td id=\"T_825360e6_9c23_11ea_a5c7_1b83fafe0255row9_col2\" class=\"data row9 col2\" >0.806700</td>\n",
       "                        <td id=\"T_825360e6_9c23_11ea_a5c7_1b83fafe0255row9_col3\" class=\"data row9 col3\" >0.508400</td>\n",
       "                        <td id=\"T_825360e6_9c23_11ea_a5c7_1b83fafe0255row9_col4\" class=\"data row9 col4\" >0.609300</td>\n",
       "                        <td id=\"T_825360e6_9c23_11ea_a5c7_1b83fafe0255row9_col5\" class=\"data row9 col5\" >0.553400</td>\n",
       "                        <td id=\"T_825360e6_9c23_11ea_a5c7_1b83fafe0255row9_col6\" class=\"data row9 col6\" >0.412000</td>\n",
       "            </tr>\n",
       "            <tr>\n",
       "                        <th id=\"T_825360e6_9c23_11ea_a5c7_1b83fafe0255level0_row10\" class=\"row_heading level0 row10\" >10</th>\n",
       "                        <td id=\"T_825360e6_9c23_11ea_a5c7_1b83fafe0255row10_col0\" class=\"data row10 col0\" >Random Forest Classifier</td>\n",
       "                        <td id=\"T_825360e6_9c23_11ea_a5c7_1b83fafe0255row10_col1\" class=\"data row10 col1\" >0.794800</td>\n",
       "                        <td id=\"T_825360e6_9c23_11ea_a5c7_1b83fafe0255row10_col2\" class=\"data row10 col2\" >0.805700</td>\n",
       "                        <td id=\"T_825360e6_9c23_11ea_a5c7_1b83fafe0255row10_col3\" class=\"data row10 col3\" >0.482900</td>\n",
       "                        <td id=\"T_825360e6_9c23_11ea_a5c7_1b83fafe0255row10_col4\" class=\"data row10 col4\" >0.656200</td>\n",
       "                        <td id=\"T_825360e6_9c23_11ea_a5c7_1b83fafe0255row10_col5\" class=\"data row10 col5\" >0.555200</td>\n",
       "                        <td id=\"T_825360e6_9c23_11ea_a5c7_1b83fafe0255row10_col6\" class=\"data row10 col6\" >0.425900</td>\n",
       "            </tr>\n",
       "            <tr>\n",
       "                        <th id=\"T_825360e6_9c23_11ea_a5c7_1b83fafe0255level0_row11\" class=\"row_heading level0 row11\" >11</th>\n",
       "                        <td id=\"T_825360e6_9c23_11ea_a5c7_1b83fafe0255row11_col0\" class=\"data row11 col0\" >K Neighbors Classifier</td>\n",
       "                        <td id=\"T_825360e6_9c23_11ea_a5c7_1b83fafe0255row11_col1\" class=\"data row11 col1\" >0.772900</td>\n",
       "                        <td id=\"T_825360e6_9c23_11ea_a5c7_1b83fafe0255row11_col2\" class=\"data row11 col2\" >0.759100</td>\n",
       "                        <td id=\"T_825360e6_9c23_11ea_a5c7_1b83fafe0255row11_col3\" class=\"data row11 col3\" >0.471500</td>\n",
       "                        <td id=\"T_825360e6_9c23_11ea_a5c7_1b83fafe0255row11_col4\" class=\"data row11 col4\" >0.592800</td>\n",
       "                        <td id=\"T_825360e6_9c23_11ea_a5c7_1b83fafe0255row11_col5\" class=\"data row11 col5\" >0.523800</td>\n",
       "                        <td id=\"T_825360e6_9c23_11ea_a5c7_1b83fafe0255row11_col6\" class=\"data row11 col6\" >0.377600</td>\n",
       "            </tr>\n",
       "            <tr>\n",
       "                        <th id=\"T_825360e6_9c23_11ea_a5c7_1b83fafe0255level0_row12\" class=\"row_heading level0 row12\" >12</th>\n",
       "                        <td id=\"T_825360e6_9c23_11ea_a5c7_1b83fafe0255row12_col0\" class=\"data row12 col0\" >Decision Tree Classifier</td>\n",
       "                        <td id=\"T_825360e6_9c23_11ea_a5c7_1b83fafe0255row12_col1\" class=\"data row12 col1\" >0.768500</td>\n",
       "                        <td id=\"T_825360e6_9c23_11ea_a5c7_1b83fafe0255row12_col2\" class=\"data row12 col2\" >0.705400</td>\n",
       "                        <td id=\"T_825360e6_9c23_11ea_a5c7_1b83fafe0255row12_col3\" class=\"data row12 col3\" >0.570000</td>\n",
       "                        <td id=\"T_825360e6_9c23_11ea_a5c7_1b83fafe0255row12_col4\" class=\"data row12 col4\" >0.563300</td>\n",
       "                        <td id=\"T_825360e6_9c23_11ea_a5c7_1b83fafe0255row12_col5\" class=\"data row12 col5\" >0.565900</td>\n",
       "                        <td id=\"T_825360e6_9c23_11ea_a5c7_1b83fafe0255row12_col6\" class=\"data row12 col6\" >0.408200</td>\n",
       "            </tr>\n",
       "            <tr>\n",
       "                        <th id=\"T_825360e6_9c23_11ea_a5c7_1b83fafe0255level0_row13\" class=\"row_heading level0 row13\" >13</th>\n",
       "                        <td id=\"T_825360e6_9c23_11ea_a5c7_1b83fafe0255row13_col0\" class=\"data row13 col0\" >SVM - Linear Kernel</td>\n",
       "                        <td id=\"T_825360e6_9c23_11ea_a5c7_1b83fafe0255row13_col1\" class=\"data row13 col1\" >0.721100</td>\n",
       "                        <td id=\"T_825360e6_9c23_11ea_a5c7_1b83fafe0255row13_col2\" class=\"data row13 col2\" >0.000000</td>\n",
       "                        <td id=\"T_825360e6_9c23_11ea_a5c7_1b83fafe0255row13_col3\" class=\"data row13 col3\" >0.439800</td>\n",
       "                        <td id=\"T_825360e6_9c23_11ea_a5c7_1b83fafe0255row13_col4\" class=\"data row13 col4\" >0.591700</td>\n",
       "                        <td id=\"T_825360e6_9c23_11ea_a5c7_1b83fafe0255row13_col5\" class=\"data row13 col5\" >0.452000</td>\n",
       "                        <td id=\"T_825360e6_9c23_11ea_a5c7_1b83fafe0255row13_col6\" class=\"data row13 col6\" >0.293500</td>\n",
       "            </tr>\n",
       "            <tr>\n",
       "                        <th id=\"T_825360e6_9c23_11ea_a5c7_1b83fafe0255level0_row14\" class=\"row_heading level0 row14\" >14</th>\n",
       "                        <td id=\"T_825360e6_9c23_11ea_a5c7_1b83fafe0255row14_col0\" class=\"data row14 col0\" >Ridge Classifier</td>\n",
       "                        <td id=\"T_825360e6_9c23_11ea_a5c7_1b83fafe0255row14_col1\" class=\"data row14 col1\" >0.802100</td>\n",
       "                        <td id=\"T_825360e6_9c23_11ea_a5c7_1b83fafe0255row14_col2\" class=\"data row14 col2\" >0.000000</td>\n",
       "                        <td id=\"T_825360e6_9c23_11ea_a5c7_1b83fafe0255row14_col3\" class=\"data row14 col3\" >0.527100</td>\n",
       "                        <td id=\"T_825360e6_9c23_11ea_a5c7_1b83fafe0255row14_col4\" class=\"data row14 col4\" >0.660700</td>\n",
       "                        <td id=\"T_825360e6_9c23_11ea_a5c7_1b83fafe0255row14_col5\" class=\"data row14 col5\" >0.585600</td>\n",
       "                        <td id=\"T_825360e6_9c23_11ea_a5c7_1b83fafe0255row14_col6\" class=\"data row14 col6\" >0.457900</td>\n",
       "            </tr>\n",
       "    </tbody></table>"
      ],
      "text/plain": [
       "<pandas.io.formats.style.Styler at 0x7f8d5091d7d0>"
      ]
     },
     "execution_count": 92,
     "metadata": {},
     "output_type": "execute_result"
    }
   ],
   "source": [
    "# Производим сравнение моделей. Сортировку будем производить по целевой метрике - AUC\n",
    "\n",
    "compare_models(sort = 'AUC')"
   ]
  },
  {
   "cell_type": "markdown",
   "metadata": {},
   "source": [
    "Лучшие показатели у бустинговых алгоритмов - LightGBM, GBC (sklearn), XGBoost. Для дальнейшей работы используем LightGBM. "
   ]
  },
  {
   "cell_type": "code",
   "execution_count": 152,
   "metadata": {
    "scrolled": false
   },
   "outputs": [
    {
     "data": {
      "text/html": [
       "<div>\n",
       "<style scoped>\n",
       "    .dataframe tbody tr th:only-of-type {\n",
       "        vertical-align: middle;\n",
       "    }\n",
       "\n",
       "    .dataframe tbody tr th {\n",
       "        vertical-align: top;\n",
       "    }\n",
       "\n",
       "    .dataframe thead th {\n",
       "        text-align: right;\n",
       "    }\n",
       "</style>\n",
       "<table border=\"1\" class=\"dataframe\">\n",
       "  <thead>\n",
       "    <tr style=\"text-align: right;\">\n",
       "      <th></th>\n",
       "      <th>Accuracy</th>\n",
       "      <th>AUC</th>\n",
       "      <th>Recall</th>\n",
       "      <th>Prec.</th>\n",
       "      <th>F1</th>\n",
       "      <th>Kappa</th>\n",
       "    </tr>\n",
       "  </thead>\n",
       "  <tbody>\n",
       "    <tr>\n",
       "      <th>0</th>\n",
       "      <td>0.8483</td>\n",
       "      <td>0.9003</td>\n",
       "      <td>0.6056</td>\n",
       "      <td>0.7725</td>\n",
       "      <td>0.6789</td>\n",
       "      <td>0.5815</td>\n",
       "    </tr>\n",
       "    <tr>\n",
       "      <th>1</th>\n",
       "      <td>0.8420</td>\n",
       "      <td>0.8872</td>\n",
       "      <td>0.5981</td>\n",
       "      <td>0.7574</td>\n",
       "      <td>0.6684</td>\n",
       "      <td>0.5666</td>\n",
       "    </tr>\n",
       "    <tr>\n",
       "      <th>2</th>\n",
       "      <td>0.8396</td>\n",
       "      <td>0.8902</td>\n",
       "      <td>0.6028</td>\n",
       "      <td>0.7457</td>\n",
       "      <td>0.6667</td>\n",
       "      <td>0.5626</td>\n",
       "    </tr>\n",
       "    <tr>\n",
       "      <th>3</th>\n",
       "      <td>0.8294</td>\n",
       "      <td>0.9044</td>\n",
       "      <td>0.5728</td>\n",
       "      <td>0.7262</td>\n",
       "      <td>0.6404</td>\n",
       "      <td>0.5306</td>\n",
       "    </tr>\n",
       "    <tr>\n",
       "      <th>4</th>\n",
       "      <td>0.8344</td>\n",
       "      <td>0.8751</td>\n",
       "      <td>0.6009</td>\n",
       "      <td>0.7273</td>\n",
       "      <td>0.6581</td>\n",
       "      <td>0.5501</td>\n",
       "    </tr>\n",
       "    <tr>\n",
       "      <th>5</th>\n",
       "      <td>0.8468</td>\n",
       "      <td>0.8862</td>\n",
       "      <td>0.6150</td>\n",
       "      <td>0.7616</td>\n",
       "      <td>0.6805</td>\n",
       "      <td>0.5813</td>\n",
       "    </tr>\n",
       "    <tr>\n",
       "      <th>6</th>\n",
       "      <td>0.8481</td>\n",
       "      <td>0.8987</td>\n",
       "      <td>0.6150</td>\n",
       "      <td>0.7661</td>\n",
       "      <td>0.6823</td>\n",
       "      <td>0.5840</td>\n",
       "    </tr>\n",
       "    <tr>\n",
       "      <th>Mean</th>\n",
       "      <td>0.8412</td>\n",
       "      <td>0.8917</td>\n",
       "      <td>0.6015</td>\n",
       "      <td>0.7510</td>\n",
       "      <td>0.6679</td>\n",
       "      <td>0.5652</td>\n",
       "    </tr>\n",
       "    <tr>\n",
       "      <th>SD</th>\n",
       "      <td>0.0067</td>\n",
       "      <td>0.0093</td>\n",
       "      <td>0.0132</td>\n",
       "      <td>0.0171</td>\n",
       "      <td>0.0138</td>\n",
       "      <td>0.0182</td>\n",
       "    </tr>\n",
       "  </tbody>\n",
       "</table>\n",
       "</div>"
      ],
      "text/plain": [
       "      Accuracy     AUC  Recall   Prec.      F1   Kappa\n",
       "0       0.8483  0.9003  0.6056  0.7725  0.6789  0.5815\n",
       "1       0.8420  0.8872  0.5981  0.7574  0.6684  0.5666\n",
       "2       0.8396  0.8902  0.6028  0.7457  0.6667  0.5626\n",
       "3       0.8294  0.9044  0.5728  0.7262  0.6404  0.5306\n",
       "4       0.8344  0.8751  0.6009  0.7273  0.6581  0.5501\n",
       "5       0.8468  0.8862  0.6150  0.7616  0.6805  0.5813\n",
       "6       0.8481  0.8987  0.6150  0.7661  0.6823  0.5840\n",
       "Mean    0.8412  0.8917  0.6015  0.7510  0.6679  0.5652\n",
       "SD      0.0067  0.0093  0.0132  0.0171  0.0138  0.0182"
      ]
     },
     "metadata": {},
     "output_type": "display_data"
    }
   ],
   "source": [
    "lightgbm = create_model('lightgbm', fold = 7)"
   ]
  },
  {
   "cell_type": "code",
   "execution_count": 161,
   "metadata": {},
   "outputs": [
    {
     "data": {
      "text/html": [
       "<div>\n",
       "<style scoped>\n",
       "    .dataframe tbody tr th:only-of-type {\n",
       "        vertical-align: middle;\n",
       "    }\n",
       "\n",
       "    .dataframe tbody tr th {\n",
       "        vertical-align: top;\n",
       "    }\n",
       "\n",
       "    .dataframe thead th {\n",
       "        text-align: right;\n",
       "    }\n",
       "</style>\n",
       "<table border=\"1\" class=\"dataframe\">\n",
       "  <thead>\n",
       "    <tr style=\"text-align: right;\">\n",
       "      <th></th>\n",
       "      <th>Accuracy</th>\n",
       "      <th>AUC</th>\n",
       "      <th>Recall</th>\n",
       "      <th>Prec.</th>\n",
       "      <th>F1</th>\n",
       "      <th>Kappa</th>\n",
       "    </tr>\n",
       "  </thead>\n",
       "  <tbody>\n",
       "    <tr>\n",
       "      <th>0</th>\n",
       "      <td>0.8579</td>\n",
       "      <td>0.9108</td>\n",
       "      <td>0.6711</td>\n",
       "      <td>0.7634</td>\n",
       "      <td>0.7143</td>\n",
       "      <td>0.6202</td>\n",
       "    </tr>\n",
       "    <tr>\n",
       "      <th>1</th>\n",
       "      <td>0.8579</td>\n",
       "      <td>0.9166</td>\n",
       "      <td>0.6533</td>\n",
       "      <td>0.7778</td>\n",
       "      <td>0.7101</td>\n",
       "      <td>0.6170</td>\n",
       "    </tr>\n",
       "    <tr>\n",
       "      <th>2</th>\n",
       "      <td>0.8526</td>\n",
       "      <td>0.9082</td>\n",
       "      <td>0.6400</td>\n",
       "      <td>0.7680</td>\n",
       "      <td>0.6982</td>\n",
       "      <td>0.6017</td>\n",
       "    </tr>\n",
       "    <tr>\n",
       "      <th>3</th>\n",
       "      <td>0.8632</td>\n",
       "      <td>0.9157</td>\n",
       "      <td>0.7067</td>\n",
       "      <td>0.7626</td>\n",
       "      <td>0.7336</td>\n",
       "      <td>0.6417</td>\n",
       "    </tr>\n",
       "    <tr>\n",
       "      <th>4</th>\n",
       "      <td>0.8381</td>\n",
       "      <td>0.8877</td>\n",
       "      <td>0.5906</td>\n",
       "      <td>0.7458</td>\n",
       "      <td>0.6592</td>\n",
       "      <td>0.5549</td>\n",
       "    </tr>\n",
       "    <tr>\n",
       "      <th>5</th>\n",
       "      <td>0.8292</td>\n",
       "      <td>0.8923</td>\n",
       "      <td>0.6107</td>\n",
       "      <td>0.7054</td>\n",
       "      <td>0.6547</td>\n",
       "      <td>0.5420</td>\n",
       "    </tr>\n",
       "    <tr>\n",
       "      <th>6</th>\n",
       "      <td>0.8399</td>\n",
       "      <td>0.8861</td>\n",
       "      <td>0.6376</td>\n",
       "      <td>0.7252</td>\n",
       "      <td>0.6786</td>\n",
       "      <td>0.5725</td>\n",
       "    </tr>\n",
       "    <tr>\n",
       "      <th>7</th>\n",
       "      <td>0.8808</td>\n",
       "      <td>0.9018</td>\n",
       "      <td>0.6913</td>\n",
       "      <td>0.8306</td>\n",
       "      <td>0.7546</td>\n",
       "      <td>0.6767</td>\n",
       "    </tr>\n",
       "    <tr>\n",
       "      <th>8</th>\n",
       "      <td>0.8648</td>\n",
       "      <td>0.9048</td>\n",
       "      <td>0.7047</td>\n",
       "      <td>0.7664</td>\n",
       "      <td>0.7343</td>\n",
       "      <td>0.6438</td>\n",
       "    </tr>\n",
       "    <tr>\n",
       "      <th>9</th>\n",
       "      <td>0.8683</td>\n",
       "      <td>0.9214</td>\n",
       "      <td>0.6913</td>\n",
       "      <td>0.7863</td>\n",
       "      <td>0.7357</td>\n",
       "      <td>0.6485</td>\n",
       "    </tr>\n",
       "    <tr>\n",
       "      <th>Mean</th>\n",
       "      <td>0.8553</td>\n",
       "      <td>0.9046</td>\n",
       "      <td>0.6597</td>\n",
       "      <td>0.7631</td>\n",
       "      <td>0.7073</td>\n",
       "      <td>0.6119</td>\n",
       "    </tr>\n",
       "    <tr>\n",
       "      <th>SD</th>\n",
       "      <td>0.0149</td>\n",
       "      <td>0.0118</td>\n",
       "      <td>0.0380</td>\n",
       "      <td>0.0323</td>\n",
       "      <td>0.0324</td>\n",
       "      <td>0.0416</td>\n",
       "    </tr>\n",
       "  </tbody>\n",
       "</table>\n",
       "</div>"
      ],
      "text/plain": [
       "      Accuracy     AUC  Recall   Prec.      F1   Kappa\n",
       "0       0.8579  0.9108  0.6711  0.7634  0.7143  0.6202\n",
       "1       0.8579  0.9166  0.6533  0.7778  0.7101  0.6170\n",
       "2       0.8526  0.9082  0.6400  0.7680  0.6982  0.6017\n",
       "3       0.8632  0.9157  0.7067  0.7626  0.7336  0.6417\n",
       "4       0.8381  0.8877  0.5906  0.7458  0.6592  0.5549\n",
       "5       0.8292  0.8923  0.6107  0.7054  0.6547  0.5420\n",
       "6       0.8399  0.8861  0.6376  0.7252  0.6786  0.5725\n",
       "7       0.8808  0.9018  0.6913  0.8306  0.7546  0.6767\n",
       "8       0.8648  0.9048  0.7047  0.7664  0.7343  0.6438\n",
       "9       0.8683  0.9214  0.6913  0.7863  0.7357  0.6485\n",
       "Mean    0.8553  0.9046  0.6597  0.7631  0.7073  0.6119\n",
       "SD      0.0149  0.0118  0.0380  0.0323  0.0324  0.0416"
      ]
     },
     "metadata": {},
     "output_type": "display_data"
    }
   ],
   "source": [
    "tuned = tune_model('lightgbm', optimize='AUC', n_iter=100)"
   ]
  },
  {
   "cell_type": "markdown",
   "metadata": {},
   "source": [
    "#### Анализ полученной модели"
   ]
  },
  {
   "cell_type": "code",
   "execution_count": 162,
   "metadata": {},
   "outputs": [
    {
     "data": {
      "image/png": "[encoded data removed]",
      "text/plain": [
       "<Figure size 576x396 with 1 Axes>"
      ]
     },
     "metadata": {},
     "output_type": "display_data"
    }
   ],
   "source": [
    "# ROC-AUC curve\n",
    "plot_model(tuned)"
   ]
  },
  {
   "cell_type": "code",
   "execution_count": 163,
   "metadata": {},
   "outputs": [
    {
     "data": {
      "image/png": "[encoded data removed]",
      "text/plain": [
       "<Figure size 576x360 with 1 Axes>"
      ]
     },
     "metadata": {},
     "output_type": "display_data"
    }
   ],
   "source": [
    "plot_model(tuned, plot ='feature')"
   ]
  },
  {
   "cell_type": "markdown",
   "metadata": {},
   "source": [
    "Саммыми ценными признаками являются `with_us` и `type`.  "
   ]
  },
  {
   "cell_type": "code",
   "execution_count": 164,
   "metadata": {
    "scrolled": true
   },
   "outputs": [
    {
     "data": {
      "image/png": "[encoded data removed]",
      "text/plain": [
       "<Figure size 576x396 with 1 Axes>"
      ]
     },
     "metadata": {},
     "output_type": "display_data"
    }
   ],
   "source": [
    "# Precision Recall curve\n",
    "\n",
    "plot_model(tuned, plot ='pr')"
   ]
  },
  {
   "cell_type": "code",
   "execution_count": 165,
   "metadata": {},
   "outputs": [
    {
     "data": {
      "text/html": [
       "<div>\n",
       "<style scoped>\n",
       "    .dataframe tbody tr th:only-of-type {\n",
       "        vertical-align: middle;\n",
       "    }\n",
       "\n",
       "    .dataframe tbody tr th {\n",
       "        vertical-align: top;\n",
       "    }\n",
       "\n",
       "    .dataframe thead th {\n",
       "        text-align: right;\n",
       "    }\n",
       "</style>\n",
       "<table border=\"1\" class=\"dataframe\">\n",
       "  <thead>\n",
       "    <tr style=\"text-align: right;\">\n",
       "      <th></th>\n",
       "      <th>Parameters</th>\n",
       "    </tr>\n",
       "  </thead>\n",
       "  <tbody>\n",
       "    <tr>\n",
       "      <th>boosting_type</th>\n",
       "      <td>gbdt</td>\n",
       "    </tr>\n",
       "    <tr>\n",
       "      <th>class_weight</th>\n",
       "      <td>None</td>\n",
       "    </tr>\n",
       "    <tr>\n",
       "      <th>colsample_bytree</th>\n",
       "      <td>1</td>\n",
       "    </tr>\n",
       "    <tr>\n",
       "      <th>importance_type</th>\n",
       "      <td>split</td>\n",
       "    </tr>\n",
       "    <tr>\n",
       "      <th>learning_rate</th>\n",
       "      <td>0.6</td>\n",
       "    </tr>\n",
       "    <tr>\n",
       "      <th>max_depth</th>\n",
       "      <td>10</td>\n",
       "    </tr>\n",
       "    <tr>\n",
       "      <th>min_child_samples</th>\n",
       "      <td>20</td>\n",
       "    </tr>\n",
       "    <tr>\n",
       "      <th>min_child_weight</th>\n",
       "      <td>0.001</td>\n",
       "    </tr>\n",
       "    <tr>\n",
       "      <th>min_split_gain</th>\n",
       "      <td>0.1</td>\n",
       "    </tr>\n",
       "    <tr>\n",
       "      <th>n_estimators</th>\n",
       "      <td>70</td>\n",
       "    </tr>\n",
       "    <tr>\n",
       "      <th>n_jobs</th>\n",
       "      <td>-1</td>\n",
       "    </tr>\n",
       "    <tr>\n",
       "      <th>num_leaves</th>\n",
       "      <td>20</td>\n",
       "    </tr>\n",
       "    <tr>\n",
       "      <th>objective</th>\n",
       "      <td>None</td>\n",
       "    </tr>\n",
       "    <tr>\n",
       "      <th>random_state</th>\n",
       "      <td>3732</td>\n",
       "    </tr>\n",
       "    <tr>\n",
       "      <th>reg_alpha</th>\n",
       "      <td>0.1</td>\n",
       "    </tr>\n",
       "    <tr>\n",
       "      <th>reg_lambda</th>\n",
       "      <td>0.3</td>\n",
       "    </tr>\n",
       "    <tr>\n",
       "      <th>silent</th>\n",
       "      <td>True</td>\n",
       "    </tr>\n",
       "    <tr>\n",
       "      <th>subsample</th>\n",
       "      <td>1</td>\n",
       "    </tr>\n",
       "    <tr>\n",
       "      <th>subsample_for_bin</th>\n",
       "      <td>200000</td>\n",
       "    </tr>\n",
       "    <tr>\n",
       "      <th>subsample_freq</th>\n",
       "      <td>0</td>\n",
       "    </tr>\n",
       "  </tbody>\n",
       "</table>\n",
       "</div>"
      ],
      "text/plain": [
       "                  Parameters\n",
       "boosting_type           gbdt\n",
       "class_weight            None\n",
       "colsample_bytree           1\n",
       "importance_type        split\n",
       "learning_rate            0.6\n",
       "max_depth                 10\n",
       "min_child_samples         20\n",
       "min_child_weight       0.001\n",
       "min_split_gain           0.1\n",
       "n_estimators              70\n",
       "n_jobs                    -1\n",
       "num_leaves                20\n",
       "objective               None\n",
       "random_state            3732\n",
       "reg_alpha                0.1\n",
       "reg_lambda               0.3\n",
       "silent                  True\n",
       "subsample                  1\n",
       "subsample_for_bin     200000\n",
       "subsample_freq             0"
      ]
     },
     "metadata": {},
     "output_type": "display_data"
    }
   ],
   "source": [
    "# Model params\n",
    "\n",
    "plot_model(tuned, plot = 'parameter')"
   ]
  },
  {
   "cell_type": "code",
   "execution_count": 166,
   "metadata": {},
   "outputs": [
    {
     "data": {
      "image/png": "[encoded data removed]",
      "text/plain": [
       "<Figure size 576x396 with 2 Axes>"
      ]
     },
     "metadata": {},
     "output_type": "display_data"
    }
   ],
   "source": [
    "# Classification report\n",
    "\n",
    "plot_model(tuned, plot = 'class_report')"
   ]
  },
  {
   "cell_type": "markdown",
   "metadata": {},
   "source": [
    "Протестируем нашу модель на тестовой выборке. "
   ]
  },
  {
   "cell_type": "code",
   "execution_count": 167,
   "metadata": {
    "scrolled": true
   },
   "outputs": [
    {
     "data": {
      "text/html": [
       "<div>\n",
       "<style scoped>\n",
       "    .dataframe tbody tr th:only-of-type {\n",
       "        vertical-align: middle;\n",
       "    }\n",
       "\n",
       "    .dataframe tbody tr th {\n",
       "        vertical-align: top;\n",
       "    }\n",
       "\n",
       "    .dataframe thead th {\n",
       "        text-align: right;\n",
       "    }\n",
       "</style>\n",
       "<table border=\"1\" class=\"dataframe\">\n",
       "  <thead>\n",
       "    <tr style=\"text-align: right;\">\n",
       "      <th></th>\n",
       "      <th>Model</th>\n",
       "      <th>Accuracy</th>\n",
       "      <th>AUC</th>\n",
       "      <th>Recall</th>\n",
       "      <th>Prec.</th>\n",
       "      <th>F1</th>\n",
       "      <th>Kappa</th>\n",
       "    </tr>\n",
       "  </thead>\n",
       "  <tbody>\n",
       "    <tr>\n",
       "      <th>0</th>\n",
       "      <td>Light Gradient Boosting Machine</td>\n",
       "      <td>0.8556</td>\n",
       "      <td>0.8997</td>\n",
       "      <td>0.6649</td>\n",
       "      <td>0.7607</td>\n",
       "      <td>0.7096</td>\n",
       "      <td>0.6141</td>\n",
       "    </tr>\n",
       "  </tbody>\n",
       "</table>\n",
       "</div>"
      ],
      "text/plain": [
       "                             Model  Accuracy     AUC  Recall   Prec.      F1  \\\n",
       "0  Light Gradient Boosting Machine    0.8556  0.8997  0.6649  0.7607  0.7096   \n",
       "\n",
       "    Kappa  \n",
       "0  0.6141  "
      ]
     },
     "metadata": {},
     "output_type": "display_data"
    }
   ],
   "source": [
    "predicts = predict_model(tuned)"
   ]
  },
  {
   "cell_type": "markdown",
   "metadata": {},
   "source": [
    "AUC ~= 0.9, Accuracy в это время = 85%. \n",
    "\n",
    "Значения Recall / Precision = 0.66/0.76"
   ]
  },
  {
   "cell_type": "markdown",
   "metadata": {},
   "source": [
    "# Общий вывод\n",
    "\n",
    "\n",
    "Перед нами стояла цель построения модели прогнозирования ухода клиент. Для этого нам были переданы данные, содержащие информацию об абонентах, их договорах, данные об оплате. \n",
    "\n",
    "Ключевым параметров является параметр \"Churn\", который отсутствовал в изначальных данных. Этот признак был извлечён из даты окончания договора. \n",
    "\n",
    "Признаком успешной модели является значение AUC на тестовой выборке > 0.88 (6 sp).\n",
    "\n",
    "В процессе работы с данными была выполнена следующая работа:\n",
    "* Поиск повторяющихся значений и их удаление;\n",
    "* Поиск и анализ пропусков. На данном этапе у нас появились пропуски из-за объединения талбиц. Некоторые пользователи являлись пользователями только интернета или только телефона;\n",
    "* Конвертация типов данных. Некоторые из признаков имели некорректный тип данных. \n",
    "    \n",
    "Далее, был произведён анализ данных, который состоял из отдельного анализа категоиральных признаков, числовых признаков, а также анализ целевой переменной. \n",
    "\n",
    "По результатам анализа можно сказать, что:\n",
    "* Почти все признаки из полученных являются категориальными;\n",
    "* Пожилые абоненты являтеся малой частью клиентов, однако процент оттока у них выше;\n",
    "* Люди без партнёров и без иждивенцев (детей) более склонны к уходу;\n",
    "* Абоненты, использующие оптическое волокно, чаще уходят. Может быть связано с высокой конкуренцией, так как в доме могут быть несколько операторов;\n",
    "* Стриминговые сервисы не влияют на отток, однако люди, использующие остальные услуги реже уходят;\n",
    "* Стоит обратить внимание на клиентов с помесячной оплатой. Процент оттока у них выше, чем при других контрактах;\n",
    "* Основным признаком для определения оттока служит сумма месячной оплаты.\n",
    "\n",
    "В процессе работы были выявлены следующие проблемы:\n",
    "* Отсутствовал целевой признак - churn.\n",
    "    * *решение: Использовали дату окончания договора для создания признака*\n",
    "   \n",
    "* Несбалансированная выборка - в наших данных соотношение ушедших клиентов и оставшихся не равное. Это влияет на качество обучения модели, а также на объективность метрик:\n",
    "    * *решение 1: Увеличить кол-во данных и, если соотношение не изменится, сэмплированием сбалансировать данные*\n",
    "\n",
    "Для построения модели мы добавили новый признак - сколько дней клиент с нами, а также убрали нерелевантные признаки - даты. \n",
    "\n",
    "Лучшие показатели на наших данных показала модель LightGBM, результаты которой на тестовой выборке:\n",
    "\n",
    "* Accuracy = 0.85\n",
    "* AUC ~= 0.9\n",
    "* Recall/Precision = 0.66/0.76\n",
    "\n",
    "Данные показатели соответствуют поставленной задачи и могут быть интерпретированы как:\n",
    "* Модель успешно предсказала отток клиентов в 85% случаев (Accuracy)\n",
    "* Precision - процент реально ушедших клиентов от общего числа предсказанных уходов = 66%\n",
    "* Recall - процент реально ушедших клиентов от всех предсказаний = 76%\n",
    "\n"
   ]
  }
 ],
 "metadata": {
  "kernelspec": {
   "display_name": "Python 3",
   "language": "python",
   "name": "python3"
  },
  "language_info": {
   "codemirror_mode": {
    "name": "ipython",
    "version": 3
   },
   "file_extension": ".py",
   "mimetype": "text/x-python",
   "name": "python",
   "nbconvert_exporter": "python",
   "pygments_lexer": "ipython3",
   "version": "3.7.4"
  }
 },
 "nbformat": 4,
 "nbformat_minor": 4
}